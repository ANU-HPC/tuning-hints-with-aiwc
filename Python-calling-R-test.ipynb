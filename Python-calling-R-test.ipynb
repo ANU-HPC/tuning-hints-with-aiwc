{
 "cells": [
  {
   "cell_type": "code",
   "execution_count": 1,
   "metadata": {},
   "outputs": [],
   "source": [
    "%load_ext rpy2.ipython"
   ]
  },
  {
   "cell_type": "code",
   "execution_count": 2,
   "metadata": {},
   "outputs": [],
   "source": [
    "import warnings\n",
    "warnings.filterwarnings('ignore')"
   ]
  },
  {
   "cell_type": "code",
   "execution_count": 5,
   "metadata": {},
   "outputs": [
    {
     "data": {
      "text/plain": [
       "array([0], dtype=int32)"
      ]
     },
     "execution_count": 5,
     "metadata": {},
     "output_type": "execute_result"
    }
   ],
   "source": [
    "%R require(ggplot2); require(tidyr)"
   ]
  },
  {
   "cell_type": "code",
   "execution_count": 8,
   "metadata": {},
   "outputs": [],
   "source": [
    "import numpy as np\n",
    "import pandas as pd\n",
    "np.random.seed(42)\n",
    "# Make a pandas DataFrame\n",
    "df = pd.DataFrame(np.random.normal(0,1,size=(100, 3)), columns=list('ABC'))\n",
    "df['C'] = df['C'] + 2"
   ]
  },
  {
   "cell_type": "code",
   "execution_count": 9,
   "metadata": {},
   "outputs": [
    {
     "name": "stdout",
     "output_type": "stream",
     "text": [
      "\n",
      "Error in df %>% gather(\"Category\", \"X\") %>% ggplot(aes(x = Category, y = X,  : \n",
      "  could not find function \"%>%\"\n"
     ]
    }
   ],
   "source": [
    "%%R -i df\n",
    "df %>% \n",
    "  gather(\"Category\", \"X\") %>%\n",
    "  ggplot(aes(x = Category, y = X, fill = Category)) +\n",
    "    geom_violin() +\n",
    "    stat_summary(fun.y=mean, color='black', geom='point', size = 3) +\n",
    "    labs(title = \"Violin plot\",\n",
    "         subtitle = \"Means indicated as black dots\",\n",
    "         captions = \"Numbers generated in Numpy\") +\n",
    "    theme_bw()"
   ]
  }
 ],
 "metadata": {
  "kernelspec": {
   "display_name": "Python 3",
   "language": "python",
   "name": "python3"
  },
  "language_info": {
   "codemirror_mode": {
    "name": "ipython",
    "version": 3
   },
   "file_extension": ".py",
   "mimetype": "text/x-python",
   "name": "python",
   "nbconvert_exporter": "python",
   "pygments_lexer": "ipython3",
   "version": "3.5.2"
  },
  "toc": {
   "base_numbering": 1,
   "nav_menu": {},
   "number_sections": false,
   "sideBar": false,
   "skip_h1_title": false,
   "title_cell": "Table of Contents",
   "title_sidebar": "Contents",
   "toc_cell": false,
   "toc_position": {},
   "toc_section_display": false,
   "toc_window_display": false
  }
 },
 "nbformat": 4,
 "nbformat_minor": 2
}
