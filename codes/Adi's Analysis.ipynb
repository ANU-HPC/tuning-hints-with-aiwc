{
 "cells": [
  {
   "cell_type": "markdown",
   "metadata": {},
   "source": [
    "# CUDA C Best Practices Guide -- Shared Memory Optimisations"
   ]
  },
  {
   "cell_type": "markdown",
   "metadata": {},
   "source": [
    "Change the following to run the same analysis on a different problem size:"
   ]
  },
  {
   "cell_type": "code",
   "execution_count": 1,
   "metadata": {},
   "outputs": [
    {
     "name": "stdout",
     "output_type": "stream",
     "text": [
      "env: OCLGRIND=/oclgrind\n",
      "env: PROBLEM_SIZE=large\n"
     ]
    }
   ],
   "source": [
    "%env OCLGRIND=/oclgrind\n",
    "# %env PROBLEM_SIZE=tiny\n",
    "# %env PROBLEM_SIZE=small\n",
    "# %env PROBLEM_SIZE=medium\n",
    "%env PROBLEM_SIZE=large\n",
    "\n",
    "# set-up compulsory stuff\n",
    "%load_ext rpy2.ipython"
   ]
  },
  {
   "cell_type": "markdown",
   "metadata": {},
   "source": [
    "## Generate runtime data"
   ]
  },
  {
   "cell_type": "code",
   "execution_count": 2,
   "metadata": {
    "scrolled": true
   },
   "outputs": [
    {
     "name": "stdout",
     "output_type": "stream",
     "text": [
      "rm -f sbd aiwc-tester lsb.*.r0* aiwc_*.csv aiwc_*_itb.log Rplots.pdf cpu-loop-block cpu-mandelbrot-vectorization\n",
      "g++ cpu-loop-blocking.cpp -o cpu-loop-block -lOpenCL -llsb -L/libscibench/lib -I/libscibench/include -std=c++11\n",
      "g++ cpu-mandelbrot-vectorization.cpp -o cpu-mandelbrot-vectorization -lOpenCL -llsb -L/libscibench/lib -I/libscibench/include -std=c++11\n",
      "g++ aiwc-tester.cpp -o aiwc-tester -lOpenCL -llsb -L/libscibench/lib -I/libscibench/include -std=c++11\n"
     ]
    }
   ],
   "source": [
    "! make clean\n",
    "! make"
   ]
  },
  {
   "cell_type": "markdown",
   "metadata": {},
   "source": [
    "Run the experiment and collect runtime data"
   ]
  },
  {
   "cell_type": "code",
   "execution_count": 3,
   "metadata": {},
   "outputs": [
    {
     "name": "stdout",
     "output_type": "stream",
     "text": [
      "//shared memory in matrix multiplication ported from the [cuda c best practices guide](https://docs.nvidia.com/cuda/cuda-c-best-practices-guide/index.html#shared-memory-in-matrix-multiplication-c-aa)\r\n",
      "\r\n",
      "__kernel void simpleMultiply(__global float *a,__global float *b,__global float *c, int N)\r\n",
      "{\r\n",
      "    int row = get_group_id(1) * get_local_size(1) + get_local_id(1);//blockIdx.y * blockDim.y + threadIdx.y;\r\n",
      "    int col = get_group_id(0) * get_local_size(0) + get_local_id(0);//blockIdx.x * blockDim.x + threadIdx.x;\r\n",
      "    float sum = 0.0f;\r\n",
      "    for (int i = 0; i < TILE_DIM; i++) {\r\n",
      "        sum += a[row*TILE_DIM+i] * b[i*N+col];\r\n",
      "    }\r\n",
      "    c[row*TILE_DIM+col] = sum;\r\n",
      "}\r\n",
      "\r\n",
      "__kernel void coalescedMultiply(__global float* a, __global float* b, __global float* c, int N)\r\n",
      "{\r\n",
      "    __local float aTile[TILE_DIM][TILE_DIM];\r\n",
      "    int row = get_group_id(1) * get_local_size(1) + get_local_id(1);//blockIdx.y * blockDim.y + threadIdx.y;\r\n",
      "    int col = get_group_id(0) * get_local_size(0) + get_local_id(0);//blockIdx.x * blockDim.x + threadIdx.x;\r\n",
      "    float sum = 0.0f;\r\n",
      "    aTile[get_local_id(1)][get_local_id(0)] = a[row*TILE_DIM+get_local_id(0)];\r\n",
      "    for (int i = 0; i < TILE_DIM; i++) {\r\n",
      "        sum += aTile[get_local_id(1)][i] * b[i*N+col];\r\n",
      "    }\r\n",
      "    c[row*N+col] = sum;\r\n",
      "}\r\n",
      "\r\n",
      "__kernel void sharedABMultiply(__global float *a, __global float* b, __global float *c, int N)\r\n",
      "{\r\n",
      "    __local float aTile[TILE_DIM][TILE_DIM],\r\n",
      "                  bTile[TILE_DIM][TILE_DIM];\r\n",
      "    int row = get_group_id(1) * get_local_size(1) + get_local_id(1);\r\n",
      "    int col = get_group_id(0) * get_local_size(0) + get_local_id(0);\r\n",
      "    float sum = 0.0f;\r\n",
      "    aTile[get_local_id(1)][get_local_id(0)] = a[row*TILE_DIM+get_local_id(0)];\r\n",
      "    bTile[get_local_id(1)][get_local_id(0)] = b[get_local_id(1)*N+col];\r\n",
      "    barrier(CLK_LOCAL_MEM_FENCE);\r\n",
      "    for (int i = 0; i < TILE_DIM; i++) {\r\n",
      "        sum += aTile[get_local_id(1)][i]* bTile[i][get_local_id(0)];\r\n",
      "    }\r\n",
      "    c[row*N+col] = sum;\r\n",
      "}\r\n",
      "\r\n",
      "\r\n"
     ]
    }
   ],
   "source": [
    "! cat ./gpu-strided-global-memory-access-unoptimised.cl"
   ]
  },
  {
   "cell_type": "code",
   "execution_count": 4,
   "metadata": {
    "scrolled": false
   },
   "outputs": [
    {
     "name": "stdout",
     "output_type": "stream",
     "text": [
      "***** LSB_Init >gpu_memory_access< writing to >lsb.gpu_memory_access.r0< *****\n",
      "Attempting kernel: ./gpu-strided-global-memory-access-unoptimised.cl with contents:\n",
      "//shared memory in matrix multiplication ported from the [cuda c best practices guide](https://docs.nvidia.com/cuda/cuda-c-best-practices-guide/index.html#shared-memory-in-matrix-multiplication-c-aa)\n",
      "\n",
      "__kernel void simpleMultiply(__global float *a,__global float *b,__global float *c, int N)\n",
      "{\n",
      "    int row = get_group_id(1) * get_local_size(1) + get_local_id(1);//blockIdx.y * blockDim.y + threadIdx.y;\n",
      "    int col = get_group_id(0) * get_local_size(0) + get_local_id(0);//blockIdx.x * blockDim.x + threadIdx.x;\n",
      "    float sum = 0.0f;\n",
      "    for (int i = 0; i < TILE_DIM; i++) {\n",
      "        sum += a[row*TILE_DIM+i] * b[i*N+col];\n",
      "    }\n",
      "    c[row*TILE_DIM+col] = sum;\n",
      "}\n",
      "\n",
      "__kernel void coalescedMultiply(__global float* a, __global float* b, __global float* c, int N)\n",
      "{\n",
      "    __local float aTile[TILE_DIM][TILE_DIM];\n",
      "    int row = get_group_id(1) * get_local_size(1) + get_local_id(1);//blockIdx.y * blockDim.y + threadIdx.y;\n",
      "    int col = get_group_id(0) * get_local_size(0) + get_local_id(0);//blockIdx.x * blockDim.x + threadIdx.x;\n",
      "    float sum = 0.0f;\n",
      "    aTile[get_local_id(1)][get_local_id(0)] = a[row*TILE_DIM+get_local_id(0)];\n",
      "    for (int i = 0; i < TILE_DIM; i++) {\n",
      "        sum += aTile[get_local_id(1)][i] * b[i*N+col];\n",
      "    }\n",
      "    c[row*N+col] = sum;\n",
      "}\n",
      "\n",
      "__kernel void sharedABMultiply(__global float *a, __global float* b, __global float *c, int N)\n",
      "{\n",
      "    __local float aTile[TILE_DIM][TILE_DIM],\n",
      "                  bTile[TILE_DIM][TILE_DIM];\n",
      "    int row = get_group_id(1) * get_local_size(1) + get_local_id(1);\n",
      "    int col = get_group_id(0) * get_local_size(0) + get_local_id(0);\n",
      "    float sum = 0.0f;\n",
      "    aTile[get_local_id(1)][get_local_id(0)] = a[row*TILE_DIM+get_local_id(0)];\n",
      "    bTile[get_local_id(1)][get_local_id(0)] = b[get_local_id(1)*N+col];\n",
      "    barrier(CLK_LOCAL_MEM_FENCE);\n",
      "    for (int i = 0; i < TILE_DIM; i++) {\n",
      "        sum += aTile[get_local_id(1)][i]* bTile[i][get_local_id(0)];\n",
      "    }\n",
      "    c[row*N+col] = sum;\n",
      "}\n",
      "\n",
      "\n",
      "\n",
      "M = 2048 N = 2048 total KiB = 16896\n",
      "Operating on a 2048x2048 matrix with a tile size 32...\n",
      "******* LSB_Finalize *******\n"
     ]
    }
   ],
   "source": [
    "! ./gpu-stride ./gpu-strided-global-memory-access-unoptimised.cl $PROBLEM_SIZE 0 0 runtime"
   ]
  },
  {
   "cell_type": "markdown",
   "metadata": {},
   "source": [
    "## Analyse runtimes data -- to ensure the OpenCL port of the cuda codes matches those shown in CUDA code-book"
   ]
  },
  {
   "cell_type": "code",
   "execution_count": 5,
   "metadata": {
    "scrolled": true
   },
   "outputs": [
    {
     "name": "stdout",
     "output_type": "stream",
     "text": [
      "     problem_size            kernel                        region  id  \\\n",
      "0           large          none_yet               host_side_setup   0   \n",
      "1           large          none_yet               kernel_creation   0   \n",
      "2           large          none_yet      device_side_buffer_setup   0   \n",
      "3           large    simpleMultiply  host_side_initialise_buffers   0   \n",
      "4           large    simpleMultiply          device_side_h2d_copy   0   \n",
      "5           large    simpleMultiply         simpleMultiply_kernel   0   \n",
      "6           large    simpleMultiply          device_side_d2h_copy   0   \n",
      "7           large    simpleMultiply  host_side_initialise_buffers   1   \n",
      "8           large    simpleMultiply          device_side_h2d_copy   1   \n",
      "9           large    simpleMultiply         simpleMultiply_kernel   1   \n",
      "10          large    simpleMultiply          device_side_d2h_copy   1   \n",
      "11          large    simpleMultiply  host_side_initialise_buffers   2   \n",
      "12          large    simpleMultiply          device_side_h2d_copy   2   \n",
      "13          large    simpleMultiply         simpleMultiply_kernel   2   \n",
      "14          large    simpleMultiply          device_side_d2h_copy   2   \n",
      "15          large    simpleMultiply  host_side_initialise_buffers   3   \n",
      "16          large    simpleMultiply          device_side_h2d_copy   3   \n",
      "17          large    simpleMultiply         simpleMultiply_kernel   3   \n",
      "18          large    simpleMultiply          device_side_d2h_copy   3   \n",
      "19          large    simpleMultiply  host_side_initialise_buffers   4   \n",
      "20          large    simpleMultiply          device_side_h2d_copy   4   \n",
      "21          large    simpleMultiply         simpleMultiply_kernel   4   \n",
      "22          large    simpleMultiply          device_side_d2h_copy   4   \n",
      "23          large    simpleMultiply  host_side_initialise_buffers   5   \n",
      "24          large    simpleMultiply          device_side_h2d_copy   5   \n",
      "25          large    simpleMultiply         simpleMultiply_kernel   5   \n",
      "26          large    simpleMultiply          device_side_d2h_copy   5   \n",
      "27          large    simpleMultiply  host_side_initialise_buffers   6   \n",
      "28          large    simpleMultiply          device_side_h2d_copy   6   \n",
      "29          large    simpleMultiply         simpleMultiply_kernel   6   \n",
      "...           ...               ...                           ...  ..   \n",
      "1173        large  sharedABMultiply       sharedABMultiply_kernel  92   \n",
      "1174        large  sharedABMultiply          device_side_d2h_copy  92   \n",
      "1175        large  sharedABMultiply  host_side_initialise_buffers  93   \n",
      "1176        large  sharedABMultiply          device_side_h2d_copy  93   \n",
      "1177        large  sharedABMultiply       sharedABMultiply_kernel  93   \n",
      "1178        large  sharedABMultiply          device_side_d2h_copy  93   \n",
      "1179        large  sharedABMultiply  host_side_initialise_buffers  94   \n",
      "1180        large  sharedABMultiply          device_side_h2d_copy  94   \n",
      "1181        large  sharedABMultiply       sharedABMultiply_kernel  94   \n",
      "1182        large  sharedABMultiply          device_side_d2h_copy  94   \n",
      "1183        large  sharedABMultiply  host_side_initialise_buffers  95   \n",
      "1184        large  sharedABMultiply          device_side_h2d_copy  95   \n",
      "1185        large  sharedABMultiply       sharedABMultiply_kernel  95   \n",
      "1186        large  sharedABMultiply          device_side_d2h_copy  95   \n",
      "1187        large  sharedABMultiply  host_side_initialise_buffers  96   \n",
      "1188        large  sharedABMultiply          device_side_h2d_copy  96   \n",
      "1189        large  sharedABMultiply       sharedABMultiply_kernel  96   \n",
      "1190        large  sharedABMultiply          device_side_d2h_copy  96   \n",
      "1191        large  sharedABMultiply  host_side_initialise_buffers  97   \n",
      "1192        large  sharedABMultiply          device_side_h2d_copy  97   \n",
      "1193        large  sharedABMultiply       sharedABMultiply_kernel  97   \n",
      "1194        large  sharedABMultiply          device_side_d2h_copy  97   \n",
      "1195        large  sharedABMultiply  host_side_initialise_buffers  98   \n",
      "1196        large  sharedABMultiply          device_side_h2d_copy  98   \n",
      "1197        large  sharedABMultiply       sharedABMultiply_kernel  98   \n",
      "1198        large  sharedABMultiply          device_side_d2h_copy  98   \n",
      "1199        large  sharedABMultiply  host_side_initialise_buffers  99   \n",
      "1200        large  sharedABMultiply          device_side_h2d_copy  99   \n",
      "1201        large  sharedABMultiply       sharedABMultiply_kernel  99   \n",
      "1202        large  sharedABMultiply          device_side_d2h_copy  99   \n",
      "\n",
      "               time  overhead  \n",
      "0     715866.934570         0  \n",
      "1       1606.059570         0  \n",
      "2         12.778320         0  \n",
      "3     168514.857422         0  \n",
      "4       4039.285156         0  \n",
      "5        550.591797         0  \n",
      "6       2961.988281         0  \n",
      "7     162660.967773         0  \n",
      "8       3538.886719         0  \n",
      "9        542.111328         0  \n",
      "10      2664.652344         0  \n",
      "11    162701.782227         0  \n",
      "12      3450.810547         0  \n",
      "13       543.424805         0  \n",
      "14      2753.819336         0  \n",
      "15    162595.957031         0  \n",
      "16      3422.634766         0  \n",
      "17       538.076172         0  \n",
      "18      2790.650391         0  \n",
      "19    163024.890625         0  \n",
      "20      3411.666992         0  \n",
      "21       543.033203         0  \n",
      "22      2783.733398         0  \n",
      "23    162636.854492         0  \n",
      "24      3418.948242         0  \n",
      "25       540.843750         0  \n",
      "26      2793.142578         0  \n",
      "27    162595.264648         0  \n",
      "28      3415.647461         0  \n",
      "29       540.550781         0  \n",
      "...             ...       ...  \n",
      "1173     166.201172         0  \n",
      "1174    2794.078125         0  \n",
      "1175  160632.149414         0  \n",
      "1176    3404.293945         0  \n",
      "1177     168.342773         0  \n",
      "1178    2809.697266         0  \n",
      "1179  162641.191406         0  \n",
      "1180    3410.172852         0  \n",
      "1181     167.218750         0  \n",
      "1182    2796.684570         0  \n",
      "1183  162779.483398         0  \n",
      "1184    3401.316406         0  \n",
      "1185     167.771484         0  \n",
      "1186    2803.829102         0  \n",
      "1187  162578.021484         0  \n",
      "1188    3409.721680         0  \n",
      "1189     167.313477         0  \n",
      "1190    2807.215820         0  \n",
      "1191  162666.228516         0  \n",
      "1192    3415.561523         0  \n",
      "1193     167.031250         0  \n",
      "1194    2775.198242         0  \n",
      "1195  162639.367188         0  \n",
      "1196    3409.635742         0  \n",
      "1197     168.300781         0  \n",
      "1198    2790.035156         0  \n",
      "1199  162518.506836         0  \n",
      "1200    3409.906250         0  \n",
      "1201     166.820312         0  \n",
      "1202    2792.440430         0  \n",
      "\n",
      "[1203 rows x 6 columns]\n"
     ]
    }
   ],
   "source": [
    "import pandas as pd\n",
    "x = pd.read_csv('lsb.gpu_memory_access.r0', comment='#', sep=\"\\s+\")\n",
    "print(x)\n",
    "\n",
    "y = x[(x.region == 'simpleMultiply_kernel') | (x.region == 'coalescedMultiply_kernel') | (x.region == 'sharedABMultiply_kernel')]\n",
    "\n"
   ]
  },
  {
   "cell_type": "markdown",
   "metadata": {},
   "source": [
    "The distributions of 100 runtimes for each of the 3 kernels of memory striding for GPU optimisations are shown below."
   ]
  },
  {
   "cell_type": "code",
   "execution_count": 6,
   "metadata": {
    "scrolled": true
   },
   "outputs": [
    {
     "data": {
      "image/png": "[encoded data removed]"
     },
     "metadata": {},
     "output_type": "display_data"
    }
   ],
   "source": [
    "%%R -i y -w 800 -h 300 -u px\n",
    "\n",
    "library(ggplot2)\n",
    "pp = ggplot(y, aes_string(x='time', colour = 'region')) + geom_histogram(binwidth=.5)\n",
    "print(pp)"
   ]
  },
  {
   "cell_type": "markdown",
   "metadata": {},
   "source": [
    "**NOTE:** Do these distributions appear suspect? Perhaps move the timing regions to outside of the loop and divide by iterations -- in the C host source"
   ]
  },
  {
   "cell_type": "code",
   "execution_count": 7,
   "metadata": {
    "scrolled": false
   },
   "outputs": [
    {
     "data": {
      "text/html": [
       "<div>\n",
       "<style scoped>\n",
       "    .dataframe tbody tr th:only-of-type {\n",
       "        vertical-align: middle;\n",
       "    }\n",
       "\n",
       "    .dataframe tbody tr th {\n",
       "        vertical-align: top;\n",
       "    }\n",
       "\n",
       "    .dataframe thead th {\n",
       "        text-align: right;\n",
       "    }\n",
       "</style>\n",
       "<table border=\"1\" class=\"dataframe\">\n",
       "  <thead>\n",
       "    <tr style=\"text-align: right;\">\n",
       "      <th></th>\n",
       "      <th>time (ms)</th>\n",
       "    </tr>\n",
       "    <tr>\n",
       "      <th>region</th>\n",
       "      <th></th>\n",
       "    </tr>\n",
       "  </thead>\n",
       "  <tbody>\n",
       "    <tr>\n",
       "      <th>coalescedMultiply_kernel</th>\n",
       "      <td>290.076660</td>\n",
       "    </tr>\n",
       "    <tr>\n",
       "      <th>sharedABMultiply_kernel</th>\n",
       "      <td>167.611817</td>\n",
       "    </tr>\n",
       "    <tr>\n",
       "      <th>simpleMultiply_kernel</th>\n",
       "      <td>539.660644</td>\n",
       "    </tr>\n",
       "  </tbody>\n",
       "</table>\n",
       "</div>"
      ],
      "text/plain": [
       "                           time (ms)\n",
       "region                              \n",
       "coalescedMultiply_kernel  290.076660\n",
       "sharedABMultiply_kernel   167.611817\n",
       "simpleMultiply_kernel     539.660644"
      ]
     },
     "execution_count": 7,
     "metadata": {},
     "output_type": "execute_result"
    }
   ],
   "source": [
    "z = y.drop(['id','overhead'],axis=1)\n",
    "z = z.rename(columns={'time':'time (ms)'})\n",
    "z.groupby([\"region\"]).median()"
   ]
  },
  {
   "cell_type": "markdown",
   "metadata": {},
   "source": [
    "## Generate AIWC feature-space per kernel"
   ]
  },
  {
   "cell_type": "code",
   "execution_count": 8,
   "metadata": {
    "scrolled": true
   },
   "outputs": [
    {
     "name": "stdout",
     "output_type": "stream",
     "text": [
      "rm -f sbd aiwc-tester lsb.*.r0* aiwc_*.csv aiwc_*_itb.log Rplots.pdf cpu-loop-block cpu-mandelbrot-vectorization\n",
      "g++ cpu-loop-blocking.cpp -o cpu-loop-block -lOpenCL -llsb -L/libscibench/lib -I/libscibench/include -std=c++11\n",
      "g++ cpu-mandelbrot-vectorization.cpp -o cpu-mandelbrot-vectorization -lOpenCL -llsb -L/libscibench/lib -I/libscibench/include -std=c++11\n",
      "g++ aiwc-tester.cpp -o aiwc-tester -lOpenCL -llsb -L/libscibench/lib -I/libscibench/include -std=c++11\n",
      "***** LSB_Init >gpu_memory_access< writing to >lsb.gpu_memory_access.r0< *****\n",
      "Attempting kernel: ./gpu-strided-global-memory-access-unoptimised.cl with contents:\n",
      "//shared memory in matrix multiplication ported from the [cuda c best practices guide](https://docs.nvidia.com/cuda/cuda-c-best-practices-guide/index.html#shared-memory-in-matrix-multiplication-c-aa)\n",
      "\n",
      "__kernel void simpleMultiply(__global float *a,__global float *b,__global float *c, int N)\n",
      "{\n",
      "    int row = get_group_id(1) * get_local_size(1) + get_local_id(1);//blockIdx.y * blockDim.y + threadIdx.y;\n",
      "    int col = get_group_id(0) * get_local_size(0) + get_local_id(0);//blockIdx.x * blockDim.x + threadIdx.x;\n",
      "    float sum = 0.0f;\n",
      "    for (int i = 0; i < TILE_DIM; i++) {\n",
      "        sum += a[row*TILE_DIM+i] * b[i*N+col];\n",
      "    }\n",
      "    c[row*TILE_DIM+col] = sum;\n",
      "}\n",
      "\n",
      "__kernel void coalescedMultiply(__global float* a, __global float* b, __global float* c, int N)\n",
      "{\n",
      "    __local float aTile[TILE_DIM][TILE_DIM];\n",
      "    int row = get_group_id(1) * get_local_size(1) + get_local_id(1);//blockIdx.y * blockDim.y + threadIdx.y;\n",
      "    int col = get_group_id(0) * get_local_size(0) + get_local_id(0);//blockIdx.x * blockDim.x + threadIdx.x;\n",
      "    float sum = 0.0f;\n",
      "    aTile[get_local_id(1)][get_local_id(0)] = a[row*TILE_DIM+get_local_id(0)];\n",
      "    for (int i = 0; i < TILE_DIM; i++) {\n",
      "        sum += aTile[get_local_id(1)][i] * b[i*N+col];\n",
      "    }\n",
      "    c[row*N+col] = sum;\n",
      "}\n",
      "\n",
      "__kernel void sharedABMultiply(__global float *a, __global float* b, __global float *c, int N)\n",
      "{\n",
      "    __local float aTile[TILE_DIM][TILE_DIM],\n",
      "                  bTile[TILE_DIM][TILE_DIM];\n",
      "    int row = get_group_id(1) * get_local_size(1) + get_local_id(1);\n",
      "    int col = get_group_id(0) * get_local_size(0) + get_local_id(0);\n",
      "    float sum = 0.0f;\n",
      "    aTile[get_local_id(1)][get_local_id(0)] = a[row*TILE_DIM+get_local_id(0)];\n",
      "    bTile[get_local_id(1)][get_local_id(0)] = b[get_local_id(1)*N+col];\n",
      "    barrier(CLK_LOCAL_MEM_FENCE);\n",
      "    for (int i = 0; i < TILE_DIM; i++) {\n",
      "        sum += aTile[get_local_id(1)][i]* bTile[i][get_local_id(0)];\n",
      "    }\n",
      "    c[row*N+col] = sum;\n",
      "}\n",
      "\n",
      "\n",
      "\n",
      "M = 2048 N = 2048 total KiB = 16896\n",
      "Operating on a 2048x2048 matrix with a tile size 32...\n",
      "Architecture-Independent Workload Characterization of kernel: simpleMultiply\n",
      "+----------------------------------------------------------------------------+\n",
      "|Compute Opcode Instruction Histogram                                        |\n",
      "+============================================================================+\n",
      "instruction: trunc count: 8388608\n",
      "instruction: shl count: 4194304\n",
      "instruction: add count: 415236096\n",
      "instruction: store count: 4194304\n",
      "instruction: icmp count: 138412032\n",
      "instruction: ret count: 4194304\n",
      "instruction: sext count: 272629760\n",
      "instruction: phi count: 276824064\n",
      "instruction: mul count: 142606336\n",
      "instruction: call count: 159383552\n",
      "instruction: br count: 276824064\n",
      "instruction: getelementptr count: 272629760\n",
      "instruction: load count: 268435456\n",
      "+----------------------------------------------------------------------------+\n",
      "|Compute Opcode Unique Opcodes required to cover 90% of Dynamic Instructions |\n",
      "+============================================================================+\n",
      "Unique Op Codes comprising of 90% of dynamic instructions:\n",
      "\tadd\n",
      "\tphi\n",
      "\tbr\n",
      "\tsext\n",
      "\tgetelementptr\n",
      "\tload\n",
      "\tcall\n",
      "\tmul\n",
      "Unique Opcodes required to cover 90% of Dynamic Instructions: 8\n",
      "Total Instruction Count: 2243952640\n",
      "+--------------------------------------------------------------------------+\n",
      "|Utilization                                                               |\n",
      "+==========================================================================+\n",
      "Freedom to Reorder: 8.21538\n",
      "Resource Pressure: 65\n",
      "+--------------------------------------------------------------------------+\n",
      "|Instruction Level Parallelism                                             |\n",
      "+==========================================================================+\n",
      "# of workitems invoked: 4194304\n",
      "total # of workitem barriers hit: 0\n",
      "Min instructions to barrier: 535\n",
      "Max instructions to barrier: 535\n",
      "Median instructions to barrier: 535\n",
      "+-------------------------------------------------------------------------------------------------------+\n",
      "|Work Distribution -- Measure of work between threads     |\n",
      "+=======================================================================================================+\n",
      "Min instructions executed by a work-item: 535\n",
      "Max instructions executed by a work-item: 535\n",
      "Median instructions executed by a work-item: 535\n",
      "+--------------------------------------------------------------------------+\n",
      "|Data Level Parallelism                                                    |\n",
      "+==========================================================================+\n",
      "Min data width: 1\n",
      "Max data width: 1\n",
      "Operand sum: 2.24395e+09\n",
      "Mean data width: 1\n",
      "stdev data width: 0\n",
      "Granularity: 4.45642e-10\n",
      "Barriers Per Instruction : 4.45642e-10\n",
      "Instructions Per Operand : 1\n",
      "+--------------------------------------------------------------------------+\n",
      "|Total Memory Footprint -- total number of unique memory addresses accessed|\n",
      "+==========================================================================+\n",
      "198624\n",
      "+----------------------------------------------------------------------------------------------+\n",
      "|90% Memory Footprint -- Number of unique memory addresses that cover 90% of memory accesses   |\n",
      "+==============================================================================================+\n",
      "total number of memory accesses = 272629760\n",
      "90% of memory accesses:245366784\n",
      "Number of unique memory addresses that cover 90% of memory accesses: 119808\n",
      "+----------------------------------------------------------------------------------------------+\n",
      "|Global Memory Address Entropy -- Measure of the randomness of memory addresses                |\n",
      "+==============================================================================================+\n",
      "17.1256\n",
      "+----------------------------------------------------------------------------------------------+\n",
      "|Local Memory Address Entropy -- Measure of the spatial locality of memory addresses           |\n",
      "+==============================================================================================+\n",
      "LSBs skipped\tEntropy (bits)\n",
      "1\t\t12.0995\n",
      "2\t\t12.0995\n",
      "3\t\t12.0995\n",
      "4\t\t12.0995\n",
      "5\t\t12.0995\n",
      "6\t\t12.0995\n",
      "7\t\t12.0995\n",
      "8\t\t11.1002\n",
      "9\t\t10.1002\n",
      "10\t\t9.10157\n",
      "+-------------------------------------------------------------------------------------------------------+\n",
      "|Unique Branch Instructions -- Total number of unique branch instructions to cover 90% of the branches|\n",
      "+=======================================================================================================+\n",
      "Branch At Line\tCount (hit and miss)\n",
      "8\t\t138412032\n",
      "Number of unique branches that cover 90% of all branch instructions: 1\n",
      "+-------------------------------------------------------------------------------------------------------+\n",
      "|Branch Entropy -- Measure of the randomness of branch behaviour, representing branch predicability     |\n",
      "+=======================================================================================================+\n",
      "Using a branch history of 16\n",
      "Yokota Branch Entropy: 1.67772e+07\n",
      "Yokota Branch Entropy Per Workload: 4\n",
      "Average Linear Branch Entropy: 0.0606061\n",
      "The Architecture-Independent Workload Characterisation was written to file: aiwc_simpleMultiply_0.csv\n",
      "Architecture-Independent Workload Characterization of kernel: coalescedMultiply\n",
      "+----------------------------------------------------------------------------+\n",
      "|Compute Opcode Instruction Histogram                                        |\n",
      "+============================================================================+\n",
      "instruction: sext count: 276824064\n",
      "instruction: phi count: 276824064\n",
      "instruction: trunc count: 8388608\n",
      "instruction: shl count: 4194304\n",
      "instruction: add count: 285212672\n",
      "instruction: store count: 8388608\n",
      "instruction: call count: 159383552\n",
      "instruction: getelementptr count: 281018368\n",
      "instruction: load count: 272629760\n",
      "instruction: br count: 276824064\n",
      "instruction: mul count: 146800640\n",
      "instruction: icmp count: 138412032\n",
      "instruction: ret count: 4194304\n",
      "+----------------------------------------------------------------------------+\n",
      "|Compute Opcode Unique Opcodes required to cover 90% of Dynamic Instructions |\n",
      "+============================================================================+\n",
      "Unique Op Codes comprising of 90% of dynamic instructions:\n",
      "\tadd\n",
      "\tgetelementptr\n",
      "\tsext\n",
      "\tphi\n",
      "\tbr\n",
      "\tload\n",
      "\tcall\n",
      "\tmul\n",
      "Unique Opcodes required to cover 90% of Dynamic Instructions: 8\n",
      "Total Instruction Count: 2139095040\n",
      "+--------------------------------------------------------------------------+\n",
      "|Utilization                                                               |\n",
      "+==========================================================================+\n"
     ]
    },
    {
     "name": "stdout",
     "output_type": "stream",
     "text": [
      "Freedom to Reorder: 7.59701\n",
      "Resource Pressure: 67\n",
      "+--------------------------------------------------------------------------+\n",
      "|Instruction Level Parallelism                                             |\n",
      "+==========================================================================+\n",
      "# of workitems invoked: 4194304\n",
      "total # of workitem barriers hit: 0\n",
      "Min instructions to barrier: 510\n",
      "Max instructions to barrier: 510\n",
      "Median instructions to barrier: 510\n",
      "+-------------------------------------------------------------------------------------------------------+\n",
      "|Work Distribution -- Measure of work between threads     |\n",
      "+=======================================================================================================+\n",
      "Min instructions executed by a work-item: 510\n",
      "Max instructions executed by a work-item: 510\n",
      "Median instructions executed by a work-item: 510\n",
      "+--------------------------------------------------------------------------+\n",
      "|Data Level Parallelism                                                    |\n",
      "+==========================================================================+\n",
      "Min data width: 1\n",
      "Max data width: 1\n",
      "Operand sum: 2.1391e+09\n",
      "Mean data width: 1\n",
      "stdev data width: 0\n",
      "Granularity: 4.67487e-10\n",
      "Barriers Per Instruction : 4.67487e-10\n",
      "Instructions Per Operand : 1\n",
      "+--------------------------------------------------------------------------+\n",
      "|Total Memory Footprint -- total number of unique memory addresses accessed|\n",
      "+==========================================================================+\n",
      "1018060\n",
      "+----------------------------------------------------------------------------------------------+\n",
      "|90% Memory Footprint -- Number of unique memory addresses that cover 90% of memory accesses   |\n",
      "+==============================================================================================+\n",
      "total number of memory accesses = 281018368\n",
      "90% of memory accesses:252916532\n",
      "Number of unique memory addresses that cover 90% of memory accesses: 287584\n",
      "+----------------------------------------------------------------------------------------------+\n",
      "|Global Memory Address Entropy -- Measure of the randomness of memory addresses                |\n",
      "+==============================================================================================+\n",
      "15.6274\n",
      "+----------------------------------------------------------------------------------------------+\n",
      "|Local Memory Address Entropy -- Measure of the spatial locality of memory addresses           |\n",
      "+==============================================================================================+\n",
      "LSBs skipped\tEntropy (bits)\n",
      "1\t\t11.3453\n",
      "2\t\t11.3445\n",
      "3\t\t11.3274\n",
      "4\t\t11.2883\n",
      "5\t\t11.1852\n",
      "6\t\t10.9699\n",
      "7\t\t10.623\n",
      "8\t\t9.63406\n",
      "9\t\t8.6609\n",
      "10\t\t7.69895\n",
      "+-------------------------------------------------------------------------------------------------------+\n",
      "|Unique Branch Instructions -- Total number of unique branch instructions to cover 90% of the branches|\n",
      "+=======================================================================================================+\n",
      "Branch At Line\tCount (hit and miss)\n",
      "21\t\t138412032\n",
      "Number of unique branches that cover 90% of all branch instructions: 1\n",
      "+-------------------------------------------------------------------------------------------------------+\n",
      "|Branch Entropy -- Measure of the randomness of branch behaviour, representing branch predicability     |\n",
      "+=======================================================================================================+\n",
      "Using a branch history of 16\n",
      "Yokota Branch Entropy: 1.67772e+07\n",
      "Yokota Branch Entropy Per Workload: 4\n",
      "Average Linear Branch Entropy: 0.0606061\n",
      "The Architecture-Independent Workload Characterisation was written to file: aiwc_coalescedMultiply_0.csv\n",
      "Architecture-Independent Workload Characterization of kernel: sharedABMultiply\n",
      "+----------------------------------------------------------------------------+\n",
      "|Compute Opcode Instruction Histogram                                        |\n",
      "+============================================================================+\n",
      "instruction: sext count: 150994944\n",
      "instruction: phi count: 276824064\n",
      "instruction: trunc count: 8388608\n",
      "instruction: shl count: 4194304\n",
      "instruction: add count: 155189248\n",
      "instruction: store count: 12582912\n",
      "instruction: call count: 163577856\n",
      "instruction: getelementptr count: 289406976\n",
      "instruction: load count: 276824064\n",
      "instruction: br count: 276824064\n",
      "instruction: mul count: 16777216\n",
      "instruction: icmp count: 138412032\n",
      "instruction: ret count: 4194304\n",
      "+----------------------------------------------------------------------------+\n",
      "|Compute Opcode Unique Opcodes required to cover 90% of Dynamic Instructions |\n",
      "+============================================================================+\n",
      "Unique Op Codes comprising of 90% of dynamic instructions:\n",
      "\tgetelementptr\n",
      "\tphi\n",
      "\tload\n",
      "\tbr\n",
      "\tcall\n",
      "\tadd\n",
      "\tsext\n",
      "\ticmp\n",
      "Unique Opcodes required to cover 90% of Dynamic Instructions: 8\n",
      "Total Instruction Count: 1774190592\n",
      "+--------------------------------------------------------------------------+\n",
      "|Utilization                                                               |\n",
      "+==========================================================================+\n",
      "Freedom to Reorder: 6.11594\n",
      "Resource Pressure: 69\n",
      "+--------------------------------------------------------------------------+\n",
      "|Instruction Level Parallelism                                             |\n",
      "+==========================================================================+\n",
      "# of workitems invoked: 4194304\n",
      "total # of workitem barriers hit: 4194304\n",
      "Min instructions to barrier: 27\n",
      "Max instructions to barrier: 404480\n",
      "Median instructions to barrier: 211\n",
      "+-------------------------------------------------------------------------------------------------------+\n",
      "|Work Distribution -- Measure of work between threads     |\n",
      "+=======================================================================================================+\n",
      "Min instructions executed by a work-item: 423\n",
      "Max instructions executed by a work-item: 404508\n",
      "Median instructions executed by a work-item: 202465\n",
      "+--------------------------------------------------------------------------+\n",
      "|Data Level Parallelism                                                    |\n",
      "+==========================================================================+\n",
      "Min data width: 1\n",
      "Max data width: 1\n",
      "Operand sum: 1.77419e+09\n",
      "Mean data width: 1\n",
      "stdev data width: 0\n",
      "Granularity: 5.63637e-10\n",
      "Barriers Per Instruction : 0.00236407\n",
      "Instructions Per Operand : 1\n",
      "+--------------------------------------------------------------------------+\n",
      "|Total Memory Footprint -- total number of unique memory addresses accessed|\n",
      "+==========================================================================+\n",
      "4077656\n",
      "+----------------------------------------------------------------------------------------------+\n",
      "|90% Memory Footprint -- Number of unique memory addresses that cover 90% of memory accesses   |\n",
      "+==============================================================================================+\n",
      "total number of memory accesses = 289406976\n",
      "90% of memory accesses:260466279\n",
      "Number of unique memory addresses that cover 90% of memory accesses: 3199642\n",
      "+----------------------------------------------------------------------------------------------+\n",
      "|Global Memory Address Entropy -- Measure of the randomness of memory addresses                |\n",
      "+==============================================================================================+\n",
      "19.0461\n",
      "+----------------------------------------------------------------------------------------------+\n",
      "|Local Memory Address Entropy -- Measure of the spatial locality of memory addresses           |\n",
      "+==============================================================================================+\n",
      "LSBs skipped\tEntropy (bits)\n",
      "1\t\t16.4198\n",
      "2\t\t16.421\n",
      "3\t\t16.3745\n",
      "4\t\t16.2836\n",
      "5\t\t16.0742\n",
      "6\t\t15.6595\n",
      "7\t\t14.9968\n",
      "8\t\t14.0319\n",
      "9\t\t13.0646\n",
      "10\t\t12.1397\n",
      "+-------------------------------------------------------------------------------------------------------+\n",
      "|Unique Branch Instructions -- Total number of unique branch instructions to cover 90% of the branches|\n",
      "+=======================================================================================================+\n",
      "Branch At Line\tCount (hit and miss)\n",
      "37\t\t138412032\n",
      "Number of unique branches that cover 90% of all branch instructions: 1\n",
      "+-------------------------------------------------------------------------------------------------------+\n",
      "|Branch Entropy -- Measure of the randomness of branch behaviour, representing branch predicability     |\n",
      "+=======================================================================================================+\n"
     ]
    },
    {
     "name": "stdout",
     "output_type": "stream",
     "text": [
      "Using a branch history of 16\n",
      "Yokota Branch Entropy: 1.67772e+07\n",
      "Yokota Branch Entropy Per Workload: 4\n",
      "Average Linear Branch Entropy: 0.0606061\n",
      "The Architecture-Independent Workload Characterisation was written to file: aiwc_sharedABMultiply_0.csv\n",
      "+-------------------------------------------------------------------------------------------------------+\n",
      "|Memory Transfers -- statistics around host to device and device to host memory transfers               |\n",
      "+=======================================================================================================+\n",
      "Total Host To Device Transfers (#) for kernel:\n",
      "\tsimpleMultiply: 3\n",
      "\tcoalescedMultiply: 3\n",
      "\tsharedABMultiply: 3\n",
      "Total Device To Host Transfers (#) for kernel:\n",
      "\tsimpleMultiply: 3\n",
      "\tcoalescedMultiply: 3\n",
      "\tsharedABMultiply: 3\n",
      "******* LSB_Finalize *******\n"
     ]
    }
   ],
   "source": [
    "! make clean\n",
    "! make\n",
    "! $OCLGRIND/bin/oclgrind --workload-characterisation ./gpu-stride ./gpu-strided-global-memory-access-unoptimised.cl $PROBLEM_SIZE 0 0 aiwc\n",
    "! rm -f lsb.*.r0* #we aren't interested in runtime data anymore"
   ]
  },
  {
   "cell_type": "markdown",
   "metadata": {},
   "source": [
    "## Analyse AIWC data"
   ]
  },
  {
   "cell_type": "markdown",
   "metadata": {},
   "source": [
    "First load in new data"
   ]
  },
  {
   "cell_type": "code",
   "execution_count": 9,
   "metadata": {},
   "outputs": [],
   "source": [
    "import pandas as pd\n",
    "simpleMultiply = pd.read_csv('aiwc_simpleMultiply_0.csv', sep=\",\")\n",
    "coalescedMultiply = pd.read_csv('aiwc_coalescedMultiply_0.csv', sep=\",\")\n",
    "sharedABMultiply = pd.read_csv('aiwc_sharedABMultiply_0.csv', sep=\",\")"
   ]
  },
  {
   "cell_type": "markdown",
   "metadata": {},
   "source": [
    "Standardise according to existing data -- from the predictive modelling paper"
   ]
  },
  {
   "cell_type": "code",
   "execution_count": 10,
   "metadata": {
    "scrolled": true
   },
   "outputs": [],
   "source": [
    "%%R -i simpleMultiply -i coalescedMultiply -i sharedABMultiply -o featdata.all\n",
    "\n",
    "load('/opencl-predictions-with-aiwc/data/intermediate/featdata.Rda')\n",
    "\n",
    "simpleMultiply$application <- \"matrix_multiplication\"\n",
    "simpleMultiply$kernel <- \"simple_multiply\"\n",
    "simpleMultiply$invocation <- 0\n",
    "simpleMultiply$size <- Sys.getenv('PROBLEM_SIZE')\n",
    "\n",
    "coalescedMultiply$application <- \"matrix_multiplication\"\n",
    "coalescedMultiply$kernel <- \"coalesced_multiply\"\n",
    "coalescedMultiply$invocation <- 0\n",
    "coalescedMultiply$size <- Sys.getenv('PROBLEM_SIZE')\n",
    "\n",
    "sharedABMultiply$application <- \"matrix_multiplication\"\n",
    "sharedABMultiply$kernel <- \"shared_ab_multiply\"\n",
    "sharedABMultiply$invocation <- 0\n",
    "sharedABMultiply$size <- Sys.getenv('PROBLEM_SIZE')\n",
    "\n",
    "featdata.all <- rbind(featdata.all,simpleMultiply)\n",
    "featdata.all <- rbind(featdata.all,coalescedMultiply)\n",
    "featdata.all <- rbind(featdata.all,sharedABMultiply)"
   ]
  },
  {
   "cell_type": "markdown",
   "metadata": {},
   "source": [
    "Studentise the AIWC data"
   ]
  },
  {
   "cell_type": "code",
   "execution_count": 11,
   "metadata": {},
   "outputs": [],
   "source": [
    "%%R -i featdata.all -o aiwc\n",
    "\n",
    "source('/opencl-predictions-with-aiwc/codes/restructure_aiwc_data.R')\n",
    "pca_dat <- reorder_features(featdata.all)\n",
    "pca_dat$opcode <- scale(pca_dat$opcode,scale=TRUE)[,1]\n",
    "pca_dat$granularity <- scale(pca_dat$granularity,scale=TRUE)[,1]\n",
    "pca_dat$barriers_per_instruction <- scale(pca_dat$barriers_per_instruction,scale=TRUE)[,1]\n",
    "pca_dat$instructions_per_operand <- scale(pca_dat$instructions_per_operand,scale=TRUE)[,1]\n",
    "pca_dat$total_instruction_count <- scale(pca_dat$total_instruction_count,scale=TRUE)[,1]\n",
    "pca_dat$workitems <- scale(pca_dat$workitems,scale=TRUE)[,1]\n",
    "pca_dat$operand_sum <- scale(pca_dat$operand_sum,scale=TRUE)[,1]\n",
    "pca_dat$total_barriers_hit <- scale(pca_dat$total_barriers_hit,scale=TRUE)[,1]\n",
    "pca_dat$min_instructions_to_barrier <- scale(pca_dat$min_instructions_to_barrier,scale=TRUE)[,1]\n",
    "pca_dat$max_instructions_to_barrier <- scale(pca_dat$max_instructions_to_barrier,scale=TRUE)[,1]\n",
    "pca_dat$median_instructions_to_barrier <- scale(pca_dat$median_instructions_to_barrier,scale=TRUE)[,1]\n",
    "pca_dat$max_simd_width <- scale(pca_dat$max_simd_width,scale=TRUE)[,1]\n",
    "pca_dat$mean_simd_width <- scale(pca_dat$mean_simd_width,scale=TRUE)[,1]\n",
    "pca_dat$stddev_simd_width <- scale(pca_dat$stddev_simd_width,scale=TRUE)[,1]\n",
    "pca_dat$total_memory_footprint <- scale(pca_dat$total_memory_footprint,scale=TRUE)[,1]\n",
    "pca_dat$ninety_percent_memory_footprint <- scale(pca_dat$ninety_percent_memory_footprint,scale=TRUE)[,1]\n",
    "pca_dat$global_memory_address_entropy <- scale(pca_dat$global_memory_address_entropy,scale=TRUE)[,1]\n",
    "pca_dat$local_memory_address_entropy_1 <- scale(pca_dat$local_memory_address_entropy_1,scale=TRUE)[,1]\n",
    "pca_dat$local_memory_address_entropy_2 <- scale(pca_dat$local_memory_address_entropy_2,scale=TRUE)[,1]\n",
    "pca_dat$local_memory_address_entropy_3 <- scale(pca_dat$local_memory_address_entropy_3,scale=TRUE)[,1]\n",
    "pca_dat$local_memory_address_entropy_4 <- scale(pca_dat$local_memory_address_entropy_4,scale=TRUE)[,1]\n",
    "pca_dat$local_memory_address_entropy_5 <- scale(pca_dat$local_memory_address_entropy_5,scale=TRUE)[,1]\n",
    "pca_dat$local_memory_address_entropy_6 <- scale(pca_dat$local_memory_address_entropy_6,scale=TRUE)[,1]\n",
    "pca_dat$local_memory_address_entropy_7 <- scale(pca_dat$local_memory_address_entropy_7,scale=TRUE)[,1]\n",
    "pca_dat$local_memory_address_entropy_8 <- scale(pca_dat$local_memory_address_entropy_8,scale=TRUE)[,1]\n",
    "pca_dat$local_memory_address_entropy_9 <- scale(pca_dat$local_memory_address_entropy_9,scale=TRUE)[,1]\n",
    "pca_dat$local_memory_address_entropy_10 <- scale(pca_dat$local_memory_address_entropy_10,scale=TRUE)[,1]\n",
    "pca_dat$total_unique_branch_instructions <- scale(pca_dat$total_unique_branch_instructions,scale=TRUE)[,1]\n",
    "pca_dat$ninety_percent_branch_instructions <- scale(pca_dat$ninety_percent_branch_instructions,scale=TRUE)[,1]\n",
    "pca_dat$branch_entropy_yokota <- scale(pca_dat$branch_entropy_yokota,scale=TRUE)[,1]\n",
    "pca_dat$branch_entropy_average_linear <- scale(pca_dat$branch_entropy_average_linear,scale=TRUE)[,1]\n",
    "aiwc <- pca_dat"
   ]
  },
  {
   "cell_type": "markdown",
   "metadata": {},
   "source": [
    "Comparison between AIWC feature-spaces"
   ]
  },
  {
   "cell_type": "code",
   "execution_count": 12,
   "metadata": {},
   "outputs": [
    {
     "name": "stderr",
     "output_type": "stream",
     "text": [
      "R[write to console]: Saving 11.1 x 11.1 in image\n",
      "\n"
     ]
    }
   ],
   "source": [
    "%%R -i aiwc -w 800 -h 800 -u px\n",
    "\n",
    "library(ggplot2)\n",
    "library(reshape2)\n",
    "\n",
    "aiwc.of.interest <- subset(aiwc, application == \"matrix_multiplication\")\n",
    "aiwc.of.interest = subset(aiwc.of.interest, select = -size)\n",
    "aiwc.of.interest = subset(aiwc.of.interest, select = -invocation)\n",
    "aiwc.of.interest = subset(aiwc.of.interest, select = -application)\n",
    "\n",
    "melted = melt(aiwc.of.interest, id.var = 'kernel')\n",
    "ggplot(melted, aes(x = variable, y = value, fill = kernel)) + geom_bar(stat = \"identity\", position = 'dodge') +\n",
    "    scale_x_discrete(name = \"AIWC feature\") + theme(axis.text.x = element_text(angle = 90, hjust = 1))\n",
    "\n",
    "ggsave(sprintf(\"time_matrixMultiply_%s.png\", \"large\"))#, plot = last_plot(), device = NULL, path = NULL,\n",
    "  #scale = 1, width = NA, height = NA,\n",
    "  #dpi = 300, limitsize = TRUE)\n"
   ]
  },
  {
   "cell_type": "code",
   "execution_count": 13,
   "metadata": {},
   "outputs": [],
   "source": [
    "# ggsave(\"time_matrixMultiply_tiny.png\")#, plot = last_plot(), device = NULL, path = NULL,\n",
    "  #scale = 1, width = NA, height = NA,\n",
    "  #dpi = 300, limitsize = TRUE)"
   ]
  },
  {
   "cell_type": "markdown",
   "metadata": {},
   "source": [
    "## Prediction Accuracy Of AIWC Metrics"
   ]
  },
  {
   "cell_type": "markdown",
   "metadata": {},
   "source": [
    "Generate the predictive model"
   ]
  },
  {
   "cell_type": "code",
   "execution_count": 14,
   "metadata": {},
   "outputs": [],
   "source": [
    "%%R -o model\n",
    "\n",
    "library(ranger)\n",
    "\n",
    "load(\"/opencl-predictions-with-aiwc/data/intermediate/full_dat.Rda\")\n",
    "\n",
    "#manually typecast integer variables\n",
    "int.inds <- c(2,6,7,8,9,10,11,12,13,16,17,29,30,34,37)\n",
    "\n",
    "#standardise numeric variables\n",
    "num.inds <- lapply(full_dat, is.numeric)\n",
    "num.inds <- as.logical(num.inds)\n",
    "\n",
    "for (i in seq(along = num.inds)){\n",
    "            feature.name = names(full_dat[i])\n",
    "            ifelse((any(i == int.inds) || num.inds[i] == 'FALSE' || feature.name == \"kernel_time\"), next, full_dat[i] <- scale(full_dat[i]))\n",
    "                                } #end i loop\n",
    "\n",
    "#use 20% of data for training\n",
    "#sampled_indices <- sample(seq_len(nrow(full_dat)), size = round(nrow(full_dat)*0.2))\n",
    "#train_dat <- full_dat[sampled_indices, ]\n",
    "#test_dat <- full_dat[-sampled_indices, ]\n",
    "#or...\n",
    "#use 100% of data for training\n",
    "train_dat <- full_dat\n",
    "\n",
    "#remove certain variables unavailable during real-world training\n",
    "train_dat = subset(train_dat, select = -size)\n",
    "train_dat = subset(train_dat, select = -application)\n",
    "train_dat = subset(train_dat, select = -kernel)\n",
    "train_dat = subset(train_dat, select = -total_time)\n",
    "\n",
    "#build the model\n",
    "rgd.aiwc <- ranger(log(kernel_time)~.,\n",
    "                   data = train_dat,\n",
    "                   num.trees = 505,\n",
    "                   mtry = 30,\n",
    "                   min.node.size = 9,\n",
    "                   importance = \"impurity\",\n",
    "                   splitrule = 'variance',\n",
    "                   respect.unordered.factors = 'order')\n",
    "\n",
    "model <- rgd.aiwc"
   ]
  },
  {
   "cell_type": "markdown",
   "metadata": {},
   "source": [
    "Make prediction with our AIWC metrics"
   ]
  },
  {
   "cell_type": "code",
   "execution_count": 15,
   "metadata": {
    "scrolled": true
   },
   "outputs": [
    {
     "name": "stdout",
     "output_type": "stream",
     "text": [
      "[1] \"simple multiply 90.98 (ms)\"\n",
      "[1] \"coalesced multiply 1289.74 (ms)\"\n",
      "[1] \"shared ab multiply 3941.15 (ms)\"\n"
     ]
    }
   ],
   "source": [
    "%%R -i aiwc -i model -o predicted\n",
    "\n",
    "#manually typecast integer variables\n",
    "#int.inds <- c(2,6,7,8,9,10,11,12,13,16,17,29,30,34,37)\n",
    "\n",
    "#standardise numeric variables\n",
    "#num.inds <- lapply(aiwc, is.numeric)\n",
    "#num.inds <- as.logical(num.inds)\n",
    "\n",
    "#for (i in seq(along = num.inds)){\n",
    "#            feature.name = names(aiwc[i])\n",
    "#            ifelse((any(i == int.inds) || num.inds[i] == 'FALSE' || feature.name == \"kernel_time\"), next, aiwc[i] <- scale(aiwc[i]))\n",
    "#                                } #end i loop\n",
    "predicted <- data.frame()\n",
    "\n",
    "x <- subset(aiwc, kernel==\"simple_multiply\")\n",
    "x$device = 'gtx1080'\n",
    "x$run = 0\n",
    "prediction <- predict(model,type='response',data=x)\n",
    "print(paste(\"simple multiply\", round(exp(prediction$pred),digits=2), \"(ms)\"))\n",
    "predicted <- rbind(predicted, data.frame('region'='simple_multiply','predicted time (ms)'=round(exp(prediction$pred),digits=2)))\n",
    "\n",
    "x <- subset(aiwc, kernel==\"coalesced_multiply\")\n",
    "x$device = 'gtx1080'\n",
    "x$run = 0\n",
    "prediction <- predict(model,type='response',data=x)\n",
    "print(paste(\"coalesced multiply\", round(exp(prediction$pred),digits=2), \"(ms)\"))\n",
    "predicted <- rbind(predicted, data.frame('region'='coalesced_multiply','predicted time (ms)'=round(exp(prediction$pred),digits=2)))\n",
    "\n",
    "x <- subset(aiwc, kernel==\"shared_ab_multiply\")\n",
    "x$device = 'gtx1080'\n",
    "x$run = 0\n",
    "prediction <- predict(model,type='response',data=x)\n",
    "print(paste(\"shared ab multiply\", round(exp(prediction$pred),digits=2), \"(ms)\"))\n",
    "predicted <- rbind(predicted, data.frame('region'='shared_ab_multiply','predicted time (ms)'=round(exp(prediction$pred),digits=2)))\n"
   ]
  },
  {
   "cell_type": "markdown",
   "metadata": {},
   "source": [
    "Compare predictions against measured times"
   ]
  },
  {
   "cell_type": "code",
   "execution_count": 16,
   "metadata": {},
   "outputs": [
    {
     "data": {
      "text/html": [
       "<div>\n",
       "<style scoped>\n",
       "    .dataframe tbody tr th:only-of-type {\n",
       "        vertical-align: middle;\n",
       "    }\n",
       "\n",
       "    .dataframe tbody tr th {\n",
       "        vertical-align: top;\n",
       "    }\n",
       "\n",
       "    .dataframe thead th {\n",
       "        text-align: right;\n",
       "    }\n",
       "</style>\n",
       "<table border=\"1\" class=\"dataframe\">\n",
       "  <thead>\n",
       "    <tr style=\"text-align: right;\">\n",
       "      <th></th>\n",
       "      <th>region</th>\n",
       "      <th>predicted.time..ms.</th>\n",
       "      <th>time (ms)</th>\n",
       "    </tr>\n",
       "  </thead>\n",
       "  <tbody>\n",
       "    <tr>\n",
       "      <th>0</th>\n",
       "      <td>simple_multiply</td>\n",
       "      <td>90.98</td>\n",
       "      <td>540.314893</td>\n",
       "    </tr>\n",
       "    <tr>\n",
       "      <th>1</th>\n",
       "      <td>coalesced_multiply</td>\n",
       "      <td>1289.74</td>\n",
       "      <td>290.453984</td>\n",
       "    </tr>\n",
       "    <tr>\n",
       "      <th>2</th>\n",
       "      <td>shared_ab_multiply</td>\n",
       "      <td>3941.15</td>\n",
       "      <td>167.844932</td>\n",
       "    </tr>\n",
       "  </tbody>\n",
       "</table>\n",
       "</div>"
      ],
      "text/plain": [
       "               region  predicted.time..ms.   time (ms)\n",
       "0     simple_multiply                90.98  540.314893\n",
       "1  coalesced_multiply              1289.74  290.453984\n",
       "2  shared_ab_multiply              3941.15  167.844932"
      ]
     },
     "execution_count": 16,
     "metadata": {},
     "output_type": "execute_result"
    }
   ],
   "source": [
    "groundtruth = z\n",
    "groundtruth = groundtruth.groupby(['region']).mean()\n",
    "\n",
    "groundtruth = groundtruth.rename({'simpleMultiply_kernel':'simple_multiply',\n",
    "                                  'coalescedMultiply_kernel':'coalesced_multiply',\n",
    "                                  'sharedABMultiply_kernel':'shared_ab_multiply'})\n",
    "comparison = pd.merge(predicted,groundtruth,left_on='region',right_on='region')\n",
    "comparison.head()"
   ]
  },
  {
   "cell_type": "markdown",
   "metadata": {},
   "source": [
    "**Note:** The predictive accuracy is bad for both the simple and coalesced case -- reasons?"
   ]
  },
  {
   "cell_type": "markdown",
   "metadata": {},
   "source": [
    "# Loop Blocking Example 4-25 from Intel 64 and IA-32 Architectures Optimization Reference Manual"
   ]
  },
  {
   "cell_type": "markdown",
   "metadata": {},
   "source": [
    "## Generate runtime data"
   ]
  },
  {
   "cell_type": "markdown",
   "metadata": {},
   "source": [
    "Run the experiment and collect runtime data"
   ]
  },
  {
   "cell_type": "code",
   "execution_count": 17,
   "metadata": {
    "scrolled": true
   },
   "outputs": [
    {
     "name": "stdout",
     "output_type": "stream",
     "text": [
      "rm -f sbd aiwc-tester lsb.*.r0* aiwc_*.csv aiwc_*_itb.log Rplots.pdf cpu-loop-block cpu-mandelbrot-vectorization\n",
      "g++ cpu-loop-blocking.cpp -o cpu-loop-block -lOpenCL -llsb -L/libscibench/lib -I/libscibench/include -std=c++11\n",
      "g++ cpu-mandelbrot-vectorization.cpp -o cpu-mandelbrot-vectorization -lOpenCL -llsb -L/libscibench/lib -I/libscibench/include -std=c++11\n",
      "g++ aiwc-tester.cpp -o aiwc-tester -lOpenCL -llsb -L/libscibench/lib -I/libscibench/include -std=c++11\n",
      "***** LSB_Init >cpu_loop_blocking< writing to >lsb.cpu_loop_blocking.r0< *****\n",
      "Attempting kernel: ./cpu-loop-blocking.cl with contents:\n",
      "//Loop Blocking Example 4-25 from https://www.intel.com/content/dam/www/public/us/en/documents/manuals/64-ia-32-architectures-optimization-manual.pdf in Section 4.5.3 Loop Blocking\n",
      "//TODO: verify loop-blocking correctness\n",
      "__kernel void original_loop(__global float* A, __global float* B)\n",
      "{\n",
      "    //get_group_id(0) * get_local_size(0) + get_local_id(0);//not needed -- intel tests only for single thread\n",
      "    for (int i=0; i< MAX; i++) {\n",
      "        for (int j=0; j< MAX; j++) {\n",
      "            //A[i,j] = A[i,j] + B[j, i];\n",
      "            A[i*MAX+j] = A[i*MAX+j] + B[j*MAX+i];\n",
      "        } \n",
      "    }\n",
      "}\n",
      "\n",
      "__kernel void transformed_loop_after_blocking(__global float* A, __global float* B)\n",
      "{\n",
      "    int i,j,ii,jj;\n",
      "    for (i=0; i< MAX; i+=BLOCK_SIZE) {\n",
      "        for (j=0; j< MAX; j+=BLOCK_SIZE) {\n",
      "            for (ii=i; ii<i+BLOCK_SIZE; ii++) {\n",
      "                for (jj=j; jj<j+BLOCK_SIZE; jj++) {\n",
      "                    //A[ii,jj] = A[ii,jj] + B[jj, ii];\n",
      "                    A[ii*MAX+jj] = A[ii*MAX+jj] + B[jj*MAX+ii];\n",
      "                }\n",
      "            }\n",
      "        }\n",
      "    }\n",
      "}\n",
      "\n",
      "\n",
      "terminate called after throwing an instance of 'std::runtime_error'\n",
      "  what():  can't create context\n",
      "Aborted (core dumped)\n"
     ]
    }
   ],
   "source": [
    "! make clean; make\n",
    "! ./cpu-loop-block ./cpu-loop-blocking.cl $PROBLEM_SIZE 1 0 runtime"
   ]
  },
  {
   "cell_type": "markdown",
   "metadata": {},
   "source": [
    "## Analyse runtime data"
   ]
  },
  {
   "cell_type": "code",
   "execution_count": 18,
   "metadata": {
    "scrolled": true
   },
   "outputs": [
    {
     "ename": "EmptyDataError",
     "evalue": "No columns to parse from file",
     "output_type": "error",
     "traceback": [
      "\u001b[0;31m---------------------------------------------------------------------------\u001b[0m",
      "\u001b[0;31mEmptyDataError\u001b[0m                            Traceback (most recent call last)",
      "\u001b[0;32m<ipython-input-18-a36e3d56adc8>\u001b[0m in \u001b[0;36m<module>\u001b[0;34m\u001b[0m\n\u001b[1;32m      1\u001b[0m \u001b[0;32mimport\u001b[0m \u001b[0mpandas\u001b[0m \u001b[0;32mas\u001b[0m \u001b[0mpd\u001b[0m\u001b[0;34m\u001b[0m\u001b[0;34m\u001b[0m\u001b[0m\n\u001b[0;32m----> 2\u001b[0;31m \u001b[0mx\u001b[0m \u001b[0;34m=\u001b[0m \u001b[0mpd\u001b[0m\u001b[0;34m.\u001b[0m\u001b[0mread_csv\u001b[0m\u001b[0;34m(\u001b[0m\u001b[0;34m'lsb.cpu_loop_blocking.r0'\u001b[0m\u001b[0;34m,\u001b[0m \u001b[0mcomment\u001b[0m\u001b[0;34m=\u001b[0m\u001b[0;34m'#'\u001b[0m\u001b[0;34m,\u001b[0m \u001b[0msep\u001b[0m\u001b[0;34m=\u001b[0m\u001b[0;34m\"\\s+\"\u001b[0m\u001b[0;34m)\u001b[0m\u001b[0;34m\u001b[0m\u001b[0;34m\u001b[0m\u001b[0m\n\u001b[0m\u001b[1;32m      3\u001b[0m \u001b[0;34m\u001b[0m\u001b[0m\n\u001b[1;32m      4\u001b[0m \u001b[0my\u001b[0m \u001b[0;34m=\u001b[0m \u001b[0mx\u001b[0m\u001b[0;34m[\u001b[0m\u001b[0;34m(\u001b[0m\u001b[0mx\u001b[0m\u001b[0;34m.\u001b[0m\u001b[0mregion\u001b[0m \u001b[0;34m==\u001b[0m \u001b[0;34m'original_loop_kernel'\u001b[0m\u001b[0;34m)\u001b[0m \u001b[0;34m|\u001b[0m \u001b[0;34m(\u001b[0m\u001b[0mx\u001b[0m\u001b[0;34m.\u001b[0m\u001b[0mregion\u001b[0m \u001b[0;34m==\u001b[0m \u001b[0;34m'transformed_loop_after_blocking_kernel'\u001b[0m\u001b[0;34m)\u001b[0m\u001b[0;34m]\u001b[0m\u001b[0;34m\u001b[0m\u001b[0;34m\u001b[0m\u001b[0m\n\u001b[1;32m      5\u001b[0m \u001b[0;34m\u001b[0m\u001b[0m\n",
      "\u001b[0;32m/usr/local/lib/python3.6/dist-packages/pandas/io/parsers.py\u001b[0m in \u001b[0;36mparser_f\u001b[0;34m(filepath_or_buffer, sep, delimiter, header, names, index_col, usecols, squeeze, prefix, mangle_dupe_cols, dtype, engine, converters, true_values, false_values, skipinitialspace, skiprows, skipfooter, nrows, na_values, keep_default_na, na_filter, verbose, skip_blank_lines, parse_dates, infer_datetime_format, keep_date_col, date_parser, dayfirst, iterator, chunksize, compression, thousands, decimal, lineterminator, quotechar, quoting, doublequote, escapechar, comment, encoding, dialect, tupleize_cols, error_bad_lines, warn_bad_lines, delim_whitespace, low_memory, memory_map, float_precision)\u001b[0m\n\u001b[1;32m    700\u001b[0m                     skip_blank_lines=skip_blank_lines)\n\u001b[1;32m    701\u001b[0m \u001b[0;34m\u001b[0m\u001b[0m\n\u001b[0;32m--> 702\u001b[0;31m         \u001b[0;32mreturn\u001b[0m \u001b[0m_read\u001b[0m\u001b[0;34m(\u001b[0m\u001b[0mfilepath_or_buffer\u001b[0m\u001b[0;34m,\u001b[0m \u001b[0mkwds\u001b[0m\u001b[0;34m)\u001b[0m\u001b[0;34m\u001b[0m\u001b[0;34m\u001b[0m\u001b[0m\n\u001b[0m\u001b[1;32m    703\u001b[0m \u001b[0;34m\u001b[0m\u001b[0m\n\u001b[1;32m    704\u001b[0m     \u001b[0mparser_f\u001b[0m\u001b[0;34m.\u001b[0m\u001b[0m__name__\u001b[0m \u001b[0;34m=\u001b[0m \u001b[0mname\u001b[0m\u001b[0;34m\u001b[0m\u001b[0;34m\u001b[0m\u001b[0m\n",
      "\u001b[0;32m/usr/local/lib/python3.6/dist-packages/pandas/io/parsers.py\u001b[0m in \u001b[0;36m_read\u001b[0;34m(filepath_or_buffer, kwds)\u001b[0m\n\u001b[1;32m    427\u001b[0m \u001b[0;34m\u001b[0m\u001b[0m\n\u001b[1;32m    428\u001b[0m     \u001b[0;31m# Create the parser.\u001b[0m\u001b[0;34m\u001b[0m\u001b[0;34m\u001b[0m\u001b[0;34m\u001b[0m\u001b[0m\n\u001b[0;32m--> 429\u001b[0;31m     \u001b[0mparser\u001b[0m \u001b[0;34m=\u001b[0m \u001b[0mTextFileReader\u001b[0m\u001b[0;34m(\u001b[0m\u001b[0mfilepath_or_buffer\u001b[0m\u001b[0;34m,\u001b[0m \u001b[0;34m**\u001b[0m\u001b[0mkwds\u001b[0m\u001b[0;34m)\u001b[0m\u001b[0;34m\u001b[0m\u001b[0;34m\u001b[0m\u001b[0m\n\u001b[0m\u001b[1;32m    430\u001b[0m \u001b[0;34m\u001b[0m\u001b[0m\n\u001b[1;32m    431\u001b[0m     \u001b[0;32mif\u001b[0m \u001b[0mchunksize\u001b[0m \u001b[0;32mor\u001b[0m \u001b[0miterator\u001b[0m\u001b[0;34m:\u001b[0m\u001b[0;34m\u001b[0m\u001b[0;34m\u001b[0m\u001b[0m\n",
      "\u001b[0;32m/usr/local/lib/python3.6/dist-packages/pandas/io/parsers.py\u001b[0m in \u001b[0;36m__init__\u001b[0;34m(self, f, engine, **kwds)\u001b[0m\n\u001b[1;32m    893\u001b[0m             \u001b[0mself\u001b[0m\u001b[0;34m.\u001b[0m\u001b[0moptions\u001b[0m\u001b[0;34m[\u001b[0m\u001b[0;34m'has_index_names'\u001b[0m\u001b[0;34m]\u001b[0m \u001b[0;34m=\u001b[0m \u001b[0mkwds\u001b[0m\u001b[0;34m[\u001b[0m\u001b[0;34m'has_index_names'\u001b[0m\u001b[0;34m]\u001b[0m\u001b[0;34m\u001b[0m\u001b[0;34m\u001b[0m\u001b[0m\n\u001b[1;32m    894\u001b[0m \u001b[0;34m\u001b[0m\u001b[0m\n\u001b[0;32m--> 895\u001b[0;31m         \u001b[0mself\u001b[0m\u001b[0;34m.\u001b[0m\u001b[0m_make_engine\u001b[0m\u001b[0;34m(\u001b[0m\u001b[0mself\u001b[0m\u001b[0;34m.\u001b[0m\u001b[0mengine\u001b[0m\u001b[0;34m)\u001b[0m\u001b[0;34m\u001b[0m\u001b[0;34m\u001b[0m\u001b[0m\n\u001b[0m\u001b[1;32m    896\u001b[0m \u001b[0;34m\u001b[0m\u001b[0m\n\u001b[1;32m    897\u001b[0m     \u001b[0;32mdef\u001b[0m \u001b[0mclose\u001b[0m\u001b[0;34m(\u001b[0m\u001b[0mself\u001b[0m\u001b[0;34m)\u001b[0m\u001b[0;34m:\u001b[0m\u001b[0;34m\u001b[0m\u001b[0;34m\u001b[0m\u001b[0m\n",
      "\u001b[0;32m/usr/local/lib/python3.6/dist-packages/pandas/io/parsers.py\u001b[0m in \u001b[0;36m_make_engine\u001b[0;34m(self, engine)\u001b[0m\n\u001b[1;32m   1120\u001b[0m     \u001b[0;32mdef\u001b[0m \u001b[0m_make_engine\u001b[0m\u001b[0;34m(\u001b[0m\u001b[0mself\u001b[0m\u001b[0;34m,\u001b[0m \u001b[0mengine\u001b[0m\u001b[0;34m=\u001b[0m\u001b[0;34m'c'\u001b[0m\u001b[0;34m)\u001b[0m\u001b[0;34m:\u001b[0m\u001b[0;34m\u001b[0m\u001b[0;34m\u001b[0m\u001b[0m\n\u001b[1;32m   1121\u001b[0m         \u001b[0;32mif\u001b[0m \u001b[0mengine\u001b[0m \u001b[0;34m==\u001b[0m \u001b[0;34m'c'\u001b[0m\u001b[0;34m:\u001b[0m\u001b[0;34m\u001b[0m\u001b[0;34m\u001b[0m\u001b[0m\n\u001b[0;32m-> 1122\u001b[0;31m             \u001b[0mself\u001b[0m\u001b[0;34m.\u001b[0m\u001b[0m_engine\u001b[0m \u001b[0;34m=\u001b[0m \u001b[0mCParserWrapper\u001b[0m\u001b[0;34m(\u001b[0m\u001b[0mself\u001b[0m\u001b[0;34m.\u001b[0m\u001b[0mf\u001b[0m\u001b[0;34m,\u001b[0m \u001b[0;34m**\u001b[0m\u001b[0mself\u001b[0m\u001b[0;34m.\u001b[0m\u001b[0moptions\u001b[0m\u001b[0;34m)\u001b[0m\u001b[0;34m\u001b[0m\u001b[0;34m\u001b[0m\u001b[0m\n\u001b[0m\u001b[1;32m   1123\u001b[0m         \u001b[0;32melse\u001b[0m\u001b[0;34m:\u001b[0m\u001b[0;34m\u001b[0m\u001b[0;34m\u001b[0m\u001b[0m\n\u001b[1;32m   1124\u001b[0m             \u001b[0;32mif\u001b[0m \u001b[0mengine\u001b[0m \u001b[0;34m==\u001b[0m \u001b[0;34m'python'\u001b[0m\u001b[0;34m:\u001b[0m\u001b[0;34m\u001b[0m\u001b[0;34m\u001b[0m\u001b[0m\n",
      "\u001b[0;32m/usr/local/lib/python3.6/dist-packages/pandas/io/parsers.py\u001b[0m in \u001b[0;36m__init__\u001b[0;34m(self, src, **kwds)\u001b[0m\n\u001b[1;32m   1851\u001b[0m         \u001b[0mkwds\u001b[0m\u001b[0;34m[\u001b[0m\u001b[0;34m'usecols'\u001b[0m\u001b[0;34m]\u001b[0m \u001b[0;34m=\u001b[0m \u001b[0mself\u001b[0m\u001b[0;34m.\u001b[0m\u001b[0musecols\u001b[0m\u001b[0;34m\u001b[0m\u001b[0;34m\u001b[0m\u001b[0m\n\u001b[1;32m   1852\u001b[0m \u001b[0;34m\u001b[0m\u001b[0m\n\u001b[0;32m-> 1853\u001b[0;31m         \u001b[0mself\u001b[0m\u001b[0;34m.\u001b[0m\u001b[0m_reader\u001b[0m \u001b[0;34m=\u001b[0m \u001b[0mparsers\u001b[0m\u001b[0;34m.\u001b[0m\u001b[0mTextReader\u001b[0m\u001b[0;34m(\u001b[0m\u001b[0msrc\u001b[0m\u001b[0;34m,\u001b[0m \u001b[0;34m**\u001b[0m\u001b[0mkwds\u001b[0m\u001b[0;34m)\u001b[0m\u001b[0;34m\u001b[0m\u001b[0;34m\u001b[0m\u001b[0m\n\u001b[0m\u001b[1;32m   1854\u001b[0m         \u001b[0mself\u001b[0m\u001b[0;34m.\u001b[0m\u001b[0munnamed_cols\u001b[0m \u001b[0;34m=\u001b[0m \u001b[0mself\u001b[0m\u001b[0;34m.\u001b[0m\u001b[0m_reader\u001b[0m\u001b[0;34m.\u001b[0m\u001b[0munnamed_cols\u001b[0m\u001b[0;34m\u001b[0m\u001b[0;34m\u001b[0m\u001b[0m\n\u001b[1;32m   1855\u001b[0m \u001b[0;34m\u001b[0m\u001b[0m\n",
      "\u001b[0;32mpandas/_libs/parsers.pyx\u001b[0m in \u001b[0;36mpandas._libs.parsers.TextReader.__cinit__\u001b[0;34m()\u001b[0m\n",
      "\u001b[0;31mEmptyDataError\u001b[0m: No columns to parse from file"
     ]
    }
   ],
   "source": [
    "import pandas as pd\n",
    "x = pd.read_csv('lsb.cpu_loop_blocking.r0', comment='#', sep=\"\\s+\")\n",
    "\n",
    "y = x[(x.region == 'original_loop_kernel') | (x.region == 'transformed_loop_after_blocking_kernel')]\n",
    "\n"
   ]
  },
  {
   "cell_type": "markdown",
   "metadata": {},
   "source": [
    "The distributions of 100 runtimes for each of the 2 kernels is shown below."
   ]
  },
  {
   "cell_type": "code",
   "execution_count": null,
   "metadata": {
    "scrolled": true
   },
   "outputs": [],
   "source": [
    "%%R -i y -w 800 -h 300 -u px\n",
    "\n",
    "library(ggplot2)\n",
    "pp = ggplot(y, aes_string(x='time', colour = 'region')) + geom_histogram(binwidth=.1)\n",
    "print(pp)"
   ]
  },
  {
   "cell_type": "code",
   "execution_count": null,
   "metadata": {
    "scrolled": false
   },
   "outputs": [],
   "source": [
    "z = y.drop(['id','overhead'],axis=1)\n",
    "z = z.rename(columns={'time':'time (mins)'})\n",
    "z.groupby([\"region\"]).median()*1.66667e-5"
   ]
  },
  {
   "cell_type": "markdown",
   "metadata": {},
   "source": [
    "## Generate AIWC feature-space per kernel"
   ]
  },
  {
   "cell_type": "code",
   "execution_count": null,
   "metadata": {
    "scrolled": true
   },
   "outputs": [],
   "source": [
    "! make clean\n",
    "! make\n",
    "! $OCLGRIND/bin/oclgrind --workload-characterisation ./cpu-loop-block ./cpu-loop-blocking.cl $PROBLEM_SIZE 0 0 aiwc\n",
    "! rm -f lsb.*.r0* #we aren't interested in runtime data anymore"
   ]
  },
  {
   "cell_type": "markdown",
   "metadata": {},
   "source": [
    "## Analyse AIWC data"
   ]
  },
  {
   "cell_type": "markdown",
   "metadata": {},
   "source": [
    "First load in new data"
   ]
  },
  {
   "cell_type": "code",
   "execution_count": null,
   "metadata": {},
   "outputs": [],
   "source": [
    "import pandas as pd\n",
    "originalLoop = pd.read_csv('./aiwc_original_loop_0.csv', sep=\",\")\n",
    "transformedLoop = pd.read_csv('aiwc_transformed_loop_after_blocking_0.csv', sep=\",\")"
   ]
  },
  {
   "cell_type": "markdown",
   "metadata": {},
   "source": [
    "Standardise according to existing data -- from the predictive modelling paper"
   ]
  },
  {
   "cell_type": "code",
   "execution_count": null,
   "metadata": {
    "scrolled": true
   },
   "outputs": [],
   "source": [
    "%%R -i originalLoop -i transformedLoop -o featdata.all\n",
    "\n",
    "load('/opencl-predictions-with-aiwc/data/intermediate/featdata.Rda')\n",
    "\n",
    "originalLoop$application <- \"loop_blocking\"\n",
    "originalLoop$kernel <- \"original_loop\"\n",
    "originalLoop$invocation <- 0\n",
    "originalLoop$size <- \"tiny\"\n",
    "\n",
    "transformedLoop$application <- \"loop_blocking\"\n",
    "transformedLoop$kernel <- \"transformed_loop\"\n",
    "transformedLoop$invocation <- 0\n",
    "transformedLoop$size <- \"tiny\"\n",
    "\n",
    "featdata.all <- rbind(featdata.all,originalLoop)\n",
    "featdata.all <- rbind(featdata.all,transformedLoop)\n"
   ]
  },
  {
   "cell_type": "markdown",
   "metadata": {},
   "source": [
    "Studentise the AIWC data"
   ]
  },
  {
   "cell_type": "code",
   "execution_count": null,
   "metadata": {},
   "outputs": [],
   "source": [
    "%%R -i featdata.all -o aiwc\n",
    "\n",
    "source('/opencl-predictions-with-aiwc/codes/restructure_aiwc_data.R')\n",
    "pca_dat <- reorder_features(featdata.all)\n",
    "pca_dat$opcode <- scale(pca_dat$opcode,scale=TRUE)[,1]\n",
    "pca_dat$granularity <- scale(pca_dat$granularity,scale=TRUE)[,1]\n",
    "pca_dat$barriers_per_instruction <- scale(pca_dat$barriers_per_instruction,scale=TRUE)[,1]\n",
    "pca_dat$instructions_per_operand <- scale(pca_dat$instructions_per_operand,scale=TRUE)[,1]\n",
    "pca_dat$total_instruction_count <- scale(pca_dat$total_instruction_count,scale=TRUE)[,1]\n",
    "pca_dat$workitems <- scale(pca_dat$workitems,scale=TRUE)[,1]\n",
    "pca_dat$operand_sum <- scale(pca_dat$operand_sum,scale=TRUE)[,1]\n",
    "pca_dat$total_barriers_hit <- scale(pca_dat$total_barriers_hit,scale=TRUE)[,1]\n",
    "pca_dat$min_instructions_to_barrier <- scale(pca_dat$min_instructions_to_barrier,scale=TRUE)[,1]\n",
    "pca_dat$max_instructions_to_barrier <- scale(pca_dat$max_instructions_to_barrier,scale=TRUE)[,1]\n",
    "pca_dat$median_instructions_to_barrier <- scale(pca_dat$median_instructions_to_barrier,scale=TRUE)[,1]\n",
    "pca_dat$max_simd_width <- scale(pca_dat$max_simd_width,scale=TRUE)[,1]\n",
    "pca_dat$mean_simd_width <- scale(pca_dat$mean_simd_width,scale=TRUE)[,1]\n",
    "pca_dat$stddev_simd_width <- scale(pca_dat$stddev_simd_width,scale=TRUE)[,1]\n",
    "pca_dat$total_memory_footprint <- scale(pca_dat$total_memory_footprint,scale=TRUE)[,1]\n",
    "pca_dat$ninety_percent_memory_footprint <- scale(pca_dat$ninety_percent_memory_footprint,scale=TRUE)[,1]\n",
    "pca_dat$global_memory_address_entropy <- scale(pca_dat$global_memory_address_entropy,scale=TRUE)[,1]\n",
    "pca_dat$local_memory_address_entropy_1 <- scale(pca_dat$local_memory_address_entropy_1,scale=TRUE)[,1]\n",
    "pca_dat$local_memory_address_entropy_2 <- scale(pca_dat$local_memory_address_entropy_2,scale=TRUE)[,1]\n",
    "pca_dat$local_memory_address_entropy_3 <- scale(pca_dat$local_memory_address_entropy_3,scale=TRUE)[,1]\n",
    "pca_dat$local_memory_address_entropy_4 <- scale(pca_dat$local_memory_address_entropy_4,scale=TRUE)[,1]\n",
    "pca_dat$local_memory_address_entropy_5 <- scale(pca_dat$local_memory_address_entropy_5,scale=TRUE)[,1]\n",
    "pca_dat$local_memory_address_entropy_6 <- scale(pca_dat$local_memory_address_entropy_6,scale=TRUE)[,1]\n",
    "pca_dat$local_memory_address_entropy_7 <- scale(pca_dat$local_memory_address_entropy_7,scale=TRUE)[,1]\n",
    "pca_dat$local_memory_address_entropy_8 <- scale(pca_dat$local_memory_address_entropy_8,scale=TRUE)[,1]\n",
    "pca_dat$local_memory_address_entropy_9 <- scale(pca_dat$local_memory_address_entropy_9,scale=TRUE)[,1]\n",
    "pca_dat$local_memory_address_entropy_10 <- scale(pca_dat$local_memory_address_entropy_10,scale=TRUE)[,1]\n",
    "pca_dat$total_unique_branch_instructions <- scale(pca_dat$total_unique_branch_instructions,scale=TRUE)[,1]\n",
    "pca_dat$ninety_percent_branch_instructions <- scale(pca_dat$ninety_percent_branch_instructions,scale=TRUE)[,1]\n",
    "pca_dat$branch_entropy_yokota <- scale(pca_dat$branch_entropy_yokota,scale=TRUE)[,1]\n",
    "pca_dat$branch_entropy_average_linear <- scale(pca_dat$branch_entropy_average_linear,scale=TRUE)[,1]\n",
    "aiwc <- pca_dat"
   ]
  },
  {
   "cell_type": "markdown",
   "metadata": {},
   "source": [
    "Comparison between AIWC feature-spaces"
   ]
  },
  {
   "cell_type": "code",
   "execution_count": null,
   "metadata": {
    "scrolled": true
   },
   "outputs": [],
   "source": [
    "%%R -i aiwc -w 800 -h 800 -u px\n",
    "\n",
    "library(ggplot2)\n",
    "library(reshape2)\n",
    "\n",
    "aiwc.of.interest <- subset(aiwc, application == \"loop_blocking\")\n",
    "aiwc.of.interest = subset(aiwc.of.interest, select = -size)\n",
    "aiwc.of.interest = subset(aiwc.of.interest, select = -invocation)\n",
    "aiwc.of.interest = subset(aiwc.of.interest, select = -application)\n",
    "\n",
    "melted = melt(aiwc.of.interest, id.var = 'kernel')\n",
    "ggplot(melted, aes(x = variable, y = value, fill = kernel)) + geom_bar(stat = \"identity\", position = 'dodge') +\n",
    "    scale_x_discrete(name = \"AIWC feature\") + theme(axis.text.x = element_text(angle = 90, hjust = 1))\n"
   ]
  },
  {
   "cell_type": "markdown",
   "metadata": {},
   "source": [
    "# Vectorization of Mandelbrot Set -- Example 5-33 from Intel 64 and IA-32 Architectures Optimization Reference Manual"
   ]
  },
  {
   "cell_type": "markdown",
   "metadata": {},
   "source": [
    "This example examines the ability to improve the performance of CPU devices by using vectorisation / Single Instruction Multiple Data (SIMD) level optimization. This is done by first examining the code to produce a Mandelbrot set -- a sample is shown in Figure 1.\n",
    "\n",
    "<img src=\"mandelbrot.png\" width=\"200\" alt=\"Figure 1. Mandelbrot set\">\n",
    "\n",
    "<!--\n",
    "![Figure 1. Mandelbrot set](mandelbrot.png =250x)\n",
    "-->\n",
    "\n",
    "The optimization involves restucturing the code to pack four floating point values into the same register allowing 128 bits to be treated in the same instruction. The Intel codebook, from which this example was based, originally targeted SSEv4. However, since this is intel specific an OpenCL alternative was developed. Support for vectorization comes built into OpenCL using vector primatives. "
   ]
  },
  {
   "cell_type": "markdown",
   "metadata": {},
   "source": [
    "## Generate runtime data"
   ]
  },
  {
   "cell_type": "markdown",
   "metadata": {},
   "source": [
    "Run the experiment and collect runtime data"
   ]
  },
  {
   "cell_type": "code",
   "execution_count": null,
   "metadata": {
    "scrolled": true
   },
   "outputs": [],
   "source": [
    "! make clean; make\n",
    "! ./cpu-mandelbrot-vectorization ./cpu-mandelbrot-vectorization-set-map.cl $PROBLEM_SIZE 1 0 runtime"
   ]
  },
  {
   "cell_type": "markdown",
   "metadata": {},
   "source": [
    "## Analyse runtime data"
   ]
  },
  {
   "cell_type": "code",
   "execution_count": null,
   "metadata": {
    "scrolled": true
   },
   "outputs": [],
   "source": [
    "import pandas as pd\n",
    "x = pd.read_csv('lsb.cpu_vectorization.r0', comment='#', sep=\"\\s+\")\n",
    "\n",
    "y = x[(x.region == 'mandelbrot_kernel') | (x.region == 'mandelbrot_vectorized_kernel')]\n",
    "\n"
   ]
  },
  {
   "cell_type": "markdown",
   "metadata": {},
   "source": [
    "The distributions of 100 runtimes for each of the 2 kernels is shown below."
   ]
  },
  {
   "cell_type": "code",
   "execution_count": null,
   "metadata": {
    "scrolled": true
   },
   "outputs": [],
   "source": [
    "%%R -i y -w 800 -h 300 -u px\n",
    "\n",
    "library(ggplot2)\n",
    "pp = ggplot(y, aes_string(x='time', colour = 'region')) + geom_histogram(binwidth=.1)\n",
    "print(pp)"
   ]
  },
  {
   "cell_type": "code",
   "execution_count": null,
   "metadata": {
    "scrolled": true
   },
   "outputs": [],
   "source": [
    "z = y.drop(['id','overhead'],axis=1)\n",
    "z = z.rename(columns={'time':'time (ms)'})\n",
    "z.groupby([\"region\"]).median()"
   ]
  },
  {
   "cell_type": "markdown",
   "metadata": {},
   "source": [
    "## Generate AIWC feature-space per kernel"
   ]
  },
  {
   "cell_type": "code",
   "execution_count": null,
   "metadata": {
    "scrolled": true
   },
   "outputs": [],
   "source": [
    "! make clean\n",
    "! make\n",
    "! $OCLGRIND/bin/oclgrind --workload-characterisation ./cpu-mandelbrot-vectorization ./cpu-mandelbrot-vectorization-set-map.cl $PROBLEM_SIZE 0 0 aiwc\n",
    "! rm -f lsb.*.r0* #we aren't interested in runtime data anymore"
   ]
  },
  {
   "cell_type": "markdown",
   "metadata": {},
   "source": [
    "## Analyse AIWC data"
   ]
  },
  {
   "cell_type": "markdown",
   "metadata": {},
   "source": [
    "First load in new data"
   ]
  },
  {
   "cell_type": "code",
   "execution_count": null,
   "metadata": {},
   "outputs": [],
   "source": [
    "import pandas as pd\n",
    "mandelbrot = pd.read_csv('./aiwc_mandelbrot_0.csv', sep=\",\")\n",
    "mandelbrotVectorized = pd.read_csv('./aiwc_mandelbrot_vectorized_0.csv', sep=\",\")"
   ]
  },
  {
   "cell_type": "markdown",
   "metadata": {},
   "source": [
    "Standardise according to existing data -- from the predictive modelling paper"
   ]
  },
  {
   "cell_type": "code",
   "execution_count": null,
   "metadata": {
    "scrolled": true
   },
   "outputs": [],
   "source": [
    "%%R -i mandelbrot -i mandelbrotVectorized -o featdata.all\n",
    "\n",
    "load('/opencl-predictions-with-aiwc/data/intermediate/featdata.Rda')\n",
    "\n",
    "mandelbrot$application <- \"mandelbrot_set\"\n",
    "mandelbrot$kernel <- \"mandelbrot\"\n",
    "mandelbrot$invocation <- 0\n",
    "mandelbrot$size <- Sys.getenv('PROBLEM_SIZE')\n",
    "\n",
    "mandelbrotVectorized$application <- \"mandelbrot_set\"\n",
    "mandelbrotVectorized$kernel <- \"mandelbrot_vectorized\"\n",
    "mandelbrotVectorized$invocation <- 0\n",
    "mandelbrotVectorized$size <- Sys.getenv('PROBLEM_SIZE')\n",
    "\n",
    "featdata.all <- rbind(featdata.all,mandelbrot)\n",
    "featdata.all <- rbind(featdata.all,mandelbrotVectorized)\n"
   ]
  },
  {
   "cell_type": "markdown",
   "metadata": {},
   "source": [
    "Studentise the AIWC data"
   ]
  },
  {
   "cell_type": "code",
   "execution_count": null,
   "metadata": {},
   "outputs": [],
   "source": [
    "%%R -i featdata.all -o aiwc\n",
    "\n",
    "source('/opencl-predictions-with-aiwc/codes/restructure_aiwc_data.R')\n",
    "pca_dat <- reorder_features(featdata.all)\n",
    "pca_dat$opcode <- scale(pca_dat$opcode,scale=TRUE)[,1]\n",
    "pca_dat$granularity <- scale(pca_dat$granularity,scale=TRUE)[,1]\n",
    "pca_dat$barriers_per_instruction <- scale(pca_dat$barriers_per_instruction,scale=TRUE)[,1]\n",
    "pca_dat$instructions_per_operand <- scale(pca_dat$instructions_per_operand,scale=TRUE)[,1]\n",
    "pca_dat$total_instruction_count <- scale(pca_dat$total_instruction_count,scale=TRUE)[,1]\n",
    "pca_dat$workitems <- scale(pca_dat$workitems,scale=TRUE)[,1]\n",
    "pca_dat$operand_sum <- scale(pca_dat$operand_sum,scale=TRUE)[,1]\n",
    "pca_dat$total_barriers_hit <- scale(pca_dat$total_barriers_hit,scale=TRUE)[,1]\n",
    "pca_dat$min_instructions_to_barrier <- scale(pca_dat$min_instructions_to_barrier,scale=TRUE)[,1]\n",
    "pca_dat$max_instructions_to_barrier <- scale(pca_dat$max_instructions_to_barrier,scale=TRUE)[,1]\n",
    "pca_dat$median_instructions_to_barrier <- scale(pca_dat$median_instructions_to_barrier,scale=TRUE)[,1]\n",
    "pca_dat$max_simd_width <- scale(pca_dat$max_simd_width,scale=TRUE)[,1]\n",
    "pca_dat$mean_simd_width <- scale(pca_dat$mean_simd_width,scale=TRUE)[,1]\n",
    "pca_dat$stddev_simd_width <- scale(pca_dat$stddev_simd_width,scale=TRUE)[,1]\n",
    "pca_dat$total_memory_footprint <- scale(pca_dat$total_memory_footprint,scale=TRUE)[,1]\n",
    "pca_dat$ninety_percent_memory_footprint <- scale(pca_dat$ninety_percent_memory_footprint,scale=TRUE)[,1]\n",
    "pca_dat$global_memory_address_entropy <- scale(pca_dat$global_memory_address_entropy,scale=TRUE)[,1]\n",
    "pca_dat$local_memory_address_entropy_1 <- scale(pca_dat$local_memory_address_entropy_1,scale=TRUE)[,1]\n",
    "pca_dat$local_memory_address_entropy_2 <- scale(pca_dat$local_memory_address_entropy_2,scale=TRUE)[,1]\n",
    "pca_dat$local_memory_address_entropy_3 <- scale(pca_dat$local_memory_address_entropy_3,scale=TRUE)[,1]\n",
    "pca_dat$local_memory_address_entropy_4 <- scale(pca_dat$local_memory_address_entropy_4,scale=TRUE)[,1]\n",
    "pca_dat$local_memory_address_entropy_5 <- scale(pca_dat$local_memory_address_entropy_5,scale=TRUE)[,1]\n",
    "pca_dat$local_memory_address_entropy_6 <- scale(pca_dat$local_memory_address_entropy_6,scale=TRUE)[,1]\n",
    "pca_dat$local_memory_address_entropy_7 <- scale(pca_dat$local_memory_address_entropy_7,scale=TRUE)[,1]\n",
    "pca_dat$local_memory_address_entropy_8 <- scale(pca_dat$local_memory_address_entropy_8,scale=TRUE)[,1]\n",
    "pca_dat$local_memory_address_entropy_9 <- scale(pca_dat$local_memory_address_entropy_9,scale=TRUE)[,1]\n",
    "pca_dat$local_memory_address_entropy_10 <- scale(pca_dat$local_memory_address_entropy_10,scale=TRUE)[,1]\n",
    "pca_dat$total_unique_branch_instructions <- scale(pca_dat$total_unique_branch_instructions,scale=TRUE)[,1]\n",
    "pca_dat$ninety_percent_branch_instructions <- scale(pca_dat$ninety_percent_branch_instructions,scale=TRUE)[,1]\n",
    "pca_dat$branch_entropy_yokota <- scale(pca_dat$branch_entropy_yokota,scale=TRUE)[,1]\n",
    "pca_dat$branch_entropy_average_linear <- scale(pca_dat$branch_entropy_average_linear,scale=TRUE)[,1]\n",
    "aiwc <- pca_dat"
   ]
  },
  {
   "cell_type": "markdown",
   "metadata": {},
   "source": [
    "Comparison between AIWC feature-spaces"
   ]
  },
  {
   "cell_type": "code",
   "execution_count": null,
   "metadata": {
    "scrolled": true
   },
   "outputs": [],
   "source": [
    "%%R -i aiwc -w 800 -h 800 -u px\n",
    "\n",
    "library(ggplot2)\n",
    "library(reshape2)\n",
    "\n",
    "aiwc.of.interest <- subset(aiwc, application == \"mandelbrot_set\")\n",
    "aiwc.of.interest = subset(aiwc.of.interest, select = -size)\n",
    "aiwc.of.interest = subset(aiwc.of.interest, select = -invocation)\n",
    "aiwc.of.interest = subset(aiwc.of.interest, select = -application)\n",
    "\n",
    "melted = melt(aiwc.of.interest, id.var = 'kernel')\n",
    "ggplot(melted, aes(x = variable, y = value, fill = kernel)) + geom_bar(stat = \"identity\", position = 'dodge') +\n",
    "    scale_x_discrete(name = \"AIWC feature\") + theme(axis.text.x = element_text(angle = 90, hjust = 1))\n"
   ]
  },
  {
   "cell_type": "code",
   "execution_count": null,
   "metadata": {},
   "outputs": [],
   "source": []
  }
 ],
 "metadata": {
  "kernelspec": {
   "display_name": "Python 3",
   "language": "python",
   "name": "python3"
  },
  "language_info": {
   "codemirror_mode": {
    "name": "ipython",
    "version": 3
   },
   "file_extension": ".py",
   "mimetype": "text/x-python",
   "name": "python",
   "nbconvert_exporter": "python",
   "pygments_lexer": "ipython3",
   "version": "3.6.8"
  },
  "toc": {
   "base_numbering": 1,
   "nav_menu": {},
   "number_sections": false,
   "sideBar": false,
   "skip_h1_title": false,
   "title_cell": "Table of Contents",
   "title_sidebar": "Contents",
   "toc_cell": false,
   "toc_position": {},
   "toc_section_display": false,
   "toc_window_display": false
  }
 },
 "nbformat": 4,
 "nbformat_minor": 2
}
