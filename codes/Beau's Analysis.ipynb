{
 "cells": [
  {
   "cell_type": "markdown",
   "metadata": {},
   "source": [
    "# CUDA C Best Practices Guide -- Shared Memory Optimisations"
   ]
  },
  {
   "cell_type": "markdown",
   "metadata": {},
   "source": [
    "Change the following to run the same analysis on a different problem size:"
   ]
  },
  {
   "cell_type": "code",
   "execution_count": 1,
   "metadata": {},
   "outputs": [
    {
     "name": "stdout",
     "output_type": "stream",
     "text": [
      "env: OCLGRIND=/oclgrind\n",
      "env: PROBLEM_SIZE=tiny\n"
     ]
    }
   ],
   "source": [
    "%env OCLGRIND=/oclgrind\n",
    "%env PROBLEM_SIZE=tiny\n",
    "# %env PROBLEM_SIZE=small\n",
    "# %env PROBLEM_SIZE=medium\n",
    "# %env PROBLEM_SIZE=large\n",
    "\n",
    "# set-up compulsory stuff\n",
    "%load_ext rpy2.ipython"
   ]
  },
  {
   "cell_type": "markdown",
   "metadata": {},
   "source": [
    "## Generate runtime data"
   ]
  },
  {
   "cell_type": "code",
   "execution_count": 2,
   "metadata": {
    "scrolled": true
   },
   "outputs": [
    {
     "name": "stdout",
     "output_type": "stream",
     "text": [
      "rm -f sbd aiwc-tester lsb.*.r0* aiwc_*.csv aiwc_*_itb.log Rplots.pdf cpu-loop-block cpu-mandelbrot-vectorization\n",
      "g++ gpu-strided-global-memory-access-unoptimised.cpp -o gpu-stride -lOpenCL -llsb -L/libscibench/lib -I/libscibench/include -std=c++11\n",
      "g++ cpu-loop-blocking.cpp -o cpu-loop-block -lOpenCL -llsb -L/libscibench/lib -I/libscibench/include -std=c++11\n",
      "g++ cpu-mandelbrot-vectorization.cpp -o cpu-mandelbrot-vectorization -lOpenCL -llsb -L/libscibench/lib -I/libscibench/include -std=c++11\n",
      "g++ aiwc-tester.cpp -o aiwc-tester -lOpenCL -llsb -L/libscibench/lib -I/libscibench/include -std=c++11\n"
     ]
    }
   ],
   "source": [
    "! make clean\n",
    "! make"
   ]
  },
  {
   "cell_type": "markdown",
   "metadata": {},
   "source": [
    "Run the experiment and collect runtime data"
   ]
  },
  {
   "cell_type": "code",
   "execution_count": 3,
   "metadata": {},
   "outputs": [
    {
     "name": "stdout",
     "output_type": "stream",
     "text": [
      "//shared memory in matrix multiplication ported from the [cuda c best practices guide](https://docs.nvidia.com/cuda/cuda-c-best-practices-guide/index.html#shared-memory-in-matrix-multiplication-c-aa)\r\n",
      "\r\n",
      "__kernel void simpleMultiply(__global float *a,__global float *b,__global float *c, int N)\r\n",
      "{\r\n",
      "    int row = get_group_id(1) * get_local_size(1) + get_local_id(1);//blockIdx.y * blockDim.y + threadIdx.y;\r\n",
      "    int col = get_group_id(0) * get_local_size(0) + get_local_id(0);//blockIdx.x * blockDim.x + threadIdx.x;\r\n",
      "    float sum = 0.0f;\r\n",
      "    for (int i = 0; i < TILE_DIM; i++) {\r\n",
      "        sum += a[row*TILE_DIM+i] * b[i*N+col];\r\n",
      "    }\r\n",
      "    c[row*TILE_DIM+col] = sum;\r\n",
      "}\r\n",
      "\r\n",
      "__kernel void coalescedMultiply(__global float* a, __global float* b, __global float* c, int N)\r\n",
      "{\r\n",
      "    __local float aTile[TILE_DIM][TILE_DIM];\r\n",
      "    int row = get_group_id(1) * get_local_size(1) + get_local_id(1);//blockIdx.y * blockDim.y + threadIdx.y;\r\n",
      "    int col = get_group_id(0) * get_local_size(0) + get_local_id(0);//blockIdx.x * blockDim.x + threadIdx.x;\r\n",
      "    float sum = 0.0f;\r\n",
      "    aTile[get_local_id(1)][get_local_id(0)] = a[row*TILE_DIM+get_local_id(0)];\r\n",
      "    for (int i = 0; i < TILE_DIM; i++) {\r\n",
      "        sum += aTile[get_local_id(1)][i] * b[i*N+col];\r\n",
      "    }\r\n",
      "    c[row*N+col] = sum;\r\n",
      "}\r\n",
      "\r\n",
      "__kernel void sharedABMultiply(__global float *a, __global float* b, __global float *c, int N)\r\n",
      "{\r\n",
      "    __local float aTile[TILE_DIM][TILE_DIM],\r\n",
      "                  bTile[TILE_DIM][TILE_DIM];\r\n",
      "    int row = get_group_id(1) * get_local_size(1) + get_local_id(1);\r\n",
      "    int col = get_group_id(0) * get_local_size(0) + get_local_id(0);\r\n",
      "    float sum = 0.0f;\r\n",
      "    aTile[get_local_id(1)][get_local_id(0)] = a[row*TILE_DIM+get_local_id(0)];\r\n",
      "    bTile[get_local_id(1)][get_local_id(0)] = b[get_local_id(1)*N+col];\r\n",
      "    barrier(CLK_LOCAL_MEM_FENCE);\r\n",
      "    for (int i = 0; i < TILE_DIM; i++) {\r\n",
      "        sum += aTile[get_local_id(1)][i]* bTile[i][get_local_id(0)];\r\n",
      "    }\r\n",
      "    c[row*N+col] = sum;\r\n",
      "}\r\n",
      "\r\n",
      "\r\n"
     ]
    }
   ],
   "source": [
    "! cat ./gpu-strided-global-memory-access-unoptimised.cl"
   ]
  },
  {
   "cell_type": "code",
   "execution_count": 4,
   "metadata": {
    "scrolled": false
   },
   "outputs": [
    {
     "name": "stdout",
     "output_type": "stream",
     "text": [
      "***** LSB_Init >gpu_memory_access< writing to >lsb.gpu_memory_access.r0< *****\n",
      "Attempting kernel: ./gpu-strided-global-memory-access-unoptimised.cl with contents:\n",
      "//shared memory in matrix multiplication ported from the [cuda c best practices guide](https://docs.nvidia.com/cuda/cuda-c-best-practices-guide/index.html#shared-memory-in-matrix-multiplication-c-aa)\n",
      "\n",
      "__kernel void simpleMultiply(__global float *a,__global float *b,__global float *c, int N)\n",
      "{\n",
      "    int row = get_group_id(1) * get_local_size(1) + get_local_id(1);//blockIdx.y * blockDim.y + threadIdx.y;\n",
      "    int col = get_group_id(0) * get_local_size(0) + get_local_id(0);//blockIdx.x * blockDim.x + threadIdx.x;\n",
      "    float sum = 0.0f;\n",
      "    for (int i = 0; i < TILE_DIM; i++) {\n",
      "        sum += a[row*TILE_DIM+i] * b[i*N+col];\n",
      "    }\n",
      "    c[row*TILE_DIM+col] = sum;\n",
      "}\n",
      "\n",
      "__kernel void coalescedMultiply(__global float* a, __global float* b, __global float* c, int N)\n",
      "{\n",
      "    __local float aTile[TILE_DIM][TILE_DIM];\n",
      "    int row = get_group_id(1) * get_local_size(1) + get_local_id(1);//blockIdx.y * blockDim.y + threadIdx.y;\n",
      "    int col = get_group_id(0) * get_local_size(0) + get_local_id(0);//blockIdx.x * blockDim.x + threadIdx.x;\n",
      "    float sum = 0.0f;\n",
      "    aTile[get_local_id(1)][get_local_id(0)] = a[row*TILE_DIM+get_local_id(0)];\n",
      "    for (int i = 0; i < TILE_DIM; i++) {\n",
      "        sum += aTile[get_local_id(1)][i] * b[i*N+col];\n",
      "    }\n",
      "    c[row*N+col] = sum;\n",
      "}\n",
      "\n",
      "__kernel void sharedABMultiply(__global float *a, __global float* b, __global float *c, int N)\n",
      "{\n",
      "    __local float aTile[TILE_DIM][TILE_DIM],\n",
      "                  bTile[TILE_DIM][TILE_DIM];\n",
      "    int row = get_group_id(1) * get_local_size(1) + get_local_id(1);\n",
      "    int col = get_group_id(0) * get_local_size(0) + get_local_id(0);\n",
      "    float sum = 0.0f;\n",
      "    aTile[get_local_id(1)][get_local_id(0)] = a[row*TILE_DIM+get_local_id(0)];\n",
      "    bTile[get_local_id(1)][get_local_id(0)] = b[get_local_id(1)*N+col];\n",
      "    barrier(CLK_LOCAL_MEM_FENCE);\n",
      "    for (int i = 0; i < TILE_DIM; i++) {\n",
      "        sum += aTile[get_local_id(1)][i]* bTile[i][get_local_id(0)];\n",
      "    }\n",
      "    c[row*N+col] = sum;\n",
      "}\n",
      "\n",
      "\n",
      "\n",
      "M = 64 N = 64 total KiB = 32\n",
      "Operating on a 64x64 matrix with a tile size 32...\n",
      "******* LSB_Finalize *******\n"
     ]
    }
   ],
   "source": [
    "! ./gpu-stride ./gpu-strided-global-memory-access-unoptimised.cl $PROBLEM_SIZE 0 0 runtime"
   ]
  },
  {
   "cell_type": "markdown",
   "metadata": {},
   "source": [
    "## Analyse runtimes data -- to ensure the OpenCL port of the cuda codes matches those shown in CUDA code-book"
   ]
  },
  {
   "cell_type": "code",
   "execution_count": 5,
   "metadata": {
    "scrolled": true
   },
   "outputs": [],
   "source": [
    "import pandas as pd\n",
    "x = pd.read_csv('lsb.gpu_memory_access.r0', comment='#', sep=\"\\s+\")\n",
    "#print(x)\n",
    "\n",
    "y = x[(x.region == 'simpleMultiply_kernel') | (x.region == 'coalescedMultiply_kernel') | (x.region == 'sharedABMultiply_kernel')]\n",
    "\n"
   ]
  },
  {
   "cell_type": "markdown",
   "metadata": {},
   "source": [
    "The distributions of 100 runtimes for each of the 3 kernels of memory striding for GPU optimisations are shown below."
   ]
  },
  {
   "cell_type": "code",
   "execution_count": 6,
   "metadata": {
    "scrolled": true
   },
   "outputs": [
    {
     "data": {
      "image/png": "[encoded data removed]"
     },
     "metadata": {},
     "output_type": "display_data"
    }
   ],
   "source": [
    "%%R -i y -w 800 -h 300 -u px\n",
    "\n",
    "library(ggplot2)\n",
    "pp = ggplot(y, aes_string(x='time', colour = 'region')) + geom_histogram(binwidth=.5)\n",
    "print(pp)"
   ]
  },
  {
   "cell_type": "markdown",
   "metadata": {},
   "source": [
    "**NOTE:** Do these distributions appear suspect? Perhaps move the timing regions to outside of the loop and divide by iterations -- in the C host source"
   ]
  },
  {
   "cell_type": "code",
   "execution_count": 7,
   "metadata": {
    "scrolled": false
   },
   "outputs": [
    {
     "data": {
      "text/html": [
       "<div>\n",
       "<style scoped>\n",
       "    .dataframe tbody tr th:only-of-type {\n",
       "        vertical-align: middle;\n",
       "    }\n",
       "\n",
       "    .dataframe tbody tr th {\n",
       "        vertical-align: top;\n",
       "    }\n",
       "\n",
       "    .dataframe thead th {\n",
       "        text-align: right;\n",
       "    }\n",
       "</style>\n",
       "<table border=\"1\" class=\"dataframe\">\n",
       "  <thead>\n",
       "    <tr style=\"text-align: right;\">\n",
       "      <th></th>\n",
       "      <th>time (ms)</th>\n",
       "    </tr>\n",
       "    <tr>\n",
       "      <th>region</th>\n",
       "      <th></th>\n",
       "    </tr>\n",
       "  </thead>\n",
       "  <tbody>\n",
       "    <tr>\n",
       "      <th>coalescedMultiply_kernel</th>\n",
       "      <td>13.549316</td>\n",
       "    </tr>\n",
       "    <tr>\n",
       "      <th>sharedABMultiply_kernel</th>\n",
       "      <td>11.564454</td>\n",
       "    </tr>\n",
       "    <tr>\n",
       "      <th>simpleMultiply_kernel</th>\n",
       "      <td>16.854492</td>\n",
       "    </tr>\n",
       "  </tbody>\n",
       "</table>\n",
       "</div>"
      ],
      "text/plain": [
       "                          time (ms)\n",
       "region                             \n",
       "coalescedMultiply_kernel  13.549316\n",
       "sharedABMultiply_kernel   11.564454\n",
       "simpleMultiply_kernel     16.854492"
      ]
     },
     "execution_count": 7,
     "metadata": {},
     "output_type": "execute_result"
    }
   ],
   "source": [
    "z = y.drop(['id','overhead'],axis=1)\n",
    "z = z.rename(columns={'time':'time (ms)'})\n",
    "z.groupby([\"region\"]).median()"
   ]
  },
  {
   "cell_type": "markdown",
   "metadata": {},
   "source": [
    "## Generate AIWC feature-space per kernel"
   ]
  },
  {
   "cell_type": "code",
   "execution_count": 8,
   "metadata": {
    "scrolled": true
   },
   "outputs": [
    {
     "name": "stdout",
     "output_type": "stream",
     "text": [
      "rm -f sbd aiwc-tester lsb.*.r0* aiwc_*.csv aiwc_*_itb.log Rplots.pdf cpu-loop-block cpu-mandelbrot-vectorization\n",
      "g++ cpu-loop-blocking.cpp -o cpu-loop-block -lOpenCL -llsb -L/libscibench/lib -I/libscibench/include -std=c++11\n",
      "g++ cpu-mandelbrot-vectorization.cpp -o cpu-mandelbrot-vectorization -lOpenCL -llsb -L/libscibench/lib -I/libscibench/include -std=c++11\n",
      "g++ aiwc-tester.cpp -o aiwc-tester -lOpenCL -llsb -L/libscibench/lib -I/libscibench/include -std=c++11\n",
      "***** LSB_Init >gpu_memory_access< writing to >lsb.gpu_memory_access.r0< *****\n",
      "Attempting kernel: ./gpu-strided-global-memory-access-unoptimised.cl with contents:\n",
      "//shared memory in matrix multiplication ported from the [cuda c best practices guide](https://docs.nvidia.com/cuda/cuda-c-best-practices-guide/index.html#shared-memory-in-matrix-multiplication-c-aa)\n",
      "\n",
      "__kernel void simpleMultiply(__global float *a,__global float *b,__global float *c, int N)\n",
      "{\n",
      "    int row = get_group_id(1) * get_local_size(1) + get_local_id(1);//blockIdx.y * blockDim.y + threadIdx.y;\n",
      "    int col = get_group_id(0) * get_local_size(0) + get_local_id(0);//blockIdx.x * blockDim.x + threadIdx.x;\n",
      "    float sum = 0.0f;\n",
      "    for (int i = 0; i < TILE_DIM; i++) {\n",
      "        sum += a[row*TILE_DIM+i] * b[i*N+col];\n",
      "    }\n",
      "    c[row*TILE_DIM+col] = sum;\n",
      "}\n",
      "\n",
      "__kernel void coalescedMultiply(__global float* a, __global float* b, __global float* c, int N)\n",
      "{\n",
      "    __local float aTile[TILE_DIM][TILE_DIM];\n",
      "    int row = get_group_id(1) * get_local_size(1) + get_local_id(1);//blockIdx.y * blockDim.y + threadIdx.y;\n",
      "    int col = get_group_id(0) * get_local_size(0) + get_local_id(0);//blockIdx.x * blockDim.x + threadIdx.x;\n",
      "    float sum = 0.0f;\n",
      "    aTile[get_local_id(1)][get_local_id(0)] = a[row*TILE_DIM+get_local_id(0)];\n",
      "    for (int i = 0; i < TILE_DIM; i++) {\n",
      "        sum += aTile[get_local_id(1)][i] * b[i*N+col];\n",
      "    }\n",
      "    c[row*N+col] = sum;\n",
      "}\n",
      "\n",
      "__kernel void sharedABMultiply(__global float *a, __global float* b, __global float *c, int N)\n",
      "{\n",
      "    __local float aTile[TILE_DIM][TILE_DIM],\n",
      "                  bTile[TILE_DIM][TILE_DIM];\n",
      "    int row = get_group_id(1) * get_local_size(1) + get_local_id(1);\n",
      "    int col = get_group_id(0) * get_local_size(0) + get_local_id(0);\n",
      "    float sum = 0.0f;\n",
      "    aTile[get_local_id(1)][get_local_id(0)] = a[row*TILE_DIM+get_local_id(0)];\n",
      "    bTile[get_local_id(1)][get_local_id(0)] = b[get_local_id(1)*N+col];\n",
      "    barrier(CLK_LOCAL_MEM_FENCE);\n",
      "    for (int i = 0; i < TILE_DIM; i++) {\n",
      "        sum += aTile[get_local_id(1)][i]* bTile[i][get_local_id(0)];\n",
      "    }\n",
      "    c[row*N+col] = sum;\n",
      "}\n",
      "\n",
      "\n",
      "\n",
      "M = 64 N = 64 total KiB = 32\n",
      "Operating on a 64x64 matrix with a tile size 32...\n",
      "Architecture-Independent Workload Characterization of kernel: simpleMultiply\n",
      "+----------------------------------------------------------------------------+\n",
      "|Compute Opcode Instruction Histogram                                        |\n",
      "+============================================================================+\n",
      "instruction: trunc count: 8192\n",
      "instruction: shl count: 4096\n",
      "instruction: add count: 405504\n",
      "instruction: store count: 4096\n",
      "instruction: icmp count: 135168\n",
      "instruction: ret count: 4096\n",
      "instruction: sext count: 266240\n",
      "instruction: phi count: 270336\n",
      "instruction: mul count: 139264\n",
      "instruction: call count: 155648\n",
      "instruction: br count: 270336\n",
      "instruction: getelementptr count: 266240\n",
      "instruction: load count: 262144\n",
      "+----------------------------------------------------------------------------+\n",
      "|Compute Opcode Unique Opcodes required to cover 90% of Dynamic Instructions |\n",
      "+============================================================================+\n",
      "Unique Op Codes comprising of 90% of dynamic instructions:\n",
      "\tadd\n",
      "\tphi\n",
      "\tbr\n",
      "\tsext\n",
      "\tgetelementptr\n",
      "\tload\n",
      "\tcall\n",
      "\tmul\n",
      "Unique Opcodes required to cover 90% of Dynamic Instructions: 8\n",
      "Total Instruction Count: 2191360\n",
      "+--------------------------------------------------------------------------+\n",
      "|Utilization                                                               |\n",
      "+==========================================================================+\n",
      "Freedom to Reorder: 8.21538\n",
      "Resource Pressure: 65\n",
      "+--------------------------------------------------------------------------+\n",
      "|Instruction Level Parallelism                                             |\n",
      "+==========================================================================+\n",
      "# of workitems invoked: 4096\n",
      "total # of workitem barriers hit: 0\n",
      "Min instructions to barrier: 535\n",
      "Max instructions to barrier: 535\n",
      "Median instructions to barrier: 535\n",
      "+-------------------------------------------------------------------------------------------------------+\n",
      "|Work Distribution -- Measure of work between threads     |\n",
      "+=======================================================================================================+\n",
      "Min instructions executed by a work-item: 535\n",
      "Max instructions executed by a work-item: 535\n",
      "Median instructions executed by a work-item: 535\n",
      "+--------------------------------------------------------------------------+\n",
      "|Data Level Parallelism                                                    |\n",
      "+==========================================================================+\n",
      "Min data width: 1\n",
      "Max data width: 1\n",
      "Operand sum: 2.19136e+06\n",
      "Mean data width: 1\n",
      "stdev data width: 0\n",
      "Granularity: 4.56338e-07\n",
      "Barriers Per Instruction : 4.56338e-07\n",
      "Instructions Per Operand : 1\n",
      "+--------------------------------------------------------------------------+\n",
      "|Total Memory Footprint -- total number of unique memory addresses accessed|\n",
      "+==========================================================================+\n",
      "6176\n",
      "+----------------------------------------------------------------------------------------------+\n",
      "|90% Memory Footprint -- Number of unique memory addresses that cover 90% of memory accesses   |\n",
      "+==============================================================================================+\n",
      "total number of memory accesses = 266240\n",
      "90% of memory accesses:239616\n",
      "Number of unique memory addresses that cover 90% of memory accesses: 3744\n",
      "+----------------------------------------------------------------------------------------------+\n",
      "|Global Memory Address Entropy -- Measure of the randomness of memory addresses                |\n",
      "+==============================================================================================+\n",
      "12.0991\n",
      "+----------------------------------------------------------------------------------------------+\n",
      "|Local Memory Address Entropy -- Measure of the spatial locality of memory addresses           |\n",
      "+==============================================================================================+\n",
      "LSBs skipped\tEntropy (bits)\n",
      "1\t\t9.09101\n",
      "2\t\t9.09101\n",
      "3\t\t9.09101\n",
      "4\t\t9.09101\n",
      "5\t\t9.09101\n",
      "6\t\t8.10353\n",
      "7\t\t7.10871\n",
      "8\t\t6.12864\n",
      "9\t\t5.15346\n",
      "10\t\t4.21524\n",
      "+-------------------------------------------------------------------------------------------------------+\n",
      "|Unique Branch Instructions -- Total number of unique branch instructions to cover 90% of the branches|\n",
      "+=======================================================================================================+\n",
      "Branch At Line\tCount (hit and miss)\n",
      "8\t\t135168\n",
      "Number of unique branches that cover 90% of all branch instructions: 1\n",
      "+-------------------------------------------------------------------------------------------------------+\n",
      "|Branch Entropy -- Measure of the randomness of branch behaviour, representing branch predicability     |\n",
      "+=======================================================================================================+\n",
      "Using a branch history of 16\n",
      "Yokota Branch Entropy: 16380.2\n",
      "Yokota Branch Entropy Per Workload: 4\n",
      "Average Linear Branch Entropy: 0.0605989\n",
      "The Architecture-Independent Workload Characterisation was written to file: aiwc_simpleMultiply_0.csv\n",
      "Architecture-Independent Workload Characterization of kernel: coalescedMultiply\n",
      "+----------------------------------------------------------------------------+\n",
      "|Compute Opcode Instruction Histogram                                        |\n",
      "+============================================================================+\n",
      "instruction: sext count: 270336\n",
      "instruction: phi count: 270336\n",
      "instruction: trunc count: 8192\n",
      "instruction: shl count: 4096\n",
      "instruction: add count: 278528\n",
      "instruction: store count: 8192\n",
      "instruction: call count: 155648\n",
      "instruction: getelementptr count: 274432\n",
      "instruction: load count: 266240\n",
      "instruction: br count: 270336\n",
      "instruction: mul count: 143360\n",
      "instruction: icmp count: 135168\n",
      "instruction: ret count: 4096\n",
      "+----------------------------------------------------------------------------+\n",
      "|Compute Opcode Unique Opcodes required to cover 90% of Dynamic Instructions |\n",
      "+============================================================================+\n",
      "Unique Op Codes comprising of 90% of dynamic instructions:\n",
      "\tadd\n",
      "\tgetelementptr\n",
      "\tsext\n",
      "\tphi\n",
      "\tbr\n",
      "\tload\n",
      "\tcall\n",
      "\tmul\n",
      "Unique Opcodes required to cover 90% of Dynamic Instructions: 8\n",
      "Total Instruction Count: 2088960\n",
      "+--------------------------------------------------------------------------+\n",
      "|Utilization                                                               |\n",
      "+==========================================================================+\n",
      "Freedom to Reorder: 7.59701\n",
      "Resource Pressure: 67\n",
      "+--------------------------------------------------------------------------+\n",
      "|Instruction Level Parallelism                                             |\n",
      "+==========================================================================+\n",
      "# of workitems invoked: 4096\n",
      "total # of workitem barriers hit: 0\n",
      "Min instructions to barrier: 510\n",
      "Max instructions to barrier: 510\n",
      "Median instructions to barrier: 510\n",
      "+-------------------------------------------------------------------------------------------------------+\n",
      "|Work Distribution -- Measure of work between threads     |\n",
      "+=======================================================================================================+\n",
      "Min instructions executed by a work-item: 510\n",
      "Max instructions executed by a work-item: 510\n",
      "Median instructions executed by a work-item: 510\n",
      "+--------------------------------------------------------------------------+\n",
      "|Data Level Parallelism                                                    |\n",
      "+==========================================================================+\n",
      "Min data width: 1\n",
      "Max data width: 1\n"
     ]
    },
    {
     "name": "stdout",
     "output_type": "stream",
     "text": [
      "Operand sum: 2.08896e+06\n",
      "Mean data width: 1\n",
      "stdev data width: 0\n",
      "Granularity: 4.78707e-07\n",
      "Barriers Per Instruction : 4.78707e-07\n",
      "Instructions Per Operand : 1\n",
      "+--------------------------------------------------------------------------+\n",
      "|Total Memory Footprint -- total number of unique memory addresses accessed|\n",
      "+==========================================================================+\n",
      "9280\n",
      "+----------------------------------------------------------------------------------------------+\n",
      "|90% Memory Footprint -- Number of unique memory addresses that cover 90% of memory accesses   |\n",
      "+==============================================================================================+\n",
      "total number of memory accesses = 274432\n",
      "90% of memory accesses:246989\n",
      "Number of unique memory addresses that cover 90% of memory accesses: 4569\n",
      "+----------------------------------------------------------------------------------------------+\n",
      "|Global Memory Address Entropy -- Measure of the randomness of memory addresses                |\n",
      "+==============================================================================================+\n",
      "12.2223\n",
      "+----------------------------------------------------------------------------------------------+\n",
      "|Local Memory Address Entropy -- Measure of the spatial locality of memory addresses           |\n",
      "+==============================================================================================+\n",
      "LSBs skipped\tEntropy (bits)\n",
      "1\t\t8.24904\n",
      "2\t\t8.2491\n",
      "3\t\t8.24904\n",
      "4\t\t8.24905\n",
      "5\t\t8.24912\n",
      "6\t\t7.74762\n",
      "7\t\t7.24064\n",
      "8\t\t6.26178\n",
      "9\t\t5.30519\n",
      "10\t\t4.36739\n",
      "+-------------------------------------------------------------------------------------------------------+\n",
      "|Unique Branch Instructions -- Total number of unique branch instructions to cover 90% of the branches|\n",
      "+=======================================================================================================+\n",
      "Branch At Line\tCount (hit and miss)\n",
      "21\t\t135168\n",
      "Number of unique branches that cover 90% of all branch instructions: 1\n",
      "+-------------------------------------------------------------------------------------------------------+\n",
      "|Branch Entropy -- Measure of the randomness of branch behaviour, representing branch predicability     |\n",
      "+=======================================================================================================+\n",
      "Using a branch history of 16\n",
      "Yokota Branch Entropy: 16380.2\n",
      "Yokota Branch Entropy Per Workload: 4\n",
      "Average Linear Branch Entropy: 0.0605989\n",
      "The Architecture-Independent Workload Characterisation was written to file: aiwc_coalescedMultiply_0.csv\n",
      "Architecture-Independent Workload Characterization of kernel: sharedABMultiply\n",
      "+----------------------------------------------------------------------------+\n",
      "|Compute Opcode Instruction Histogram                                        |\n",
      "+============================================================================+\n",
      "instruction: sext count: 147456\n",
      "instruction: phi count: 270336\n",
      "instruction: trunc count: 8192\n",
      "instruction: shl count: 4096\n",
      "instruction: add count: 151552\n",
      "instruction: store count: 12288\n",
      "instruction: call count: 159744\n",
      "instruction: getelementptr count: 282624\n",
      "instruction: load count: 270336\n",
      "instruction: br count: 270336\n",
      "instruction: mul count: 16384\n",
      "instruction: icmp count: 135168\n",
      "instruction: ret count: 4096\n",
      "+----------------------------------------------------------------------------+\n",
      "|Compute Opcode Unique Opcodes required to cover 90% of Dynamic Instructions |\n",
      "+============================================================================+\n",
      "Unique Op Codes comprising of 90% of dynamic instructions:\n",
      "\tgetelementptr\n",
      "\tphi\n",
      "\tload\n",
      "\tbr\n",
      "\tcall\n",
      "\tadd\n",
      "\tsext\n",
      "\ticmp\n",
      "Unique Opcodes required to cover 90% of Dynamic Instructions: 8\n",
      "Total Instruction Count: 1732608\n",
      "+--------------------------------------------------------------------------+\n",
      "|Utilization                                                               |\n",
      "+==========================================================================+\n",
      "Freedom to Reorder: 6.11594\n",
      "Resource Pressure: 69\n",
      "+--------------------------------------------------------------------------+\n",
      "|Instruction Level Parallelism                                             |\n",
      "+==========================================================================+\n",
      "# of workitems invoked: 4096\n",
      "total # of workitem barriers hit: 4096\n",
      "Min instructions to barrier: 27\n",
      "Max instructions to barrier: 404480\n",
      "Median instructions to barrier: 211\n",
      "+-------------------------------------------------------------------------------------------------------+\n",
      "|Work Distribution -- Measure of work between threads     |\n",
      "+=======================================================================================================+\n",
      "Min instructions executed by a work-item: 423\n",
      "Max instructions executed by a work-item: 404508\n",
      "Median instructions executed by a work-item: 202465\n",
      "+--------------------------------------------------------------------------+\n",
      "|Data Level Parallelism                                                    |\n",
      "+==========================================================================+\n",
      "Min data width: 1\n",
      "Max data width: 1\n",
      "Operand sum: 1.73261e+06\n",
      "Mean data width: 1\n",
      "stdev data width: 0\n",
      "Granularity: 5.77165e-07\n",
      "Barriers Per Instruction : 0.00236464\n",
      "Instructions Per Operand : 1\n",
      "+--------------------------------------------------------------------------+\n",
      "|Total Memory Footprint -- total number of unique memory addresses accessed|\n",
      "+==========================================================================+\n",
      "13376\n",
      "+----------------------------------------------------------------------------------------------+\n",
      "|90% Memory Footprint -- Number of unique memory addresses that cover 90% of memory accesses   |\n",
      "+==============================================================================================+\n",
      "total number of memory accesses = 282624\n",
      "90% of memory accesses:254362\n",
      "Number of unique memory addresses that cover 90% of memory accesses: 7708\n",
      "+----------------------------------------------------------------------------------------------+\n",
      "|Global Memory Address Entropy -- Measure of the randomness of memory addresses                |\n",
      "+==============================================================================================+\n",
      "13.2277\n",
      "+----------------------------------------------------------------------------------------------+\n",
      "|Local Memory Address Entropy -- Measure of the spatial locality of memory addresses           |\n",
      "+==============================================================================================+\n",
      "LSBs skipped\tEntropy (bits)\n",
      "1\t\t8.33967\n",
      "2\t\t8.33967\n",
      "3\t\t8.33967\n",
      "4\t\t8.33968\n",
      "5\t\t8.33967\n",
      "6\t\t8.2967\n",
      "7\t\t8.25344\n",
      "8\t\t7.27787\n",
      "9\t\t6.32801\n",
      "10\t\t5.39107\n",
      "+-------------------------------------------------------------------------------------------------------+\n",
      "|Unique Branch Instructions -- Total number of unique branch instructions to cover 90% of the branches|\n",
      "+=======================================================================================================+\n",
      "Branch At Line\tCount (hit and miss)\n",
      "37\t\t135168\n",
      "Number of unique branches that cover 90% of all branch instructions: 1\n",
      "+-------------------------------------------------------------------------------------------------------+\n",
      "|Branch Entropy -- Measure of the randomness of branch behaviour, representing branch predicability     |\n",
      "+=======================================================================================================+\n",
      "Using a branch history of 16\n",
      "Yokota Branch Entropy: 16380.2\n",
      "Yokota Branch Entropy Per Workload: 4\n",
      "Average Linear Branch Entropy: 0.0605989\n",
      "The Architecture-Independent Workload Characterisation was written to file: aiwc_sharedABMultiply_0.csv\n",
      "+-------------------------------------------------------------------------------------------------------+\n",
      "|Memory Transfers -- statistics around host to device and device to host memory transfers               |\n",
      "+=======================================================================================================+\n",
      "Total Host To Device Transfers (#) for kernel:\n",
      "\tsimpleMultiply: 3\n",
      "\tcoalescedMultiply: 3\n",
      "\tsharedABMultiply: 3\n",
      "Total Device To Host Transfers (#) for kernel:\n",
      "\tsimpleMultiply: 3\n",
      "\tcoalescedMultiply: 3\n",
      "\tsharedABMultiply: 3\n",
      "******* LSB_Finalize *******\n"
     ]
    }
   ],
   "source": [
    "! make clean\n",
    "! make\n",
    "! $OCLGRIND/bin/oclgrind --workload-characterisation ./gpu-stride ./gpu-strided-global-memory-access-unoptimised.cl $PROBLEM_SIZE 0 0 aiwc\n",
    "! rm -f lsb.*.r0* #we aren't interested in runtime data anymore"
   ]
  },
  {
   "cell_type": "markdown",
   "metadata": {},
   "source": [
    "## Analyse AIWC data"
   ]
  },
  {
   "cell_type": "markdown",
   "metadata": {},
   "source": [
    "First load in new data"
   ]
  },
  {
   "cell_type": "code",
   "execution_count": 9,
   "metadata": {},
   "outputs": [],
   "source": [
    "import pandas as pd\n",
    "simpleMultiply = pd.read_csv('aiwc_simpleMultiply_0.csv', sep=\",\")\n",
    "coalescedMultiply = pd.read_csv('aiwc_coalescedMultiply_0.csv', sep=\",\")\n",
    "sharedABMultiply = pd.read_csv('aiwc_sharedABMultiply_0.csv', sep=\",\")"
   ]
  },
  {
   "cell_type": "markdown",
   "metadata": {},
   "source": [
    "Standardise according to existing data -- from the predictive modelling paper"
   ]
  },
  {
   "cell_type": "code",
   "execution_count": 10,
   "metadata": {
    "scrolled": true
   },
   "outputs": [],
   "source": [
    "%%R -i simpleMultiply -i coalescedMultiply -i sharedABMultiply -o featdata.all\n",
    "\n",
    "load('/opencl-predictions-with-aiwc/data/intermediate/featdata.Rda')\n",
    "\n",
    "simpleMultiply$application <- \"matrix_multiplication\"\n",
    "simpleMultiply$kernel <- \"simple_multiply\"\n",
    "simpleMultiply$invocation <- 0\n",
    "simpleMultiply$size <- Sys.getenv('PROBLEM_SIZE')\n",
    "\n",
    "coalescedMultiply$application <- \"matrix_multiplication\"\n",
    "coalescedMultiply$kernel <- \"coalesced_multiply\"\n",
    "coalescedMultiply$invocation <- 0\n",
    "coalescedMultiply$size <- Sys.getenv('PROBLEM_SIZE')\n",
    "\n",
    "sharedABMultiply$application <- \"matrix_multiplication\"\n",
    "sharedABMultiply$kernel <- \"shared_ab_multiply\"\n",
    "sharedABMultiply$invocation <- 0\n",
    "sharedABMultiply$size <- Sys.getenv('PROBLEM_SIZE')\n",
    "\n",
    "featdata.all <- rbind(featdata.all,simpleMultiply)\n",
    "featdata.all <- rbind(featdata.all,coalescedMultiply)\n",
    "featdata.all <- rbind(featdata.all,sharedABMultiply)"
   ]
  },
  {
   "cell_type": "markdown",
   "metadata": {},
   "source": [
    "Studentise the AIWC data"
   ]
  },
  {
   "cell_type": "code",
   "execution_count": 11,
   "metadata": {},
   "outputs": [],
   "source": [
    "%%R -i featdata.all -o aiwc\n",
    "\n",
    "source('/opencl-predictions-with-aiwc/codes/restructure_aiwc_data.R')\n",
    "pca_dat <- reorder_features(featdata.all)\n",
    "pca_dat$opcode <- scale(pca_dat$opcode,scale=TRUE)[,1]\n",
    "pca_dat$granularity <- scale(pca_dat$granularity,scale=TRUE)[,1]\n",
    "pca_dat$barriers_per_instruction <- scale(pca_dat$barriers_per_instruction,scale=TRUE)[,1]\n",
    "pca_dat$instructions_per_operand <- scale(pca_dat$instructions_per_operand,scale=TRUE)[,1]\n",
    "pca_dat$total_instruction_count <- scale(pca_dat$total_instruction_count,scale=TRUE)[,1]\n",
    "pca_dat$workitems <- scale(pca_dat$workitems,scale=TRUE)[,1]\n",
    "pca_dat$operand_sum <- scale(pca_dat$operand_sum,scale=TRUE)[,1]\n",
    "pca_dat$total_barriers_hit <- scale(pca_dat$total_barriers_hit,scale=TRUE)[,1]\n",
    "pca_dat$min_instructions_to_barrier <- scale(pca_dat$min_instructions_to_barrier,scale=TRUE)[,1]\n",
    "pca_dat$max_instructions_to_barrier <- scale(pca_dat$max_instructions_to_barrier,scale=TRUE)[,1]\n",
    "pca_dat$median_instructions_to_barrier <- scale(pca_dat$median_instructions_to_barrier,scale=TRUE)[,1]\n",
    "pca_dat$max_simd_width <- scale(pca_dat$max_simd_width,scale=TRUE)[,1]\n",
    "pca_dat$mean_simd_width <- scale(pca_dat$mean_simd_width,scale=TRUE)[,1]\n",
    "pca_dat$stddev_simd_width <- scale(pca_dat$stddev_simd_width,scale=TRUE)[,1]\n",
    "pca_dat$total_memory_footprint <- scale(pca_dat$total_memory_footprint,scale=TRUE)[,1]\n",
    "pca_dat$ninety_percent_memory_footprint <- scale(pca_dat$ninety_percent_memory_footprint,scale=TRUE)[,1]\n",
    "pca_dat$global_memory_address_entropy <- scale(pca_dat$global_memory_address_entropy,scale=TRUE)[,1]\n",
    "pca_dat$local_memory_address_entropy_1 <- scale(pca_dat$local_memory_address_entropy_1,scale=TRUE)[,1]\n",
    "pca_dat$local_memory_address_entropy_2 <- scale(pca_dat$local_memory_address_entropy_2,scale=TRUE)[,1]\n",
    "pca_dat$local_memory_address_entropy_3 <- scale(pca_dat$local_memory_address_entropy_3,scale=TRUE)[,1]\n",
    "pca_dat$local_memory_address_entropy_4 <- scale(pca_dat$local_memory_address_entropy_4,scale=TRUE)[,1]\n",
    "pca_dat$local_memory_address_entropy_5 <- scale(pca_dat$local_memory_address_entropy_5,scale=TRUE)[,1]\n",
    "pca_dat$local_memory_address_entropy_6 <- scale(pca_dat$local_memory_address_entropy_6,scale=TRUE)[,1]\n",
    "pca_dat$local_memory_address_entropy_7 <- scale(pca_dat$local_memory_address_entropy_7,scale=TRUE)[,1]\n",
    "pca_dat$local_memory_address_entropy_8 <- scale(pca_dat$local_memory_address_entropy_8,scale=TRUE)[,1]\n",
    "pca_dat$local_memory_address_entropy_9 <- scale(pca_dat$local_memory_address_entropy_9,scale=TRUE)[,1]\n",
    "pca_dat$local_memory_address_entropy_10 <- scale(pca_dat$local_memory_address_entropy_10,scale=TRUE)[,1]\n",
    "pca_dat$total_unique_branch_instructions <- scale(pca_dat$total_unique_branch_instructions,scale=TRUE)[,1]\n",
    "pca_dat$ninety_percent_branch_instructions <- scale(pca_dat$ninety_percent_branch_instructions,scale=TRUE)[,1]\n",
    "pca_dat$branch_entropy_yokota <- scale(pca_dat$branch_entropy_yokota,scale=TRUE)[,1]\n",
    "pca_dat$branch_entropy_average_linear <- scale(pca_dat$branch_entropy_average_linear,scale=TRUE)[,1]\n",
    "aiwc <- pca_dat"
   ]
  },
  {
   "cell_type": "markdown",
   "metadata": {},
   "source": [
    "Comparison between AIWC feature-spaces"
   ]
  },
  {
   "cell_type": "code",
   "execution_count": 12,
   "metadata": {},
   "outputs": [
    {
     "data": {
      "image/png": "[encoded data removed]"
     },
     "metadata": {},
     "output_type": "display_data"
    }
   ],
   "source": [
    "%%R -i aiwc -w 800 -h 800 -u px\n",
    "\n",
    "library(ggplot2)\n",
    "library(reshape2)\n",
    "\n",
    "aiwc.of.interest <- subset(aiwc, application == \"matrix_multiplication\")\n",
    "aiwc.of.interest = subset(aiwc.of.interest, select = -size)\n",
    "aiwc.of.interest = subset(aiwc.of.interest, select = -invocation)\n",
    "aiwc.of.interest = subset(aiwc.of.interest, select = -application)\n",
    "\n",
    "melted = melt(aiwc.of.interest, id.var = 'kernel')\n",
    "ggplot(melted, aes(x = variable, y = value, fill = kernel)) + geom_bar(stat = \"identity\", position = 'dodge') +\n",
    "    scale_x_discrete(name = \"AIWC feature\") + theme(axis.text.x = element_text(angle = 90, hjust = 1))\n"
   ]
  },
  {
   "cell_type": "markdown",
   "metadata": {},
   "source": [
    "## Prediction Accuracy Of AIWC Metrics"
   ]
  },
  {
   "cell_type": "markdown",
   "metadata": {},
   "source": [
    "Generate the predictive model"
   ]
  },
  {
   "cell_type": "code",
   "execution_count": 34,
   "metadata": {},
   "outputs": [],
   "source": [
    "%%R -o model\n",
    "\n",
    "library(ranger)\n",
    "\n",
    "load(\"/opencl-predictions-with-aiwc/data/intermediate/full_dat.Rda\")\n",
    "\n",
    "#manually typecast integer variables\n",
    "int.inds <- c(2,6,7,8,9,10,11,12,13,16,17,29,30,34,37)\n",
    "\n",
    "#standardise numeric variables\n",
    "num.inds <- lapply(full_dat, is.numeric)\n",
    "num.inds <- as.logical(num.inds)\n",
    "\n",
    "for (i in seq(along = num.inds)){\n",
    "            feature.name = names(full_dat[i])\n",
    "            ifelse((any(i == int.inds) || num.inds[i] == 'FALSE' || feature.name == \"kernel_time\"), next, full_dat[i] <- scale(full_dat[i]))\n",
    "                                } #end i loop\n",
    "\n",
    "#use 20% of data for training\n",
    "#sampled_indices <- sample(seq_len(nrow(full_dat)), size = round(nrow(full_dat)*0.2))\n",
    "#train_dat <- full_dat[sampled_indices, ]\n",
    "#test_dat <- full_dat[-sampled_indices, ]\n",
    "#or...\n",
    "#use 100% of data for training\n",
    "train_dat <- full_dat\n",
    "\n",
    "#remove certain variables unavailable during real-world training\n",
    "train_dat = subset(train_dat, select = -size)\n",
    "train_dat = subset(train_dat, select = -application)\n",
    "train_dat = subset(train_dat, select = -kernel)\n",
    "train_dat = subset(train_dat, select = -total_time)\n",
    "\n",
    "#build the model\n",
    "rgd.aiwc <- ranger(log(kernel_time)~.,\n",
    "                   data = train_dat,\n",
    "                   num.trees = 505,\n",
    "                   mtry = 30,\n",
    "                   min.node.size = 9,\n",
    "                   importance = \"impurity\",\n",
    "                   splitrule = 'variance',\n",
    "                   respect.unordered.factors = 'order')\n",
    "\n",
    "model <- rgd.aiwc"
   ]
  },
  {
   "cell_type": "markdown",
   "metadata": {},
   "source": [
    "Make prediction with our AIWC metrics"
   ]
  },
  {
   "cell_type": "code",
   "execution_count": 35,
   "metadata": {
    "scrolled": true
   },
   "outputs": [
    {
     "data": {
      "text/plain": [
       "[1] \"simple multiply 102.6 (ms)\"\n",
       "[1] \"coalesced multiply 99.79 (ms)\"\n",
       "[1] \"shared ab multiply 97.03 (ms)\"\n"
      ]
     },
     "metadata": {},
     "output_type": "display_data"
    }
   ],
   "source": [
    "%%R -i aiwc -i model -o predicted\n",
    "\n",
    "#manually typecast integer variables\n",
    "#int.inds <- c(2,6,7,8,9,10,11,12,13,16,17,29,30,34,37)\n",
    "\n",
    "#standardise numeric variables\n",
    "#num.inds <- lapply(aiwc, is.numeric)\n",
    "#num.inds <- as.logical(num.inds)\n",
    "\n",
    "#for (i in seq(along = num.inds)){\n",
    "#            feature.name = names(aiwc[i])\n",
    "#            ifelse((any(i == int.inds) || num.inds[i] == 'FALSE' || feature.name == \"kernel_time\"), next, aiwc[i] <- scale(aiwc[i]))\n",
    "#                                } #end i loop\n",
    "predicted <- data.frame()\n",
    "\n",
    "x <- subset(aiwc, kernel==\"simple_multiply\")\n",
    "x$device = 'gtx1080'\n",
    "x$run = 0\n",
    "prediction <- predict(model,type='response',data=x)\n",
    "print(paste(\"simple multiply\", round(exp(prediction$pred),digits=2), \"(ms)\"))\n",
    "predicted <- rbind(predicted, data.frame('region'='simple_multiply','predicted time (ms)'=round(exp(prediction$pred),digits=2)))\n",
    "\n",
    "x <- subset(aiwc, kernel==\"coalesced_multiply\")\n",
    "x$device = 'gtx1080'\n",
    "x$run = 0\n",
    "prediction <- predict(model,type='response',data=x)\n",
    "print(paste(\"coalesced multiply\", round(exp(prediction$pred),digits=2), \"(ms)\"))\n",
    "predicted <- rbind(predicted, data.frame('region'='coalesced_multiply','predicted time (ms)'=round(exp(prediction$pred),digits=2)))\n",
    "\n",
    "x <- subset(aiwc, kernel==\"shared_ab_multiply\")\n",
    "x$device = 'gtx1080'\n",
    "x$run = 0\n",
    "prediction <- predict(model,type='response',data=x)\n",
    "print(paste(\"shared ab multiply\", round(exp(prediction$pred),digits=2), \"(ms)\"))\n",
    "predicted <- rbind(predicted, data.frame('region'='shared_ab_multiply','predicted time (ms)'=round(exp(prediction$pred),digits=2)))\n"
   ]
  },
  {
   "cell_type": "markdown",
   "metadata": {},
   "source": [
    "Compare predictions against measured times"
   ]
  },
  {
   "cell_type": "code",
   "execution_count": null,
   "metadata": {},
   "outputs": [],
   "source": [
    "groundtruth = z\n",
    "groundtruth = groundtruth.groupby(['region']).mean()\n",
    "\n",
    "groundtruth = groundtruth.rename({'simpleMultiply_kernel':'simple_multiply',\n",
    "                                  'coalescedMultiply_kernel':'coalesced_multiply',\n",
    "                                  'sharedABMultiply_kernel':'shared_ab_multiply'})\n",
    "comparison = pd.merge(predicted,groundtruth,left_on='region',right_on='region')\n",
    "comparison.head()"
   ]
  },
  {
   "cell_type": "markdown",
   "metadata": {},
   "source": [
    "**Note:** The predictive accuracy is bad for both the simple and coalesced case -- reasons?"
   ]
  },
  {
   "cell_type": "markdown",
   "metadata": {},
   "source": [
    "# Loop Blocking Example 4-25 from Intel 64 and IA-32 Architectures Optimization Reference Manual"
   ]
  },
  {
   "cell_type": "markdown",
   "metadata": {},
   "source": [
    "## Generate runtime data"
   ]
  },
  {
   "cell_type": "markdown",
   "metadata": {},
   "source": [
    "Run the experiment and collect runtime data"
   ]
  },
  {
   "cell_type": "code",
   "execution_count": null,
   "metadata": {
    "scrolled": true
   },
   "outputs": [],
   "source": [
    "! make clean; make\n",
    "! ./cpu-loop-block ./cpu-loop-blocking.cl $PROBLEM_SIZE 1 0 runtime"
   ]
  },
  {
   "cell_type": "markdown",
   "metadata": {},
   "source": [
    "## Analyse runtime data"
   ]
  },
  {
   "cell_type": "code",
   "execution_count": 38,
   "metadata": {
    "scrolled": true
   },
   "outputs": [],
   "source": [
    "import pandas as pd\n",
    "x = pd.read_csv('lsb.cpu_loop_blocking.r0', comment='#', sep=\"\\s+\")\n",
    "\n",
    "y = x[(x.region == 'original_loop_kernel') | (x.region == 'transformed_loop_after_blocking_kernel')]\n",
    "\n"
   ]
  },
  {
   "cell_type": "markdown",
   "metadata": {},
   "source": [
    "The distributions of 100 runtimes for each of the 2 kernels is shown below."
   ]
  },
  {
   "cell_type": "code",
   "execution_count": 39,
   "metadata": {
    "scrolled": true
   },
   "outputs": [
    {
     "name": "stderr",
     "output_type": "stream",
     "text": [
      "/usr/local/lib/python3.5/dist-packages/rpy2/robjects/pandas2ri.py:191: FutureWarning: from_items is deprecated. Please use DataFrame.from_dict(dict(items), ...) instead. DataFrame.from_dict(OrderedDict(items)) may be used to preserve the key order.\n",
      "  res = PandasDataFrame.from_items(items)\n"
     ]
    },
    {
     "data": {
      "image/png": "[encoded data removed]"
     },
     "metadata": {},
     "output_type": "display_data"
    }
   ],
   "source": [
    "%%R -i y -w 800 -h 300 -u px\n",
    "\n",
    "library(ggplot2)\n",
    "pp = ggplot(y, aes_string(x='time', colour = 'region')) + geom_histogram(binwidth=.1)\n",
    "print(pp)"
   ]
  },
  {
   "cell_type": "code",
   "execution_count": 105,
   "metadata": {
    "scrolled": false
   },
   "outputs": [
    {
     "data": {
      "application/vnd.jupyter.widget-view+json": {
       "model_id": "568460238e174ce1b0076c5f55815c1b",
       "version_major": 2,
       "version_minor": 0
      }
     },
     "metadata": {},
     "output_type": "display_data"
    }
   ],
   "source": [
    "z = y.drop(['id','overhead'],axis=1)\n",
    "z = z.rename(columns={'time':'time (mins)'})\n",
    "z.groupby([\"region\"]).median()*1.66667e-5"
   ]
  },
  {
   "cell_type": "markdown",
   "metadata": {},
   "source": [
    "## Generate AIWC feature-space per kernel"
   ]
  },
  {
   "cell_type": "code",
   "execution_count": 44,
   "metadata": {
    "scrolled": true
   },
   "outputs": [
    {
     "name": "stdout",
     "output_type": "stream",
     "text": [
      "rm -f sbd aiwc-tester lsb.*.r0* aiwc_*.csv aiwc_*_itb.log Rplots.pdf cpu-loop-block\n",
      "g++ cpu-loop-blocking.cpp -o cpu-loop-block -lOpenCL -llsb -L/libscibench/lib -I/libscibench/include -std=c++11 -g -O0\n",
      "g++ aiwc-tester.cpp -o aiwc-tester -lOpenCL -llsb -L/libscibench/lib -I/libscibench/include -std=c++11\n",
      "***** LSB_Init >cpu_loop_blocking< writing to >lsb.cpu_loop_blocking.r0< *****\n",
      "Attempting kernel: ./cpu-loop-blocking.cl with contents:\n",
      "//Loop Blocking Example 4-25 from https://www.intel.com/content/dam/www/public/us/en/documents/manuals/64-ia-32-architectures-optimization-manual.pdf in Section 4.5.3 Loop Blocking\n",
      "\n",
      "__kernel void original_loop(__global float* A, __global float* B)\n",
      "{\n",
      "    //get_group_id(0) * get_local_size(0) + get_local_id(0);//not needed -- intel tests only for single thread\n",
      "    for (int i=0; i< MAX; i++) {\n",
      "        for (int j=0; j< MAX; j++) {\n",
      "            //A[i,j] = A[i,j] + B[j, i];\n",
      "            A[i*MAX+j] = A[i*MAX+j] + B[j*MAX+i];\n",
      "        } \n",
      "    }\n",
      "}\n",
      "\n",
      "__kernel void transformed_loop_after_blocking(__global float* A, __global float* B)\n",
      "{\n",
      "    int i,j,ii,jj;\n",
      "    for (i=0; i< MAX; i+=BLOCK_SIZE) {\n",
      "        for (j=0; j< MAX; j+=BLOCK_SIZE) {\n",
      "            for (ii=i; ii<i+BLOCK_SIZE; ii++) {\n",
      "                for (jj=j; jj<j+BLOCK_SIZE; jj++) {\n",
      "                    //A[ii,jj] = A[ii,jj] + B[jj, ii];\n",
      "                    A[ii*MAX+jj] = A[ii*MAX+jj] + B[jj*MAX+ii];\n",
      "                }\n",
      "            }\n",
      "        }\n",
      "    }\n",
      "}\n",
      "\n",
      "\n",
      "M = 64 total KiB = 32\n",
      "Operating on a 64x64 matrix with a tile size 1...\n",
      "Architecture-Independent Workload Characterization of kernel: original_loop\n",
      "+----------------------------------------------------------------------------+\n",
      "|Compute Opcode Instruction Histogram                                        |\n",
      "+============================================================================+\n",
      "instruction: store count: 16777216\n",
      "instruction: phi count: 17305600\n",
      "instruction: sext count: 33554432\n",
      "instruction: shl count: 17039360\n",
      "instruction: icmp count: 17305600\n",
      "instruction: ret count: 4096\n",
      "instruction: fadd count: 16777216\n",
      "instruction: br count: 34611200\n",
      "instruction: add count: 50593792\n",
      "instruction: getelementptr count: 33554432\n",
      "instruction: load count: 33554432\n",
      "+----------------------------------------------------------------------------+\n",
      "|Compute Opcode Unique Opcodes required to cover 90% of Dynamic Instructions |\n",
      "+============================================================================+\n",
      "Unique Op Codes comprising of 90% of dynamic instructions:\n",
      "\tadd\n",
      "\tbr\n",
      "\tsext\n",
      "\tgetelementptr\n",
      "\tload\n",
      "\tphi\n",
      "\ticmp\n",
      "\tshl\n",
      "\tstore\n",
      "Unique Opcodes required to cover 90% of Dynamic Instructions: 9\n",
      "Total Instruction Count: 271077376\n",
      "+--------------------------------------------------------------------------+\n",
      "|Instruction Level Parallelism                                             |\n",
      "+==========================================================================+\n",
      "# of workitems invoked: 4096\n",
      "total # of workitem barriers hit: 0\n",
      "Min instructions to barrier: 66181\n",
      "Max instructions to barrier: 66181\n",
      "Median instructions to barrier: 66181\n",
      "+--------------------------------------------------------------------------+\n",
      "|Data Level Parallelism                                                    |\n",
      "+==========================================================================+\n",
      "Min data width: 1\n",
      "Max data width: 1\n",
      "Operand sum: 2.71077e+08\n",
      "Mean data width: 1\n",
      "stdev data width: 0\n",
      "Granularity: 3.68898e-09\n",
      "Barriers Per Instruction : 3.68898e-09\n",
      "Instructions Per Operand : 1\n",
      "+--------------------------------------------------------------------------+\n",
      "|Total Memory Footprint -- total number of unique memory addresses accessed|\n",
      "+==========================================================================+\n",
      "8192\n",
      "+----------------------------------------------------------------------------------------------+\n",
      "|90% Memory Footprint -- Number of unique memory addresses that cover 90% of memory accesses   |\n",
      "+==============================================================================================+\n",
      "total number of memory accesses = 50331648\n",
      "90% of memory accesses:45298484\n",
      "Number of unique memory addresses that cover 90% of memory accesses: 6964\n",
      "+----------------------------------------------------------------------------------------------+\n",
      "|Global Memory Address Entropy -- Measure of the randomness of memory addresses                |\n",
      "+==============================================================================================+\n",
      "12.9176\n",
      "+----------------------------------------------------------------------------------------------+\n",
      "|Local Memory Address Entropy -- Measure of the spatial locality of memory addresses           |\n",
      "+==============================================================================================+\n",
      "LSBs skipped\tEntropy (bits)\n",
      "1\t\t12.9185\n",
      "2\t\t12.9185\n",
      "3\t\t11.9184\n",
      "4\t\t10.9182\n",
      "5\t\t9.9196\n",
      "6\t\t8.9204\n",
      "7\t\t7.92111\n",
      "8\t\t6.9286\n",
      "9\t\t5.93409\n",
      "10\t\t4.95851\n",
      "+-------------------------------------------------------------------------------------------------------+\n",
      "|Unique Branch Instructions -- Total number of unique branch instructions to cover 90% of the branches|\n",
      "+=======================================================================================================+\n",
      "Branch At Line\tCount (hit and miss)\n",
      "7\t\t17039360\n",
      "6\t\t266240\n",
      "Number of unique branches that cover 90% of all branch instructions: 1\n",
      "+-------------------------------------------------------------------------------------------------------+\n",
      "|Branch Entropy -- Measure of the randomness of branch behaviour, representing branch predicability     |\n",
      "+=======================================================================================================+\n",
      "Using a branch history of 16\n",
      "Yokota Branch Entropy: 1.06495e+06\n",
      "Yokota Branch Entropy Per Workload: 8\n",
      "Average Linear Branch Entropy: 0.0307691\n",
      "The Architecture-Independent Workload Characterisation was written to file: aiwc_original_loop_0.csv\n",
      "Architecture-Independent Workload Characterization of kernel: transformed_loop_after_blocking\n",
      "+----------------------------------------------------------------------------+\n",
      "|Compute Opcode Instruction Histogram                                        |\n",
      "+============================================================================+\n",
      "instruction: store count: 16777216\n",
      "instruction: fadd count: 16777216\n",
      "instruction: shl count: 18874368\n",
      "instruction: getelementptr count: 33554432\n",
      "instruction: load count: 33554432\n",
      "instruction: sext count: 33554432\n",
      "instruction: phi count: 21565440\n",
      "instruction: icmp count: 21565440\n",
      "instruction: br count: 43130880\n",
      "instruction: add count: 52723712\n",
      "instruction: ret count: 4096\n",
      "+----------------------------------------------------------------------------+\n",
      "|Compute Opcode Unique Opcodes required to cover 90% of Dynamic Instructions |\n",
      "+============================================================================+\n",
      "Unique Op Codes comprising of 90% of dynamic instructions:\n",
      "\tadd\n",
      "\tbr\n",
      "\tgetelementptr\n",
      "\tload\n",
      "\tsext\n",
      "\tphi\n",
      "\ticmp\n",
      "\tshl\n",
      "\tstore\n",
      "Unique Opcodes required to cover 90% of Dynamic Instructions: 9\n",
      "Total Instruction Count: 292081664\n",
      "+--------------------------------------------------------------------------+\n",
      "|Instruction Level Parallelism                                             |\n",
      "+==========================================================================+\n",
      "# of workitems invoked: 4096\n",
      "total # of workitem barriers hit: 0\n",
      "Min instructions to barrier: 71309\n",
      "Max instructions to barrier: 71309\n",
      "Median instructions to barrier: 71309\n",
      "+--------------------------------------------------------------------------+\n",
      "|Data Level Parallelism                                                    |\n",
      "+==========================================================================+\n",
      "Min data width: 1\n",
      "Max data width: 1\n",
      "Operand sum: 2.92082e+08\n",
      "Mean data width: 1\n",
      "stdev data width: 0\n",
      "Granularity: 3.4237e-09\n",
      "Barriers Per Instruction : 3.4237e-09\n",
      "Instructions Per Operand : 1\n",
      "+--------------------------------------------------------------------------+\n",
      "|Total Memory Footprint -- total number of unique memory addresses accessed|\n",
      "+==========================================================================+\n",
      "8192\n",
      "+----------------------------------------------------------------------------------------------+\n",
      "|90% Memory Footprint -- Number of unique memory addresses that cover 90% of memory accesses   |\n",
      "+==============================================================================================+\n"
     ]
    },
    {
     "name": "stdout",
     "output_type": "stream",
     "text": [
      "total number of memory accesses = 50331648\n",
      "90% of memory accesses:45298484\n",
      "Number of unique memory addresses that cover 90% of memory accesses: 6964\n",
      "+----------------------------------------------------------------------------------------------+\n",
      "|Global Memory Address Entropy -- Measure of the randomness of memory addresses                |\n",
      "+==============================================================================================+\n",
      "12.9176\n",
      "+----------------------------------------------------------------------------------------------+\n",
      "|Local Memory Address Entropy -- Measure of the spatial locality of memory addresses           |\n",
      "+==============================================================================================+\n",
      "LSBs skipped\tEntropy (bits)\n",
      "1\t\t12.9185\n",
      "2\t\t12.9185\n",
      "3\t\t11.9184\n",
      "4\t\t10.9182\n",
      "5\t\t9.9196\n",
      "6\t\t8.92039\n",
      "7\t\t7.92111\n",
      "8\t\t6.9286\n",
      "9\t\t5.93409\n",
      "10\t\t4.95851\n",
      "+-------------------------------------------------------------------------------------------------------+\n",
      "|Unique Branch Instructions -- Total number of unique branch instructions to cover 90% of the branches|\n",
      "+=======================================================================================================+\n",
      "Branch At Line\tCount (hit and miss)\n",
      "20\t\t18874368\n",
      "19\t\t2359296\n",
      "18\t\t294912\n",
      "17\t\t36864\n",
      "Number of unique branches that cover 90% of all branch instructions: 2\n",
      "+-------------------------------------------------------------------------------------------------------+\n",
      "|Branch Entropy -- Measure of the randomness of branch behaviour, representing branch predicability     |\n",
      "+=======================================================================================================+\n",
      "Using a branch history of 16\n",
      "Yokota Branch Entropy: 7.48798e+06\n",
      "Yokota Branch Entropy Per Workload: 12.5\n",
      "Average Linear Branch Entropy: 0.222222\n",
      "The Architecture-Independent Workload Characterisation was written to file: aiwc_transformed_loop_after_blocking_0.csv\n",
      "******* LSB_Finalize *******\n"
     ]
    }
   ],
   "source": [
    "! make clean\n",
    "! make\n",
    "! $OCLGRIND/bin/oclgrind --workload-characterisation ./cpu-loop-block ./cpu-loop-blocking.cl $PROBLEM_SIZE 0 0 aiwc\n",
    "! rm -f lsb.*.r0* #we aren't interested in runtime data anymore"
   ]
  },
  {
   "cell_type": "markdown",
   "metadata": {},
   "source": [
    "## Analyse AIWC data"
   ]
  },
  {
   "cell_type": "markdown",
   "metadata": {},
   "source": [
    "First load in new data"
   ]
  },
  {
   "cell_type": "code",
   "execution_count": 45,
   "metadata": {},
   "outputs": [],
   "source": [
    "import pandas as pd\n",
    "originalLoop = pd.read_csv('./aiwc_original_loop_0.csv', sep=\",\")\n",
    "transformedLoop = pd.read_csv('aiwc_transformed_loop_after_blocking_0.csv', sep=\",\")"
   ]
  },
  {
   "cell_type": "markdown",
   "metadata": {},
   "source": [
    "Standardise according to existing data -- from the predictive modelling paper"
   ]
  },
  {
   "cell_type": "code",
   "execution_count": 46,
   "metadata": {
    "scrolled": true
   },
   "outputs": [
    {
     "name": "stderr",
     "output_type": "stream",
     "text": [
      "/usr/local/lib/python3.5/dist-packages/rpy2/robjects/pandas2ri.py:191: FutureWarning: from_items is deprecated. Please use DataFrame.from_dict(dict(items), ...) instead. DataFrame.from_dict(OrderedDict(items)) may be used to preserve the key order.\n",
      "  res = PandasDataFrame.from_items(items)\n"
     ]
    }
   ],
   "source": [
    "%%R -i originalLoop -i transformedLoop -o featdata.all\n",
    "\n",
    "load('/opencl-predictions-with-aiwc/data/intermediate/featdata.Rda')\n",
    "\n",
    "originalLoop$application <- \"loop_blocking\"\n",
    "originalLoop$kernel <- \"original_loop\"\n",
    "originalLoop$invocation <- 0\n",
    "originalLoop$size <- \"tiny\"\n",
    "\n",
    "transformedLoop$application <- \"loop_blocking\"\n",
    "transformedLoop$kernel <- \"transformed_loop\"\n",
    "transformedLoop$invocation <- 0\n",
    "transformedLoop$size <- \"tiny\"\n",
    "\n",
    "featdata.all <- rbind(featdata.all,originalLoop)\n",
    "featdata.all <- rbind(featdata.all,transformedLoop)\n"
   ]
  },
  {
   "cell_type": "markdown",
   "metadata": {},
   "source": [
    "Studentise the AIWC data"
   ]
  },
  {
   "cell_type": "code",
   "execution_count": 47,
   "metadata": {},
   "outputs": [],
   "source": [
    "%%R -i featdata.all -o aiwc\n",
    "\n",
    "source('/opencl-predictions-with-aiwc/codes/restructure_aiwc_data.R')\n",
    "pca_dat <- reorder_features(featdata.all)\n",
    "pca_dat$opcode <- scale(pca_dat$opcode,scale=TRUE)[,1]\n",
    "pca_dat$granularity <- scale(pca_dat$granularity,scale=TRUE)[,1]\n",
    "pca_dat$barriers_per_instruction <- scale(pca_dat$barriers_per_instruction,scale=TRUE)[,1]\n",
    "pca_dat$instructions_per_operand <- scale(pca_dat$instructions_per_operand,scale=TRUE)[,1]\n",
    "pca_dat$total_instruction_count <- scale(pca_dat$total_instruction_count,scale=TRUE)[,1]\n",
    "pca_dat$workitems <- scale(pca_dat$workitems,scale=TRUE)[,1]\n",
    "pca_dat$operand_sum <- scale(pca_dat$operand_sum,scale=TRUE)[,1]\n",
    "pca_dat$total_barriers_hit <- scale(pca_dat$total_barriers_hit,scale=TRUE)[,1]\n",
    "pca_dat$min_instructions_to_barrier <- scale(pca_dat$min_instructions_to_barrier,scale=TRUE)[,1]\n",
    "pca_dat$max_instructions_to_barrier <- scale(pca_dat$max_instructions_to_barrier,scale=TRUE)[,1]\n",
    "pca_dat$median_instructions_to_barrier <- scale(pca_dat$median_instructions_to_barrier,scale=TRUE)[,1]\n",
    "pca_dat$max_simd_width <- scale(pca_dat$max_simd_width,scale=TRUE)[,1]\n",
    "pca_dat$mean_simd_width <- scale(pca_dat$mean_simd_width,scale=TRUE)[,1]\n",
    "pca_dat$stddev_simd_width <- scale(pca_dat$stddev_simd_width,scale=TRUE)[,1]\n",
    "pca_dat$total_memory_footprint <- scale(pca_dat$total_memory_footprint,scale=TRUE)[,1]\n",
    "pca_dat$ninety_percent_memory_footprint <- scale(pca_dat$ninety_percent_memory_footprint,scale=TRUE)[,1]\n",
    "pca_dat$global_memory_address_entropy <- scale(pca_dat$global_memory_address_entropy,scale=TRUE)[,1]\n",
    "pca_dat$local_memory_address_entropy_1 <- scale(pca_dat$local_memory_address_entropy_1,scale=TRUE)[,1]\n",
    "pca_dat$local_memory_address_entropy_2 <- scale(pca_dat$local_memory_address_entropy_2,scale=TRUE)[,1]\n",
    "pca_dat$local_memory_address_entropy_3 <- scale(pca_dat$local_memory_address_entropy_3,scale=TRUE)[,1]\n",
    "pca_dat$local_memory_address_entropy_4 <- scale(pca_dat$local_memory_address_entropy_4,scale=TRUE)[,1]\n",
    "pca_dat$local_memory_address_entropy_5 <- scale(pca_dat$local_memory_address_entropy_5,scale=TRUE)[,1]\n",
    "pca_dat$local_memory_address_entropy_6 <- scale(pca_dat$local_memory_address_entropy_6,scale=TRUE)[,1]\n",
    "pca_dat$local_memory_address_entropy_7 <- scale(pca_dat$local_memory_address_entropy_7,scale=TRUE)[,1]\n",
    "pca_dat$local_memory_address_entropy_8 <- scale(pca_dat$local_memory_address_entropy_8,scale=TRUE)[,1]\n",
    "pca_dat$local_memory_address_entropy_9 <- scale(pca_dat$local_memory_address_entropy_9,scale=TRUE)[,1]\n",
    "pca_dat$local_memory_address_entropy_10 <- scale(pca_dat$local_memory_address_entropy_10,scale=TRUE)[,1]\n",
    "pca_dat$total_unique_branch_instructions <- scale(pca_dat$total_unique_branch_instructions,scale=TRUE)[,1]\n",
    "pca_dat$ninety_percent_branch_instructions <- scale(pca_dat$ninety_percent_branch_instructions,scale=TRUE)[,1]\n",
    "pca_dat$branch_entropy_yokota <- scale(pca_dat$branch_entropy_yokota,scale=TRUE)[,1]\n",
    "pca_dat$branch_entropy_average_linear <- scale(pca_dat$branch_entropy_average_linear,scale=TRUE)[,1]\n",
    "aiwc <- pca_dat"
   ]
  },
  {
   "cell_type": "markdown",
   "metadata": {},
   "source": [
    "Comparison between AIWC feature-spaces"
   ]
  },
  {
   "cell_type": "code",
   "execution_count": 48,
   "metadata": {
    "scrolled": true
   },
   "outputs": [
    {
     "data": {
      "image/png": "[encoded data removed]"
     },
     "metadata": {},
     "output_type": "display_data"
    }
   ],
   "source": [
    "%%R -i aiwc -w 800 -h 800 -u px\n",
    "\n",
    "library(ggplot2)\n",
    "library(reshape2)\n",
    "\n",
    "aiwc.of.interest <- subset(aiwc, application == \"loop_blocking\")\n",
    "aiwc.of.interest = subset(aiwc.of.interest, select = -size)\n",
    "aiwc.of.interest = subset(aiwc.of.interest, select = -invocation)\n",
    "aiwc.of.interest = subset(aiwc.of.interest, select = -application)\n",
    "\n",
    "melted = melt(aiwc.of.interest, id.var = 'kernel')\n",
    "ggplot(melted, aes(x = variable, y = value, fill = kernel)) + geom_bar(stat = \"identity\", position = 'dodge') +\n",
    "    scale_x_discrete(name = \"AIWC feature\") + theme(axis.text.x = element_text(angle = 90, hjust = 1))\n"
   ]
  },
  {
   "cell_type": "markdown",
   "metadata": {},
   "source": [
    "# Vectorization of Mandelbrot Set -- Example 5-33 from Intel 64 and IA-32 Architectures Optimization Reference Manual"
   ]
  },
  {
   "cell_type": "markdown",
   "metadata": {},
   "source": [
    "This example examines the ability to improve the performance of CPU devices by using vectorisation / Single Instruction Multiple Data (SIMD) level optimization. This is done by first examining the code to produce a Mandelbrot set -- a sample is shown in Figure 1.\n",
    "\n",
    "<img src=\"mandelbrot.png\" width=\"200\" alt=\"Figure 1. Mandelbrot set\">\n",
    "\n",
    "<!--\n",
    "![Figure 1. Mandelbrot set](mandelbrot.png =250x)\n",
    "-->\n",
    "\n",
    "The optimization involves restucturing the code to pack four floating point values into the same register allowing 128 bits to be treated in the same instruction. The Intel codebook, from which this example was based, originally targeted SSEv4. However, since this is intel specific an OpenCL alternative was developed. Support for vectorization comes built into OpenCL using vector primatives. "
   ]
  },
  {
   "cell_type": "markdown",
   "metadata": {},
   "source": [
    "## Generate runtime data"
   ]
  },
  {
   "cell_type": "markdown",
   "metadata": {},
   "source": [
    "Run the experiment and collect runtime data"
   ]
  },
  {
   "cell_type": "code",
   "execution_count": 100,
   "metadata": {
    "scrolled": true
   },
   "outputs": [
    {
     "name": "stdout",
     "output_type": "stream",
     "text": [
      "rm -f sbd aiwc-tester lsb.*.r0* aiwc_*.csv aiwc_*_itb.log Rplots.pdf cpu-loop-block cpu-mandelbrot-vectorization\n",
      "g++ cpu-loop-blocking.cpp -o cpu-loop-block -lOpenCL -llsb -L/libscibench/lib -I/libscibench/include -std=c++11\n",
      "g++ cpu-mandelbrot-vectorization.cpp -o cpu-mandelbrot-vectorization -lOpenCL -llsb -L/libscibench/lib -I/libscibench/include -std=c++11\n",
      "g++ aiwc-tester.cpp -o aiwc-tester -lOpenCL -llsb -L/libscibench/lib -I/libscibench/include -std=c++11\n",
      "***** LSB_Init >cpu_vectorization< writing to >lsb.cpu_vectorization.r0< *****\n",
      "Attempting kernel: ./cpu-mandelbrot-vectorization-set-map.cl with contents:\n",
      "//Example 5-32 Baseline C Code for Mandelbrot Set Map Evaluation from:https://www.intel.com/content/dam/www/public/us/en/documents/manuals/64-ia-32-architectures-optimization-manual.pdf\n",
      "\n",
      "//#define DIMX (64)\n",
      "//#define DIMY (64)\n",
      "//#define X_STEP (0.5f/DIMX)\n",
      "//#define Y_STEP (0.4f/(DIMY/2))\n",
      "__kernel void mandelbrot(__global int* map)\n",
      "{\n",
      "    int i,j;\n",
      "    float x = -1.8f;\n",
      "    for (i=0;i<DIMX;i++) {\n",
      "        float y = -0.2f;\n",
      "        for (j=0;j<DIMY/2;j++) {\n",
      "            int iter = 0;\n",
      "            float sx = x;\n",
      "            float sy = y;\n",
      "            while (iter < 256){\n",
      "                if (sx*sx + sy*sy >= 4.0f){\n",
      "                    break;\n",
      "                }\n",
      "                float old_sx = sx;\n",
      "                sx = x + sx*sx - sy*sy;\n",
      "                sy = y + 2*old_sx*sy;\n",
      "                iter++;\n",
      "            }\n",
      "            map[i*DIMY+j] = iter;\n",
      "            y+=Y_STEP;\n",
      "        }\n",
      "        x+=X_STEP;\n",
      "    }\n",
      "}\n",
      "\n",
      "//Blend packed single-precision (32-bit) floating-point elements from a and b using mask, and store the results in dest.\n",
      "inline float4 blend(float4 a, float4 b, int4 mask){\n",
      "    float4 dest;\n",
      "    if(mask.x){\n",
      "        dest.x = b.x;\n",
      "    }else{\n",
      "        dest.x = a.x;\n",
      "    }\n",
      "    if(mask.y){\n",
      "        dest.y = b.y;\n",
      "    }else{\n",
      "        dest.y = a.y;\n",
      "    }\n",
      "    if(mask.z){\n",
      "        dest.z = b.z;\n",
      "    }else{\n",
      "        dest.z = a.z;\n",
      "    }\n",
      "    if(mask.w){\n",
      "        dest.w = b.w;\n",
      "    }else{\n",
      "        dest.w = a.w;\n",
      "    }\n",
      "    return(dest);\n",
      "}\n",
      "\n",
      "inline int4 blend_ints(int4 a, int4 b, int4 mask){\n",
      "    int4 dest;\n",
      "    if(mask.x){\n",
      "        dest.x = b.x;\n",
      "    }else{\n",
      "        dest.x = a.x;\n",
      "    }\n",
      "    if(mask.y){\n",
      "        dest.y = b.y;\n",
      "    }else{\n",
      "        dest.y = a.y;\n",
      "    }\n",
      "    if(mask.z){\n",
      "        dest.z = b.z;\n",
      "    }else{\n",
      "        dest.z = a.z;\n",
      "    }\n",
      "    if(mask.w){\n",
      "        dest.w = b.w;\n",
      "    }else{\n",
      "        dest.w = a.w;\n",
      "    }\n",
      "    return(dest);\n",
      "}\n",
      "\n",
      "inline int allones(int4 a){\n",
      "    if(a.x == 1 && a.y == 1 && a.z == 1 && a.w == 1){\n",
      "        return (1);\n",
      "    }else{\n",
      "        return(0);\n",
      "    }\n",
      "}\n",
      "\n",
      "inline int allzeros(int4 a){\n",
      "    if(a.x == 0 && a.y == 0 && a.z == 0 && a.w == 0){\n",
      "        return (1);\n",
      "    }else{\n",
      "        return(0);\n",
      "    }\n",
      "}\n",
      "\n",
      "__kernel void mandelbrot_vectorized(__global int* map)\n",
      "{\n",
      "    //Example 5-33 Vectorized Mandelbrot Set Map Evaluation Using SSE4.1 Intrinsics from:https://www.intel.com/content/dam/www/public/us/en/documents/manuals/64-ia-32-architectures-optimization-manual.pdf\n",
      "    //TODO: verify compiler improvement by moving vectors into constant variables\n",
      "    const float4 xstep = (float4)(X_STEP,X_STEP,X_STEP,X_STEP);\n",
      "    const float4 ystep = (float4)(Y_STEP,Y_STEP,Y_STEP,Y_STEP);\n",
      "    const float4 four_step = (float4)(Y_STEP*4,Y_STEP*4,Y_STEP*4,Y_STEP*4);\n",
      "    const float4 init_y = (float4)(0,1*Y_STEP,2*Y_STEP,3*Y_STEP);\n",
      "    const float4 four_vec = (float4)(4.0,4.0,4.0,4.0);\n",
      "    const float4 two_vec = (float4)(2.0,2.0,2.0,2.0);\n",
      "    const int4 zero_ivec = (int4)(0,0,0,0);\n",
      "    const int4 one_ivec = (int4)(1,1,1,1);\n",
      "\n",
      "    float4 x = (float4)(-1.8f,-1.8f,-1.8f,-1.8f);\n",
      "    for (int i=0;i<DIMX;i++) {\n",
      "        float4 y = (float4)(-0.2f,-0.2f,-0.2f,-0.2f)+init_y;\n",
      "        for (int j = 0; j < DIMY/2; j+=4) {\n",
      "            int4 iter = zero_ivec;\n",
      "            float4 sx = x;\n",
      "            float4 sy = y;\n",
      "            int scalar_iter = 0;\n",
      "            while (scalar_iter < 256){\n",
      "                float4 old_sx = sx;\n",
      "                int4 vmask = isgreaterequal(sx*sx + sy*sy, four_vec);\n",
      "                //if (allones(vmask)){\n",
      "                if (all(vmask)){\n",
      "                    break;\n",
      "                }\n",
      "                //if (allzeros(vmask)){\n",
      "                if (all(isequal(vmask,(int4)(0,0,0,0)))){\n",
      "                    sx = x + sx*sx - sy*sy;\n",
      "                    sy = y + two_vec*old_sx*sy;\n",
      "                    iter += one_ivec;\n",
      "                }else{\n",
      "                    //sx = blend(x+sx*sx-sy*sy,sx,vmask);\n",
      "                    //sy = blend(y+two_vec*old_sx*sy,sy,vmask);\n",
      "                    //iter = blend_ints(iter+one_ivec,iter,vmask);\n",
      "                    sx = select(x+sx*sx-sy*sy,sx,vmask);\n",
      "                    sy = select(y+two_vec*old_sx*sy,sy,vmask);\n",
      "                    iter = select(iter+one_ivec,iter,vmask);\n",
      "                }\n",
      "                scalar_iter++;\n",
      "            }\n",
      "\n",
      "            //map[i*DIMY+j+0] = iter.x;\n",
      "            //map[i*DIMY+j+1] = iter.y;\n",
      "            //map[i*DIMY+j+2] = iter.z;\n",
      "            //map[i*DIMY+j+3] = iter.w;\n",
      "            vstore4(iter,0,map+i*DIMY+j);\n",
      "\n",
      "            y+=four_step;\n",
      "        }\n",
      "        x+=xstep;\n",
      "    }\n",
      "}\n",
      "\n",
      "\n",
      "\n",
      "M = 224 total KiB = 196\n",
      "Operating on a 224x224 map with a tile size 1...\n",
      "Mandelbrot:\n",
      "\n",
      "Mandelbrot vectorized:\n",
      "******* LSB_Finalize *******\n"
     ]
    }
   ],
   "source": [
    "! make clean; make\n",
    "! ./cpu-mandelbrot-vectorization ./cpu-mandelbrot-vectorization-set-map.cl $PROBLEM_SIZE 1 0 runtime"
   ]
  },
  {
   "cell_type": "markdown",
   "metadata": {},
   "source": [
    "## Analyse runtime data"
   ]
  },
  {
   "cell_type": "code",
   "execution_count": 101,
   "metadata": {
    "scrolled": true
   },
   "outputs": [],
   "source": [
    "import pandas as pd\n",
    "x = pd.read_csv('lsb.cpu_vectorization.r0', comment='#', sep=\"\\s+\")\n",
    "\n",
    "y = x[(x.region == 'mandelbrot_kernel') | (x.region == 'mandelbrot_vectorized_kernel')]\n",
    "\n"
   ]
  },
  {
   "cell_type": "markdown",
   "metadata": {},
   "source": [
    "The distributions of 100 runtimes for each of the 2 kernels is shown below."
   ]
  },
  {
   "cell_type": "code",
   "execution_count": 102,
   "metadata": {
    "scrolled": true
   },
   "outputs": [
    {
     "name": "stderr",
     "output_type": "stream",
     "text": [
      "/usr/local/lib/python3.5/dist-packages/rpy2/robjects/pandas2ri.py:191: FutureWarning: from_items is deprecated. Please use DataFrame.from_dict(dict(items), ...) instead. DataFrame.from_dict(OrderedDict(items)) may be used to preserve the key order.\n",
      "  res = PandasDataFrame.from_items(items)\n"
     ]
    },
    {
     "data": {
      "image/png": "[encoded data removed]"
     },
     "metadata": {},
     "output_type": "display_data"
    }
   ],
   "source": [
    "%%R -i y -w 800 -h 300 -u px\n",
    "\n",
    "library(ggplot2)\n",
    "pp = ggplot(y, aes_string(x='time', colour = 'region')) + geom_histogram(binwidth=.1)\n",
    "print(pp)"
   ]
  },
  {
   "cell_type": "code",
   "execution_count": 104,
   "metadata": {
    "scrolled": true
   },
   "outputs": [
    {
     "data": {
      "application/vnd.jupyter.widget-view+json": {
       "model_id": "c0489bd039a945f39fa1e7562c55fb99",
       "version_major": 2,
       "version_minor": 0
      }
     },
     "metadata": {},
     "output_type": "display_data"
    }
   ],
   "source": [
    "z = y.drop(['id','overhead'],axis=1)\n",
    "z = z.rename(columns={'time':'time (ms)'})\n",
    "z.groupby([\"region\"]).median()"
   ]
  },
  {
   "cell_type": "markdown",
   "metadata": {},
   "source": [
    "## Generate AIWC feature-space per kernel"
   ]
  },
  {
   "cell_type": "code",
   "execution_count": 112,
   "metadata": {
    "scrolled": true
   },
   "outputs": [
    {
     "name": "stdout",
     "output_type": "stream",
     "text": [
      "rm -f sbd aiwc-tester lsb.*.r0* aiwc_*.csv aiwc_*_itb.log Rplots.pdf cpu-loop-block cpu-mandelbrot-vectorization\n",
      "g++ cpu-loop-blocking.cpp -o cpu-loop-block -lOpenCL -llsb -L/libscibench/lib -I/libscibench/include -std=c++11\n",
      "g++ cpu-mandelbrot-vectorization.cpp -o cpu-mandelbrot-vectorization -lOpenCL -llsb -L/libscibench/lib -I/libscibench/include -std=c++11\n",
      "g++ aiwc-tester.cpp -o aiwc-tester -lOpenCL -llsb -L/libscibench/lib -I/libscibench/include -std=c++11\n",
      "***** LSB_Init >cpu_vectorization< writing to >lsb.cpu_vectorization.r0< *****\n",
      "Attempting kernel: ./cpu-mandelbrot-vectorization-set-map.cl with contents:\n",
      "//Example 5-32 Baseline C Code for Mandelbrot Set Map Evaluation from:https://www.intel.com/content/dam/www/public/us/en/documents/manuals/64-ia-32-architectures-optimization-manual.pdf\n",
      "\n",
      "//#define DIMX (64)\n",
      "//#define DIMY (64)\n",
      "//#define X_STEP (0.5f/DIMX)\n",
      "//#define Y_STEP (0.4f/(DIMY/2))\n",
      "__kernel void mandelbrot(__global int* map)\n",
      "{\n",
      "    int i,j;\n",
      "    float x = -1.8f;\n",
      "    for (i=0;i<DIMX;i++) {\n",
      "        float y = -0.2f;\n",
      "        for (j=0;j<DIMY/2;j++) {\n",
      "            int iter = 0;\n",
      "            float sx = x;\n",
      "            float sy = y;\n",
      "            while (iter < 256){\n",
      "                if (sx*sx + sy*sy >= 4.0f){\n",
      "                    break;\n",
      "                }\n",
      "                float old_sx = sx;\n",
      "                sx = x + sx*sx - sy*sy;\n",
      "                sy = y + 2*old_sx*sy;\n",
      "                iter++;\n",
      "            }\n",
      "            map[i*DIMY+j] = iter;\n",
      "            y+=Y_STEP;\n",
      "        }\n",
      "        x+=X_STEP;\n",
      "    }\n",
      "}\n",
      "\n",
      "//Blend packed single-precision (32-bit) floating-point elements from a and b using mask, and store the results in dest.\n",
      "inline float4 blend(float4 a, float4 b, int4 mask){\n",
      "    float4 dest;\n",
      "    if(mask.x){\n",
      "        dest.x = b.x;\n",
      "    }else{\n",
      "        dest.x = a.x;\n",
      "    }\n",
      "    if(mask.y){\n",
      "        dest.y = b.y;\n",
      "    }else{\n",
      "        dest.y = a.y;\n",
      "    }\n",
      "    if(mask.z){\n",
      "        dest.z = b.z;\n",
      "    }else{\n",
      "        dest.z = a.z;\n",
      "    }\n",
      "    if(mask.w){\n",
      "        dest.w = b.w;\n",
      "    }else{\n",
      "        dest.w = a.w;\n",
      "    }\n",
      "    return(dest);\n",
      "}\n",
      "\n",
      "inline int4 blend_ints(int4 a, int4 b, int4 mask){\n",
      "    int4 dest;\n",
      "    if(mask.x){\n",
      "        dest.x = b.x;\n",
      "    }else{\n",
      "        dest.x = a.x;\n",
      "    }\n",
      "    if(mask.y){\n",
      "        dest.y = b.y;\n",
      "    }else{\n",
      "        dest.y = a.y;\n",
      "    }\n",
      "    if(mask.z){\n",
      "        dest.z = b.z;\n",
      "    }else{\n",
      "        dest.z = a.z;\n",
      "    }\n",
      "    if(mask.w){\n",
      "        dest.w = b.w;\n",
      "    }else{\n",
      "        dest.w = a.w;\n",
      "    }\n",
      "    return(dest);\n",
      "}\n",
      "\n",
      "inline int allones(int4 a){\n",
      "    if(a.x == 1 && a.y == 1 && a.z == 1 && a.w == 1){\n",
      "        return (1);\n",
      "    }else{\n",
      "        return(0);\n",
      "    }\n",
      "}\n",
      "\n",
      "inline int allzeros(int4 a){\n",
      "    if(a.x == 0 && a.y == 0 && a.z == 0 && a.w == 0){\n",
      "        return (1);\n",
      "    }else{\n",
      "        return(0);\n",
      "    }\n",
      "}\n",
      "\n",
      "__kernel void mandelbrot_vectorized(__global int* map)\n",
      "{\n",
      "    //Example 5-33 Vectorized Mandelbrot Set Map Evaluation Using SSE4.1 Intrinsics from:https://www.intel.com/content/dam/www/public/us/en/documents/manuals/64-ia-32-architectures-optimization-manual.pdf\n",
      "    const float4 xstep = (float4)(X_STEP,X_STEP,X_STEP,X_STEP);\n",
      "    const float4 ystep = (float4)(Y_STEP,Y_STEP,Y_STEP,Y_STEP);\n",
      "    const float4 four_step = (float4)(Y_STEP*4,Y_STEP*4,Y_STEP*4,Y_STEP*4);\n",
      "    const float4 init_y = (float4)(0,1*Y_STEP,2*Y_STEP,3*Y_STEP);\n",
      "    const float4 four_vec = (float4)(4.0,4.0,4.0,4.0);\n",
      "    const float4 two_vec = (float4)(2.0,2.0,2.0,2.0);\n",
      "    const int4 zero_ivec = (int4)(0,0,0,0);\n",
      "    const int4 one_ivec = (int4)(1,1,1,1);\n",
      "\n",
      "    float4 x = (float4)(-1.8f,-1.8f,-1.8f,-1.8f);\n",
      "    for (int i=0;i<DIMX;i++) {\n",
      "        float4 y = (float4)(-0.2f,-0.2f,-0.2f,-0.2f)+init_y;\n",
      "        for (int j = 0; j < DIMY/2; j+=4) {\n",
      "            int4 iter = zero_ivec;\n",
      "            float4 sx = x;\n",
      "            float4 sy = y;\n",
      "            int scalar_iter = 0;\n",
      "            while (scalar_iter < 256){\n",
      "                float4 old_sx = sx;\n",
      "                int4 vmask = isgreaterequal(sx*sx + sy*sy, four_vec);\n",
      "                //if (allones(vmask)){\n",
      "                if (all(vmask)){\n",
      "                    break;\n",
      "                }\n",
      "                //if (allzeros(vmask)){\n",
      "                //if (all(isequal(vmask,(int4)(0,0,0,0)))){//changed this since its only defined for floats (but intel allowed it)\n",
      "                if (all(vmask==(int4)(0,0,0,0))){\n",
      "                    sx = x + sx*sx - sy*sy;\n",
      "                    sy = y + two_vec*old_sx*sy;\n",
      "                    iter += one_ivec;\n",
      "                }else{\n",
      "                    //sx = blend(x+sx*sx-sy*sy,sx,vmask);\n",
      "                    //sy = blend(y+two_vec*old_sx*sy,sy,vmask);\n",
      "                    //iter = blend_ints(iter+one_ivec,iter,vmask);\n",
      "                    sx = select(x+sx*sx-sy*sy,sx,vmask);\n",
      "                    sy = select(y+two_vec*old_sx*sy,sy,vmask);\n",
      "                    iter = select(iter+one_ivec,iter,vmask);\n",
      "                }\n",
      "                scalar_iter++;\n",
      "            }\n",
      "\n",
      "            //map[i*DIMY+j+0] = iter.x;\n",
      "            //map[i*DIMY+j+1] = iter.y;\n",
      "            //map[i*DIMY+j+2] = iter.z;\n",
      "            //map[i*DIMY+j+3] = iter.w;\n",
      "            vstore4(iter,0,map+i*DIMY+j);\n",
      "\n",
      "            y+=four_step;\n",
      "        }\n",
      "        x+=xstep;\n",
      "    }\n",
      "}\n",
      "\n",
      "\n",
      "\n",
      "M = 64 total KiB = 16\n",
      "Operating on a 64x64 map with a tile size 1...\n",
      "Architecture-Independent Workload Characterization of kernel: mandelbrot\n",
      "+----------------------------------------------------------------------------+\n",
      "|Compute Opcode Instruction Histogram                                        |\n",
      "+============================================================================+\n",
      "instruction: fcmp count: 2681216\n",
      "instruction: phi count: 8339008\n",
      "instruction: fmul count: 5236928\n",
      "instruction: fadd count: 135168\n",
      "instruction: store count: 131072\n",
      "instruction: icmp count: 2826112\n",
      "instruction: getelementptr count: 131072\n",
      "instruction: ret count: 64\n",
      "instruction: shl count: 4096\n",
      "instruction: fsub count: 2555712\n",
      "instruction: br count: 8333440\n",
      "instruction: sext count: 131072\n",
      "instruction: call count: 10348352\n",
      "instruction: add count: 2821952\n",
      "+----------------------------------------------------------------------------+\n",
      "|Compute Opcode Unique Opcodes required to cover 90% of Dynamic Instructions |\n",
      "+============================================================================+\n",
      "Unique Op Codes comprising of 90% of dynamic instructions:\n",
      "\tcall\n",
      "\tphi\n",
      "\tbr\n",
      "\tfmul\n",
      "\ticmp\n",
      "\tadd\n",
      "\tfcmp\n",
      "Unique Opcodes required to cover 90% of Dynamic Instructions: 7\n",
      "Total Instruction Count: 43675264\n",
      "+--------------------------------------------------------------------------+\n",
      "|Instruction Level Parallelism                                             |\n",
      "+==========================================================================+\n",
      "# of workitems invoked: 64\n",
      "total # of workitem barriers hit: 0\n",
      "Min instructions to barrier: 682426\n",
      "Max instructions to barrier: 682426\n",
      "Median instructions to barrier: 682426\n",
      "+--------------------------------------------------------------------------+\n",
      "|Data Level Parallelism                                                    |\n",
      "+==========================================================================+\n",
      "Min data width: 1\n",
      "Max data width: 1\n",
      "Operand sum: 4.36753e+07\n",
      "Mean data width: 1\n",
      "stdev data width: 0\n",
      "Granularity: 2.28963e-08\n",
      "Barriers Per Instruction : 2.28963e-08\n",
      "Instructions Per Operand : 1\n",
      "+--------------------------------------------------------------------------+\n",
      "|Total Memory Footprint -- total number of unique memory addresses accessed|\n",
      "+==========================================================================+\n",
      "2048\n",
      "+----------------------------------------------------------------------------------------------+\n",
      "|90% Memory Footprint -- Number of unique memory addresses that cover 90% of memory accesses   |\n",
      "+==============================================================================================+\n",
      "total number of memory accesses = 131072\n",
      "90% of memory accesses:117965\n",
      "Number of unique memory addresses that cover 90% of memory accesses: 1844\n",
      "+----------------------------------------------------------------------------------------------+\n",
      "|Global Memory Address Entropy -- Measure of the randomness of memory addresses                |\n",
      "+==============================================================================================+\n",
      "11\n",
      "+----------------------------------------------------------------------------------------------+\n",
      "|Local Memory Address Entropy -- Measure of the spatial locality of memory addresses           |\n",
      "+==============================================================================================+\n",
      "LSBs skipped\tEntropy (bits)\n",
      "1\t\t11\n",
      "2\t\t11\n",
      "3\t\t10\n",
      "4\t\t9\n",
      "5\t\t8.25\n",
      "6\t\t7.40564\n",
      "7\t\t6.95444\n",
      "8\t\t6.01491\n",
      "9\t\t5.028\n",
      "10\t\t4.05802\n",
      "+-------------------------------------------------------------------------------------------------------+\n",
      "|Unique Branch Instructions -- Total number of unique branch instructions to cover 90% of the branches|\n",
      "+=======================================================================================================+\n",
      "Branch At Line\tCount (hit and miss)\n",
      "17\t\t2686784\n",
      "18\t\t2681216\n",
      "13\t\t135168\n",
      "11\t\t4160\n",
      "Number of unique branches that cover 90% of all branch instructions: 2\n",
      "+-------------------------------------------------------------------------------------------------------+\n",
      "|Branch Entropy -- Measure of the randomness of branch behaviour, representing branch predicability     |\n",
      "+=======================================================================================================+\n"
     ]
    },
    {
     "name": "stdout",
     "output_type": "stream",
     "text": [
      "Using a branch history of 16\n",
      "Yokota Branch Entropy: 395339\n",
      "Yokota Branch Entropy Per Workload: 78.5417\n",
      "Average Linear Branch Entropy: 0.0491087\n",
      "The Architecture-Independent Workload Characterisation was written to file: aiwc_mandelbrot_0.csv\n",
      "Mandelbrot:\n",
      "Architecture-Independent Workload Characterization of kernel: mandelbrot_vectorized\n",
      "+----------------------------------------------------------------------------+\n",
      "|Compute Opcode Instruction Histogram                                        |\n",
      "+============================================================================+\n",
      "instruction: fmul count: 2129088\n",
      "instruction: fadd count: 36864\n",
      "instruction: add count: 2135680\n",
      "instruction: call count: 9330112\n",
      "instruction: sext count: 1086272\n",
      "instruction: br count: 5424896\n",
      "instruction: getelementptr count: 36864\n",
      "instruction: phi count: 7558976\n",
      "instruction: fsub count: 1049408\n",
      "instruction: shl count: 4096\n",
      "instruction: icmp count: 4301696\n",
      "instruction: ret count: 64\n",
      "+----------------------------------------------------------------------------+\n",
      "|Compute Opcode Unique Opcodes required to cover 90% of Dynamic Instructions |\n",
      "+============================================================================+\n",
      "Unique Op Codes comprising of 90% of dynamic instructions:\n",
      "\tcall\n",
      "\tphi\n",
      "\tbr\n",
      "\ticmp\n",
      "\tadd\n",
      "\tfmul\n",
      "Unique Opcodes required to cover 90% of Dynamic Instructions: 6\n",
      "Total Instruction Count: 33094016\n",
      "+--------------------------------------------------------------------------+\n",
      "|Instruction Level Parallelism                                             |\n",
      "+==========================================================================+\n",
      "# of workitems invoked: 64\n",
      "total # of workitem barriers hit: 0\n",
      "Min instructions to barrier: 517094\n",
      "Max instructions to barrier: 517094\n",
      "Median instructions to barrier: 517094\n",
      "+--------------------------------------------------------------------------+\n",
      "|Data Level Parallelism                                                    |\n",
      "+==========================================================================+\n",
      "Min data width: 1\n",
      "Max data width: 4\n",
      "Operand sum: 9.29969e+07\n",
      "Mean data width: 2.81008\n",
      "stdev data width: 1.4676\n",
      "Granularity: 3.02169e-08\n",
      "Barriers Per Instruction : 3.02169e-08\n",
      "Instructions Per Operand : 0.355862\n",
      "+--------------------------------------------------------------------------+\n",
      "|Total Memory Footprint -- total number of unique memory addresses accessed|\n",
      "+==========================================================================+\n",
      "512\n",
      "+----------------------------------------------------------------------------------------------+\n",
      "|90% Memory Footprint -- Number of unique memory addresses that cover 90% of memory accesses   |\n",
      "+==============================================================================================+\n",
      "total number of memory accesses = 32768\n",
      "90% of memory accesses:29492\n",
      "Number of unique memory addresses that cover 90% of memory accesses: 461\n",
      "+----------------------------------------------------------------------------------------------+\n",
      "|Global Memory Address Entropy -- Measure of the randomness of memory addresses                |\n",
      "+==============================================================================================+\n",
      "9\n",
      "+----------------------------------------------------------------------------------------------+\n",
      "|Local Memory Address Entropy -- Measure of the spatial locality of memory addresses           |\n",
      "+==============================================================================================+\n",
      "LSBs skipped\tEntropy (bits)\n",
      "1\t\t9\n",
      "2\t\t9\n",
      "3\t\t9\n",
      "4\t\t9\n",
      "5\t\t8.25\n",
      "6\t\t7.40564\n",
      "7\t\t6.95444\n",
      "8\t\t6.01491\n",
      "9\t\t5.028\n",
      "10\t\t4.05802\n",
      "+-------------------------------------------------------------------------------------------------------+\n",
      "|Unique Branch Instructions -- Total number of unique branch instructions to cover 90% of the branches|\n",
      "+=======================================================================================================+\n",
      "Branch At Line\tCount (hit and miss)\n",
      "120\t\t1082176\n",
      "124\t\t1079680\n",
      "129\t\t1049408\n",
      "115\t\t36864\n",
      "113\t\t4160\n",
      "Number of unique branches that cover 90% of all branch instructions: 3\n",
      "+-------------------------------------------------------------------------------------------------------+\n",
      "|Branch Entropy -- Measure of the randomness of branch behaviour, representing branch predicability     |\n",
      "+=======================================================================================================+\n",
      "Using a branch history of 16\n",
      "Yokota Branch Entropy: 229657\n",
      "Yokota Branch Entropy Per Workload: 359.335\n",
      "Average Linear Branch Entropy: 0.0755866\n",
      "The Architecture-Independent Workload Characterisation was written to file: aiwc_mandelbrot_vectorized_0.csv\n",
      "\n",
      "Mandelbrot vectorized:\n",
      "******* LSB_Finalize *******\n"
     ]
    }
   ],
   "source": [
    "! make clean\n",
    "! make\n",
    "! $OCLGRIND/bin/oclgrind --workload-characterisation ./cpu-mandelbrot-vectorization ./cpu-mandelbrot-vectorization-set-map.cl $PROBLEM_SIZE 0 0 aiwc\n",
    "! rm -f lsb.*.r0* #we aren't interested in runtime data anymore"
   ]
  },
  {
   "cell_type": "markdown",
   "metadata": {},
   "source": [
    "## Analyse AIWC data"
   ]
  },
  {
   "cell_type": "markdown",
   "metadata": {},
   "source": [
    "First load in new data"
   ]
  },
  {
   "cell_type": "code",
   "execution_count": 113,
   "metadata": {},
   "outputs": [],
   "source": [
    "import pandas as pd\n",
    "mandelbrot = pd.read_csv('./aiwc_mandelbrot_0.csv', sep=\",\")\n",
    "mandelbrotVectorized = pd.read_csv('./aiwc_mandelbrot_vectorized_0.csv', sep=\",\")"
   ]
  },
  {
   "cell_type": "markdown",
   "metadata": {},
   "source": [
    "Standardise according to existing data -- from the predictive modelling paper"
   ]
  },
  {
   "cell_type": "code",
   "execution_count": 114,
   "metadata": {
    "scrolled": true
   },
   "outputs": [
    {
     "name": "stderr",
     "output_type": "stream",
     "text": [
      "/usr/local/lib/python3.5/dist-packages/rpy2/robjects/pandas2ri.py:191: FutureWarning: from_items is deprecated. Please use DataFrame.from_dict(dict(items), ...) instead. DataFrame.from_dict(OrderedDict(items)) may be used to preserve the key order.\n",
      "  res = PandasDataFrame.from_items(items)\n"
     ]
    }
   ],
   "source": [
    "%%R -i mandelbrot -i mandelbrotVectorized -o featdata.all\n",
    "\n",
    "load('/opencl-predictions-with-aiwc/data/intermediate/featdata.Rda')\n",
    "\n",
    "mandelbrot$application <- \"mandelbrot_set\"\n",
    "mandelbrot$kernel <- \"mandelbrot\"\n",
    "mandelbrot$invocation <- 0\n",
    "mandelbrot$size <- Sys.getenv('PROBLEM_SIZE')\n",
    "\n",
    "mandelbrotVectorized$application <- \"mandelbrot_set\"\n",
    "mandelbrotVectorized$kernel <- \"mandelbrot_vectorized\"\n",
    "mandelbrotVectorized$invocation <- 0\n",
    "mandelbrotVectorized$size <- Sys.getenv('PROBLEM_SIZE')\n",
    "\n",
    "featdata.all <- rbind(featdata.all,mandelbrot)\n",
    "featdata.all <- rbind(featdata.all,mandelbrotVectorized)\n"
   ]
  },
  {
   "cell_type": "markdown",
   "metadata": {},
   "source": [
    "Studentise the AIWC data"
   ]
  },
  {
   "cell_type": "code",
   "execution_count": 115,
   "metadata": {},
   "outputs": [],
   "source": [
    "%%R -i featdata.all -o aiwc\n",
    "\n",
    "source('/opencl-predictions-with-aiwc/codes/restructure_aiwc_data.R')\n",
    "pca_dat <- reorder_features(featdata.all)\n",
    "pca_dat$opcode <- scale(pca_dat$opcode,scale=TRUE)[,1]\n",
    "pca_dat$granularity <- scale(pca_dat$granularity,scale=TRUE)[,1]\n",
    "pca_dat$barriers_per_instruction <- scale(pca_dat$barriers_per_instruction,scale=TRUE)[,1]\n",
    "pca_dat$instructions_per_operand <- scale(pca_dat$instructions_per_operand,scale=TRUE)[,1]\n",
    "pca_dat$total_instruction_count <- scale(pca_dat$total_instruction_count,scale=TRUE)[,1]\n",
    "pca_dat$workitems <- scale(pca_dat$workitems,scale=TRUE)[,1]\n",
    "pca_dat$operand_sum <- scale(pca_dat$operand_sum,scale=TRUE)[,1]\n",
    "pca_dat$total_barriers_hit <- scale(pca_dat$total_barriers_hit,scale=TRUE)[,1]\n",
    "pca_dat$min_instructions_to_barrier <- scale(pca_dat$min_instructions_to_barrier,scale=TRUE)[,1]\n",
    "pca_dat$max_instructions_to_barrier <- scale(pca_dat$max_instructions_to_barrier,scale=TRUE)[,1]\n",
    "pca_dat$median_instructions_to_barrier <- scale(pca_dat$median_instructions_to_barrier,scale=TRUE)[,1]\n",
    "pca_dat$max_simd_width <- scale(pca_dat$max_simd_width,scale=TRUE)[,1]\n",
    "pca_dat$mean_simd_width <- scale(pca_dat$mean_simd_width,scale=TRUE)[,1]\n",
    "pca_dat$stddev_simd_width <- scale(pca_dat$stddev_simd_width,scale=TRUE)[,1]\n",
    "pca_dat$total_memory_footprint <- scale(pca_dat$total_memory_footprint,scale=TRUE)[,1]\n",
    "pca_dat$ninety_percent_memory_footprint <- scale(pca_dat$ninety_percent_memory_footprint,scale=TRUE)[,1]\n",
    "pca_dat$global_memory_address_entropy <- scale(pca_dat$global_memory_address_entropy,scale=TRUE)[,1]\n",
    "pca_dat$local_memory_address_entropy_1 <- scale(pca_dat$local_memory_address_entropy_1,scale=TRUE)[,1]\n",
    "pca_dat$local_memory_address_entropy_2 <- scale(pca_dat$local_memory_address_entropy_2,scale=TRUE)[,1]\n",
    "pca_dat$local_memory_address_entropy_3 <- scale(pca_dat$local_memory_address_entropy_3,scale=TRUE)[,1]\n",
    "pca_dat$local_memory_address_entropy_4 <- scale(pca_dat$local_memory_address_entropy_4,scale=TRUE)[,1]\n",
    "pca_dat$local_memory_address_entropy_5 <- scale(pca_dat$local_memory_address_entropy_5,scale=TRUE)[,1]\n",
    "pca_dat$local_memory_address_entropy_6 <- scale(pca_dat$local_memory_address_entropy_6,scale=TRUE)[,1]\n",
    "pca_dat$local_memory_address_entropy_7 <- scale(pca_dat$local_memory_address_entropy_7,scale=TRUE)[,1]\n",
    "pca_dat$local_memory_address_entropy_8 <- scale(pca_dat$local_memory_address_entropy_8,scale=TRUE)[,1]\n",
    "pca_dat$local_memory_address_entropy_9 <- scale(pca_dat$local_memory_address_entropy_9,scale=TRUE)[,1]\n",
    "pca_dat$local_memory_address_entropy_10 <- scale(pca_dat$local_memory_address_entropy_10,scale=TRUE)[,1]\n",
    "pca_dat$total_unique_branch_instructions <- scale(pca_dat$total_unique_branch_instructions,scale=TRUE)[,1]\n",
    "pca_dat$ninety_percent_branch_instructions <- scale(pca_dat$ninety_percent_branch_instructions,scale=TRUE)[,1]\n",
    "pca_dat$branch_entropy_yokota <- scale(pca_dat$branch_entropy_yokota,scale=TRUE)[,1]\n",
    "pca_dat$branch_entropy_average_linear <- scale(pca_dat$branch_entropy_average_linear,scale=TRUE)[,1]\n",
    "aiwc <- pca_dat"
   ]
  },
  {
   "cell_type": "markdown",
   "metadata": {},
   "source": [
    "Comparison between AIWC feature-spaces"
   ]
  },
  {
   "cell_type": "code",
   "execution_count": 116,
   "metadata": {
    "scrolled": true
   },
   "outputs": [
    {
     "data": {
      "image/png": "[encoded data removed]"
     },
     "metadata": {},
     "output_type": "display_data"
    }
   ],
   "source": [
    "%%R -i aiwc -w 800 -h 800 -u px\n",
    "\n",
    "library(ggplot2)\n",
    "library(reshape2)\n",
    "\n",
    "aiwc.of.interest <- subset(aiwc, application == \"mandelbrot_set\")\n",
    "aiwc.of.interest = subset(aiwc.of.interest, select = -size)\n",
    "aiwc.of.interest = subset(aiwc.of.interest, select = -invocation)\n",
    "aiwc.of.interest = subset(aiwc.of.interest, select = -application)\n",
    "\n",
    "melted = melt(aiwc.of.interest, id.var = 'kernel')\n",
    "ggplot(melted, aes(x = variable, y = value, fill = kernel)) + geom_bar(stat = \"identity\", position = 'dodge') +\n",
    "    scale_x_discrete(name = \"AIWC feature\") + theme(axis.text.x = element_text(angle = 90, hjust = 1))\n"
   ]
  },
  {
   "cell_type": "code",
   "execution_count": null,
   "metadata": {},
   "outputs": [],
   "source": []
  }
 ],
 "metadata": {
  "kernelspec": {
   "display_name": "Python 3",
   "language": "python",
   "name": "python3"
  },
  "language_info": {
   "codemirror_mode": {
    "name": "ipython",
    "version": 3
   },
   "file_extension": ".py",
   "mimetype": "text/x-python",
   "name": "python",
   "nbconvert_exporter": "python",
   "pygments_lexer": "ipython3",
   "version": "3.6.8"
  },
  "toc": {
   "base_numbering": 1,
   "nav_menu": {},
   "number_sections": false,
   "sideBar": false,
   "skip_h1_title": false,
   "title_cell": "Table of Contents",
   "title_sidebar": "Contents",
   "toc_cell": false,
   "toc_position": {},
   "toc_section_display": false,
   "toc_window_display": false
  }
 },
 "nbformat": 4,
 "nbformat_minor": 2
}
