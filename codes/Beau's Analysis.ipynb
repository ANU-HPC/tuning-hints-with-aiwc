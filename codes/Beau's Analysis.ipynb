{
 "cells": [
  {
   "cell_type": "markdown",
   "metadata": {},
   "source": [
    "# CUDA C Best Practices Guide -- Shared Memory Optimisations"
   ]
  },
  {
   "cell_type": "markdown",
   "metadata": {},
   "source": [
    "Change the following to run the same analysis on a different problem size:"
   ]
  },
  {
   "cell_type": "code",
   "execution_count": 12,
   "metadata": {},
   "outputs": [
    {
     "name": "stdout",
     "output_type": "stream",
     "text": [
      "env: OCLGRIND=/oclgrind\n",
      "env: PROBLEM_SIZE=tiny\n",
      "The rpy2.ipython extension is already loaded. To reload it, use:\n",
      "  %reload_ext rpy2.ipython\n"
     ]
    }
   ],
   "source": [
    "%env OCLGRIND=/oclgrind\n",
    "%env PROBLEM_SIZE=tiny\n",
    "# %env PROBLEM_SIZE=small\n",
    "# %env PROBLEM_SIZE=medium\n",
    "# %env PROBLEM_SIZE=large\n",
    "\n",
    "# set-up compulsory stuff\n",
    "%load_ext rpy2.ipython"
   ]
  },
  {
   "cell_type": "markdown",
   "metadata": {},
   "source": [
    "## Generate runtime data"
   ]
  },
  {
   "cell_type": "code",
   "execution_count": 200,
   "metadata": {
    "scrolled": false
   },
   "outputs": [
    {
     "name": "stdout",
     "output_type": "stream",
     "text": [
      "rm -f sbd aiwc-tester lsb.*.r0* aiwc_*.csv aiwc_*_itb.log Rplots.pdf\n",
      "g++ synthetic-benchmark-driver.cpp -o sbd -lOpenCL -llsb -L/libscibench/lib -I/libscibench/include -std=c++11\n",
      "g++ aiwc-tester.cpp -o aiwc-tester -lOpenCL -llsb -L/libscibench/lib -I/libscibench/include -std=c++11\n"
     ]
    }
   ],
   "source": [
    "! make clean\n",
    "! make"
   ]
  },
  {
   "cell_type": "markdown",
   "metadata": {},
   "source": [
    "Run the experiment and collect runtime data"
   ]
  },
  {
   "cell_type": "code",
   "execution_count": 187,
   "metadata": {
    "scrolled": false
   },
   "outputs": [
    {
     "name": "stdout",
     "output_type": "stream",
     "text": [
      "***** LSB_Init >gpu_memory_access< writing to >lsb.gpu_memory_access.r0< *****\n",
      "Attempting kernel: ./gpu-strided-global-memory-access-unoptimised.cl with contents:\n",
      "//shared memory in matrix multiplication ported from the [cuda c best practices guide](https://docs.nvidia.com/cuda/cuda-c-best-practices-guide/index.html#shared-memory-in-matrix-multiplication-c-aa)\n",
      "\n",
      "__kernel void simpleMultiply(__global float *a,__global float *b,__global float *c, int N)\n",
      "{\n",
      "    int row = get_group_id(1) * get_local_size(1) + get_local_id(1);//blockIdx.y * blockDim.y + threadIdx.y;\n",
      "    int col = get_group_id(0) * get_local_size(0) + get_local_id(0);//blockIdx.x * blockDim.x + threadIdx.x;\n",
      "    float sum = 0.0f;\n",
      "    for (int i = 0; i < TILE_DIM; i++) {\n",
      "        sum += a[row*TILE_DIM+i] * b[i*N+col];\n",
      "    }\n",
      "    c[row*TILE_DIM+col] = sum;\n",
      "}\n",
      "\n",
      "__kernel void coalescedMultiply(__global float* a, __global float* b, __global float* c, int N)\n",
      "{\n",
      "    __local float aTile[TILE_DIM][TILE_DIM];\n",
      "    int row = get_group_id(1) * get_local_size(1) + get_local_id(1);//blockIdx.y * blockDim.y + threadIdx.y;\n",
      "    int col = get_group_id(0) * get_local_size(0) + get_local_id(0);//blockIdx.x * blockDim.x + threadIdx.x;\n",
      "    float sum = 0.0f;\n",
      "    aTile[get_local_id(1)][get_local_id(0)] = a[row*TILE_DIM+get_local_id(0)];\n",
      "    for (int i = 0; i < TILE_DIM; i++) {\n",
      "        sum += aTile[get_local_id(1)][i] * b[i*N+col];\n",
      "    }\n",
      "    c[row*N+col] = sum;\n",
      "}\n",
      "\n",
      "__kernel void sharedABMultiply(__global float *a, __global float* b, __global float *c, int N)\n",
      "{\n",
      "    __local float aTile[TILE_DIM][TILE_DIM],\n",
      "                  bTile[TILE_DIM][TILE_DIM];\n",
      "    int row = get_group_id(1) * get_local_size(1) + get_local_id(1);\n",
      "    int col = get_group_id(0) * get_local_size(0) + get_local_id(0);\n",
      "    float sum = 0.0f;\n",
      "    aTile[get_local_id(1)][get_local_id(0)] = a[row*TILE_DIM+get_local_id(0)];\n",
      "    bTile[get_local_id(1)][get_local_id(0)] = b[get_local_id(1)*N+col];\n",
      "    barrier(CLK_LOCAL_MEM_FENCE);\n",
      "    for (int i = 0; i < TILE_DIM; i++) {\n",
      "        sum += aTile[get_local_id(1)][i]* bTile[i][get_local_id(0)];\n",
      "    }\n",
      "    c[row*N+col] = sum;\n",
      "}\n",
      "\n",
      "\n",
      "\n",
      "Operating on a 1152x1152 matrix with a tile size 32...\n",
      "******* LSB_Finalize *******\n"
     ]
    }
   ],
   "source": [
    "! ./sbd ./gpu-strided-global-memory-access-unoptimised.cl $PROBLEM_SIZE 0 0 runtime"
   ]
  },
  {
   "cell_type": "markdown",
   "metadata": {},
   "source": [
    "## Analyse runtimes data -- to ensure the OpenCL port of the cuda codes matches those shown in CUDA code-book"
   ]
  },
  {
   "cell_type": "code",
   "execution_count": 188,
   "metadata": {
    "scrolled": true
   },
   "outputs": [],
   "source": [
    "import pandas as pd\n",
    "x = pd.read_csv('lsb.gpu_memory_access.r0', comment='#', sep=\"\\s+\")\n",
    "#print(x)\n",
    "\n",
    "y = x[(x.region == 'simpleMultiply_kernel') | (x.region == 'coalescedMultiply_kernel') | (x.region == 'sharedABMultiply_kernel')]\n",
    "\n"
   ]
  },
  {
   "cell_type": "markdown",
   "metadata": {},
   "source": [
    "The distributions of 100 runtimes for each of the 3 kernels of memory striding for GPU optimisations are shown below."
   ]
  },
  {
   "cell_type": "code",
   "execution_count": 189,
   "metadata": {
    "scrolled": true
   },
   "outputs": [
    {
     "name": "stderr",
     "output_type": "stream",
     "text": [
      "/usr/local/lib/python3.5/dist-packages/rpy2/robjects/pandas2ri.py:191: FutureWarning: from_items is deprecated. Please use DataFrame.from_dict(dict(items), ...) instead. DataFrame.from_dict(OrderedDict(items)) may be used to preserve the key order.\n",
      "  res = PandasDataFrame.from_items(items)\n"
     ]
    },
    {
     "data": {
      "image/png": "[encoded data removed]"
     },
     "metadata": {},
     "output_type": "display_data"
    }
   ],
   "source": [
    "%%R -i y -w 800 -h 300 -u px\n",
    "\n",
    "library(ggplot2)\n",
    "pp = ggplot(y, aes_string(x='time', colour = 'region')) + geom_histogram(binwidth=.5)\n",
    "print(pp)"
   ]
  },
  {
   "cell_type": "markdown",
   "metadata": {},
   "source": [
    "**NOTE:** Do these distributions appear suspect? Perhaps move the timing regions to outside of the loop and divide by iterations -- in the C host source"
   ]
  },
  {
   "cell_type": "code",
   "execution_count": 190,
   "metadata": {
    "scrolled": false
   },
   "outputs": [
    {
     "data": {
      "application/vnd.jupyter.widget-view+json": {
       "model_id": "4755d57760cc48de89f6ca06caeb0cb9",
       "version_major": 2,
       "version_minor": 0
      }
     },
     "metadata": {},
     "output_type": "display_data"
    }
   ],
   "source": [
    "z = y.drop(['id','overhead'],axis=1)\n",
    "z = z.rename(columns={'time':'time (ms)'})\n",
    "z.groupby([\"region\"]).mean()"
   ]
  },
  {
   "cell_type": "markdown",
   "metadata": {},
   "source": [
    "## Generate AIWC feature-space per kernel"
   ]
  },
  {
   "cell_type": "code",
   "execution_count": 13,
   "metadata": {
    "scrolled": true
   },
   "outputs": [
    {
     "name": "stdout",
     "output_type": "stream",
     "text": [
      "rm -f sbd aiwc-tester lsb.*.r0* aiwc_*.csv aiwc_*_itb.log Rplots.pdf\n",
      "g++ synthetic-benchmark-driver.cpp -o sbd -lOpenCL -llsb -L/libscibench/lib -I/libscibench/include -std=c++11\n",
      "g++ aiwc-tester.cpp -o aiwc-tester -lOpenCL -llsb -L/libscibench/lib -I/libscibench/include -std=c++11\n",
      "***** LSB_Init >gpu_memory_access< writing to >lsb.gpu_memory_access.r0< *****\n",
      "Attempting kernel: ./gpu-strided-global-memory-access-unoptimised.cl with contents:\n",
      "//shared memory in matrix multiplication ported from the [cuda c best practices guide](https://docs.nvidia.com/cuda/cuda-c-best-practices-guide/index.html#shared-memory-in-matrix-multiplication-c-aa)\n",
      "\n",
      "__kernel void simpleMultiply(__global float *a,__global float *b,__global float *c, int N)\n",
      "{\n",
      "    int row = get_group_id(1) * get_local_size(1) + get_local_id(1);//blockIdx.y * blockDim.y + threadIdx.y;\n",
      "    int col = get_group_id(0) * get_local_size(0) + get_local_id(0);//blockIdx.x * blockDim.x + threadIdx.x;\n",
      "    float sum = 0.0f;\n",
      "    for (int i = 0; i < TILE_DIM; i++) {\n",
      "        sum += a[row*TILE_DIM+i] * b[i*N+col];\n",
      "    }\n",
      "    c[row*TILE_DIM+col] = sum;\n",
      "}\n",
      "\n",
      "__kernel void coalescedMultiply(__global float* a, __global float* b, __global float* c, int N)\n",
      "{\n",
      "    __local float aTile[TILE_DIM][TILE_DIM];\n",
      "    int row = get_group_id(1) * get_local_size(1) + get_local_id(1);//blockIdx.y * blockDim.y + threadIdx.y;\n",
      "    int col = get_group_id(0) * get_local_size(0) + get_local_id(0);//blockIdx.x * blockDim.x + threadIdx.x;\n",
      "    float sum = 0.0f;\n",
      "    aTile[get_local_id(1)][get_local_id(0)] = a[row*TILE_DIM+get_local_id(0)];\n",
      "    for (int i = 0; i < TILE_DIM; i++) {\n",
      "        sum += aTile[get_local_id(1)][i] * b[i*N+col];\n",
      "    }\n",
      "    c[row*N+col] = sum;\n",
      "}\n",
      "\n",
      "__kernel void sharedABMultiply(__global float *a, __global float* b, __global float *c, int N)\n",
      "{\n",
      "    __local float aTile[TILE_DIM][TILE_DIM],\n",
      "                  bTile[TILE_DIM][TILE_DIM];\n",
      "    int row = get_group_id(1) * get_local_size(1) + get_local_id(1);\n",
      "    int col = get_group_id(0) * get_local_size(0) + get_local_id(0);\n",
      "    float sum = 0.0f;\n",
      "    aTile[get_local_id(1)][get_local_id(0)] = a[row*TILE_DIM+get_local_id(0)];\n",
      "    bTile[get_local_id(1)][get_local_id(0)] = b[get_local_id(1)*N+col];\n",
      "    barrier(CLK_LOCAL_MEM_FENCE);\n",
      "    for (int i = 0; i < TILE_DIM; i++) {\n",
      "        sum += aTile[get_local_id(1)][i]* bTile[i][get_local_id(0)];\n",
      "    }\n",
      "    c[row*N+col] = sum;\n",
      "}\n",
      "\n",
      "\n",
      "\n",
      "Operating on a 32x32 matrix with a tile size 32...\n",
      "Architecture-Independent Workload Characterization of kernel: simpleMultiply\n",
      "+----------------------------------------------------------------------------+\n",
      "|Compute Opcode Instruction Histogram                                        |\n",
      "+============================================================================+\n",
      "instruction: getelementptr count: 66560\n",
      "instruction: load count: 65536\n",
      "instruction: br count: 67584\n",
      "instruction: add count: 101376\n",
      "instruction: sext count: 66560\n",
      "instruction: call count: 38912\n",
      "instruction: store count: 1024\n",
      "instruction: ret count: 1024\n",
      "instruction: mul count: 34816\n",
      "instruction: icmp count: 33792\n",
      "instruction: trunc count: 2048\n",
      "instruction: shl count: 1024\n",
      "instruction: phi count: 67584\n",
      "+----------------------------------------------------------------------------+\n",
      "|Compute Opcode Unique Opcodes required to cover 90% of Dynamic Instructions |\n",
      "+============================================================================+\n",
      "Unique Op Codes comprising of 90% of dynamic instructions:\n",
      "\tadd\n",
      "\tbr\n",
      "\tphi\n",
      "\tgetelementptr\n",
      "\tsext\n",
      "\tload\n",
      "\tcall\n",
      "\tmul\n",
      "Unique Opcodes required to cover 90% of Dynamic Instructions: 8\n",
      "Total Instruction Count: 547840\n",
      "+--------------------------------------------------------------------------+\n",
      "|Instruction Level Parallelism                                             |\n",
      "+==========================================================================+\n",
      "# of workitems invoked: 1024\n",
      "total # of workitem barriers hit: 0\n",
      "Min instructions to barrier: 535\n",
      "Max instructions to barrier: 535\n",
      "Median instructions to barrier: 535\n",
      "+--------------------------------------------------------------------------+\n",
      "|Data Level Parallelism                                                    |\n",
      "+==========================================================================+\n",
      "Min data width: 1\n",
      "Max data width: 1\n",
      "Operand sum: 547840\n",
      "Mean data width: 1\n",
      "stdev data width: 0\n",
      "Granularity: 1.82535e-06\n",
      "Barriers Per Instruction : 1.82535e-06\n",
      "Instructions Per Operand : 1\n",
      "+--------------------------------------------------------------------------+\n",
      "|Total Memory Footprint -- total number of unique memory addresses accessed|\n",
      "+==========================================================================+\n",
      "3072\n",
      "+----------------------------------------------------------------------------------------------+\n",
      "|90% Memory Footprint -- Number of unique memory addresses that cover 90% of memory accesses   |\n",
      "+==============================================================================================+\n",
      "total number of memory accesses = 66560\n",
      "90% of memory accesses:59904\n",
      "Number of unique memory addresses that cover 90% of memory accesses: 1872\n",
      "+----------------------------------------------------------------------------------------------+\n",
      "|Global Memory Address Entropy -- Measure of the randomness of memory addresses                |\n",
      "+==============================================================================================+\n",
      "11.099\n",
      "+----------------------------------------------------------------------------------------------+\n",
      "|Local Memory Address Entropy -- Measure of the spatial locality of memory addresses           |\n",
      "+==============================================================================================+\n",
      "LSBs skipped\tEntropy (bits)\n",
      "1\t\t11.0993\n",
      "2\t\t11.0993\n",
      "3\t\t10.0992\n",
      "4\t\t9.0993\n",
      "5\t\t8.10312\n",
      "6\t\t7.10553\n",
      "7\t\t6.12304\n",
      "8\t\t5.13559\n",
      "9\t\t4.22095\n",
      "10\t\t3.31445\n",
      "+-------------------------------------------------------------------------------------------------------+\n",
      "|Unique Branch Instructions -- Total number of unique branch instructions to cover 90% of the branches|\n",
      "+=======================================================================================================+\n",
      "Branch At Line\tCount (hit and miss)\n",
      "8\t\t33792\n",
      "Number of unique branches that cover 90% of all branch instructions: 1\n",
      "+-------------------------------------------------------------------------------------------------------+\n",
      "|Branch Entropy -- Measure of the randomness of branch behaviour, representing branch predicability     |\n",
      "+=======================================================================================================+\n",
      "Using a branch history of 16\n",
      "Yokota Branch Entropy: 4092.25\n",
      "Yokota Branch Entropy Per Workload: 4\n",
      "Average Linear Branch Entropy: 0.0605775\n",
      "The Architecture-Independent Workload Characterisation was written to file: aiwc_simpleMultiply_0.csv\n",
      "Architecture-Independent Workload Characterization of kernel: coalescedMultiply\n",
      "+----------------------------------------------------------------------------+\n",
      "|Compute Opcode Instruction Histogram                                        |\n",
      "+============================================================================+\n",
      "instruction: getelementptr count: 68608\n",
      "instruction: load count: 66560\n",
      "instruction: sext count: 67584\n",
      "instruction: call count: 38912\n",
      "instruction: shl count: 1024\n",
      "instruction: trunc count: 2048\n",
      "instruction: mul count: 35840\n",
      "instruction: br count: 67584\n",
      "instruction: add count: 69632\n",
      "instruction: store count: 2048\n",
      "instruction: phi count: 67584\n",
      "instruction: icmp count: 33792\n",
      "instruction: ret count: 1024\n",
      "+----------------------------------------------------------------------------+\n",
      "|Compute Opcode Unique Opcodes required to cover 90% of Dynamic Instructions |\n",
      "+============================================================================+\n",
      "Unique Op Codes comprising of 90% of dynamic instructions:\n",
      "\tadd\n",
      "\tgetelementptr\n",
      "\tsext\n",
      "\tbr\n",
      "\tphi\n",
      "\tload\n",
      "\tcall\n",
      "\tmul\n",
      "Unique Opcodes required to cover 90% of Dynamic Instructions: 8\n",
      "Total Instruction Count: 522240\n",
      "+--------------------------------------------------------------------------+\n",
      "|Instruction Level Parallelism                                             |\n",
      "+==========================================================================+\n",
      "# of workitems invoked: 1024\n",
      "total # of workitem barriers hit: 0\n",
      "Min instructions to barrier: 510\n",
      "Max instructions to barrier: 510\n",
      "Median instructions to barrier: 510\n",
      "+--------------------------------------------------------------------------+\n",
      "|Data Level Parallelism                                                    |\n",
      "+==========================================================================+\n",
      "Min data width: 1\n",
      "Max data width: 1\n",
      "Operand sum: 522240\n",
      "Mean data width: 1\n",
      "stdev data width: 0\n",
      "Granularity: 1.91483e-06\n",
      "Barriers Per Instruction : 1.91483e-06\n",
      "Instructions Per Operand : 1\n",
      "+--------------------------------------------------------------------------+\n",
      "|Total Memory Footprint -- total number of unique memory addresses accessed|\n",
      "+==========================================================================+\n",
      "4096\n",
      "+----------------------------------------------------------------------------------------------+\n",
      "|90% Memory Footprint -- Number of unique memory addresses that cover 90% of memory accesses   |\n",
      "+==============================================================================================+\n",
      "total number of memory accesses = 68608\n",
      "90% of memory accesses:61748\n",
      "Number of unique memory addresses that cover 90% of memory accesses: 1898\n",
      "+----------------------------------------------------------------------------------------------+\n",
      "|Global Memory Address Entropy -- Measure of the randomness of memory addresses                |\n",
      "+==============================================================================================+\n",
      "11.1943\n",
      "+----------------------------------------------------------------------------------------------+\n",
      "|Local Memory Address Entropy -- Measure of the spatial locality of memory addresses           |\n",
      "+==============================================================================================+\n",
      "LSBs skipped\tEntropy (bits)\n",
      "1\t\t9.22914\n",
      "2\t\t9.22909\n",
      "3\t\t8.72162\n",
      "4\t\t8.21418\n",
      "5\t\t7.71041\n",
      "6\t\t7.20528\n",
      "7\t\t6.21168\n",
      "8\t\t5.21741\n",
      "9\t\t4.3176\n",
      "10\t\t3.39446\n",
      "+-------------------------------------------------------------------------------------------------------+\n",
      "|Unique Branch Instructions -- Total number of unique branch instructions to cover 90% of the branches|\n",
      "+=======================================================================================================+\n",
      "Branch At Line\tCount (hit and miss)\n",
      "21\t\t33792\n",
      "Number of unique branches that cover 90% of all branch instructions: 1\n",
      "+-------------------------------------------------------------------------------------------------------+\n",
      "|Branch Entropy -- Measure of the randomness of branch behaviour, representing branch predicability     |\n",
      "+=======================================================================================================+\n",
      "Using a branch history of 16\n",
      "Yokota Branch Entropy: 4092.25\n",
      "Yokota Branch Entropy Per Workload: 4\n",
      "Average Linear Branch Entropy: 0.0605775\n",
      "The Architecture-Independent Workload Characterisation was written to file: aiwc_coalescedMultiply_0.csv\n"
     ]
    },
    {
     "name": "stdout",
     "output_type": "stream",
     "text": [
      "Architecture-Independent Workload Characterization of kernel: sharedABMultiply\n",
      "+----------------------------------------------------------------------------+\n",
      "|Compute Opcode Instruction Histogram                                        |\n",
      "+============================================================================+\n",
      "instruction: getelementptr count: 70656\n",
      "instruction: load count: 67584\n",
      "instruction: sext count: 36864\n",
      "instruction: call count: 39936\n",
      "instruction: shl count: 1024\n",
      "instruction: trunc count: 2048\n",
      "instruction: mul count: 4096\n",
      "instruction: br count: 67584\n",
      "instruction: add count: 37888\n",
      "instruction: store count: 3072\n",
      "instruction: phi count: 67584\n",
      "instruction: icmp count: 33792\n",
      "instruction: ret count: 1024\n",
      "+----------------------------------------------------------------------------+\n",
      "|Compute Opcode Unique Opcodes required to cover 90% of Dynamic Instructions |\n",
      "+============================================================================+\n",
      "Unique Op Codes comprising of 90% of dynamic instructions:\n",
      "\tgetelementptr\n",
      "\tload\n",
      "\tbr\n",
      "\tphi\n",
      "\tcall\n",
      "\tadd\n",
      "\tsext\n",
      "\ticmp\n",
      "Unique Opcodes required to cover 90% of Dynamic Instructions: 8\n",
      "Total Instruction Count: 433152\n",
      "+--------------------------------------------------------------------------+\n",
      "|Instruction Level Parallelism                                             |\n",
      "+==========================================================================+\n",
      "# of workitems invoked: 1024\n",
      "total # of workitem barriers hit: 1024\n",
      "Min instructions to barrier: 27\n",
      "Max instructions to barrier: 395\n",
      "Median instructions to barrier: 211\n",
      "+--------------------------------------------------------------------------+\n",
      "|Data Level Parallelism                                                    |\n",
      "+==========================================================================+\n",
      "Min data width: 1\n",
      "Max data width: 1\n",
      "Operand sum: 433152\n",
      "Mean data width: 1\n",
      "stdev data width: 0\n",
      "Granularity: 2.30866e-06\n",
      "Barriers Per Instruction : 0.00236637\n",
      "Instructions Per Operand : 1\n",
      "+--------------------------------------------------------------------------+\n",
      "|Total Memory Footprint -- total number of unique memory addresses accessed|\n",
      "+==========================================================================+\n",
      "5120\n",
      "+----------------------------------------------------------------------------------------------+\n",
      "|90% Memory Footprint -- Number of unique memory addresses that cover 90% of memory accesses   |\n",
      "+==============================================================================================+\n",
      "total number of memory accesses = 70656\n",
      "90% of memory accesses:63591\n",
      "Number of unique memory addresses that cover 90% of memory accesses: 1927\n",
      "+----------------------------------------------------------------------------------------------+\n",
      "|Global Memory Address Entropy -- Measure of the randomness of memory addresses                |\n",
      "+==============================================================================================+\n",
      "11.2835\n",
      "+----------------------------------------------------------------------------------------------+\n",
      "|Local Memory Address Entropy -- Measure of the spatial locality of memory addresses           |\n",
      "+==============================================================================================+\n",
      "LSBs skipped\tEntropy (bits)\n",
      "1\t\t7.46218\n",
      "2\t\t7.46218\n",
      "3\t\t7.41884\n",
      "4\t\t7.37531\n",
      "5\t\t7.33198\n",
      "6\t\t7.28854\n",
      "7\t\t6.29386\n",
      "8\t\t5.31857\n",
      "9\t\t4.33855\n",
      "10\t\t3.4722\n",
      "+-------------------------------------------------------------------------------------------------------+\n",
      "|Unique Branch Instructions -- Total number of unique branch instructions to cover 90% of the branches|\n",
      "+=======================================================================================================+\n",
      "Branch At Line\tCount (hit and miss)\n",
      "37\t\t33792\n",
      "Number of unique branches that cover 90% of all branch instructions: 1\n",
      "+-------------------------------------------------------------------------------------------------------+\n",
      "|Branch Entropy -- Measure of the randomness of branch behaviour, representing branch predicability     |\n",
      "+=======================================================================================================+\n",
      "Using a branch history of 16\n",
      "Yokota Branch Entropy: 4092.25\n",
      "Yokota Branch Entropy Per Workload: 4\n",
      "Average Linear Branch Entropy: 0.0605775\n",
      "The Architecture-Independent Workload Characterisation was written to file: aiwc_sharedABMultiply_0.csv\n",
      "******* LSB_Finalize *******\n"
     ]
    }
   ],
   "source": [
    "! make clean\n",
    "! make\n",
    "! $OCLGRIND/bin/oclgrind --workload-characterisation ./sbd ./gpu-strided-global-memory-access-unoptimised.cl $PROBLEM_SIZE 0 0 aiwc\n",
    "! rm lsb.*.r0* #we aren't interested in runtime data anymore"
   ]
  },
  {
   "cell_type": "markdown",
   "metadata": {},
   "source": [
    "## Analyse AIWC data"
   ]
  },
  {
   "cell_type": "markdown",
   "metadata": {},
   "source": [
    "First load in new data"
   ]
  },
  {
   "cell_type": "code",
   "execution_count": 14,
   "metadata": {},
   "outputs": [],
   "source": [
    "import pandas as pd\n",
    "simpleMultiply = pd.read_csv('aiwc_simpleMultiply_0.csv', sep=\",\")\n",
    "coalescedMultiply = pd.read_csv('aiwc_coalescedMultiply_0.csv', sep=\",\")\n",
    "sharedABMultiply = pd.read_csv('aiwc_sharedABMultiply_0.csv', sep=\",\")"
   ]
  },
  {
   "cell_type": "markdown",
   "metadata": {},
   "source": [
    "Standardise according to existing data -- from the predictive modelling paper"
   ]
  },
  {
   "cell_type": "code",
   "execution_count": 15,
   "metadata": {
    "scrolled": true
   },
   "outputs": [
    {
     "name": "stderr",
     "output_type": "stream",
     "text": [
      "/usr/local/lib/python3.5/dist-packages/rpy2/robjects/pandas2ri.py:191: FutureWarning: from_items is deprecated. Please use DataFrame.from_dict(dict(items), ...) instead. DataFrame.from_dict(OrderedDict(items)) may be used to preserve the key order.\n",
      "  res = PandasDataFrame.from_items(items)\n"
     ]
    }
   ],
   "source": [
    "%%R -i simpleMultiply -i coalescedMultiply -i sharedABMultiply -o featdata.all\n",
    "\n",
    "load('/opencl-predictions-with-aiwc/data/intermediate/featdata.Rda')\n",
    "\n",
    "simpleMultiply$application <- \"matrix_multiplication\"\n",
    "simpleMultiply$kernel <- \"simple_multiply\"\n",
    "simpleMultiply$invocation <- 0\n",
    "simpleMultiply$size <- Sys.getenv('PROBLEM_SIZE')\n",
    "\n",
    "coalescedMultiply$application <- \"matrix_multiplication\"\n",
    "coalescedMultiply$kernel <- \"coalesced_multiply\"\n",
    "coalescedMultiply$invocation <- 0\n",
    "coalescedMultiply$size <- Sys.getenv('PROBLEM_SIZE')\n",
    "\n",
    "sharedABMultiply$application <- \"matrix_multiplication\"\n",
    "sharedABMultiply$kernel <- \"shared_ab_multiply\"\n",
    "sharedABMultiply$invocation <- 0\n",
    "sharedABMultiply$size <- Sys.getenv('PROBLEM_SIZE')\n",
    "\n",
    "featdata.all <- rbind(featdata.all,simpleMultiply)\n",
    "featdata.all <- rbind(featdata.all,coalescedMultiply)\n",
    "featdata.all <- rbind(featdata.all,sharedABMultiply)"
   ]
  },
  {
   "cell_type": "markdown",
   "metadata": {},
   "source": [
    "Studentise the AIWC data"
   ]
  },
  {
   "cell_type": "code",
   "execution_count": 10,
   "metadata": {},
   "outputs": [],
   "source": [
    "%%R -i featdata.all -o aiwc\n",
    "\n",
    "source('/opencl-predictions-with-aiwc/codes/restructure_aiwc_data.R')\n",
    "pca_dat <- reorder_features(featdata.all)\n",
    "pca_dat$opcode <- scale(pca_dat$opcode,scale=TRUE)[,1]\n",
    "pca_dat$granularity <- scale(pca_dat$granularity,scale=TRUE)[,1]\n",
    "pca_dat$barriers_per_instruction <- scale(pca_dat$barriers_per_instruction,scale=TRUE)[,1]\n",
    "pca_dat$instructions_per_operand <- scale(pca_dat$instructions_per_operand,scale=TRUE)[,1]\n",
    "pca_dat$total_instruction_count <- scale(pca_dat$total_instruction_count,scale=TRUE)[,1]\n",
    "pca_dat$workitems <- scale(pca_dat$workitems,scale=TRUE)[,1]\n",
    "pca_dat$operand_sum <- scale(pca_dat$operand_sum,scale=TRUE)[,1]\n",
    "pca_dat$total_barriers_hit <- scale(pca_dat$total_barriers_hit,scale=TRUE)[,1]\n",
    "pca_dat$min_instructions_to_barrier <- scale(pca_dat$min_instructions_to_barrier,scale=TRUE)[,1]\n",
    "pca_dat$max_instructions_to_barrier <- scale(pca_dat$max_instructions_to_barrier,scale=TRUE)[,1]\n",
    "pca_dat$median_instructions_to_barrier <- scale(pca_dat$median_instructions_to_barrier,scale=TRUE)[,1]\n",
    "pca_dat$max_simd_width <- scale(pca_dat$max_simd_width,scale=TRUE)[,1]\n",
    "pca_dat$mean_simd_width <- scale(pca_dat$mean_simd_width,scale=TRUE)[,1]\n",
    "pca_dat$stddev_simd_width <- scale(pca_dat$stddev_simd_width,scale=TRUE)[,1]\n",
    "pca_dat$total_memory_footprint <- scale(pca_dat$total_memory_footprint,scale=TRUE)[,1]\n",
    "pca_dat$ninety_percent_memory_footprint <- scale(pca_dat$ninety_percent_memory_footprint,scale=TRUE)[,1]\n",
    "pca_dat$global_memory_address_entropy <- scale(pca_dat$global_memory_address_entropy,scale=TRUE)[,1]\n",
    "pca_dat$local_memory_address_entropy_1 <- scale(pca_dat$local_memory_address_entropy_1,scale=TRUE)[,1]\n",
    "pca_dat$local_memory_address_entropy_2 <- scale(pca_dat$local_memory_address_entropy_2,scale=TRUE)[,1]\n",
    "pca_dat$local_memory_address_entropy_3 <- scale(pca_dat$local_memory_address_entropy_3,scale=TRUE)[,1]\n",
    "pca_dat$local_memory_address_entropy_4 <- scale(pca_dat$local_memory_address_entropy_4,scale=TRUE)[,1]\n",
    "pca_dat$local_memory_address_entropy_5 <- scale(pca_dat$local_memory_address_entropy_5,scale=TRUE)[,1]\n",
    "pca_dat$local_memory_address_entropy_6 <- scale(pca_dat$local_memory_address_entropy_6,scale=TRUE)[,1]\n",
    "pca_dat$local_memory_address_entropy_7 <- scale(pca_dat$local_memory_address_entropy_7,scale=TRUE)[,1]\n",
    "pca_dat$local_memory_address_entropy_8 <- scale(pca_dat$local_memory_address_entropy_8,scale=TRUE)[,1]\n",
    "pca_dat$local_memory_address_entropy_9 <- scale(pca_dat$local_memory_address_entropy_9,scale=TRUE)[,1]\n",
    "pca_dat$local_memory_address_entropy_10 <- scale(pca_dat$local_memory_address_entropy_10,scale=TRUE)[,1]\n",
    "pca_dat$total_unique_branch_instructions <- scale(pca_dat$total_unique_branch_instructions,scale=TRUE)[,1]\n",
    "pca_dat$ninety_percent_branch_instructions <- scale(pca_dat$ninety_percent_branch_instructions,scale=TRUE)[,1]\n",
    "pca_dat$branch_entropy_yokota <- scale(pca_dat$branch_entropy_yokota,scale=TRUE)[,1]\n",
    "pca_dat$branch_entropy_average_linear <- scale(pca_dat$branch_entropy_average_linear,scale=TRUE)[,1]\n",
    "aiwc <- pca_dat"
   ]
  },
  {
   "cell_type": "markdown",
   "metadata": {},
   "source": [
    "Comparison between AIWC feature-spaces"
   ]
  },
  {
   "cell_type": "code",
   "execution_count": 11,
   "metadata": {},
   "outputs": [
    {
     "data": {
      "image/png": "[encoded data removed]"
     },
     "metadata": {},
     "output_type": "display_data"
    }
   ],
   "source": [
    "%%R -i aiwc -w 800 -h 800 -u px\n",
    "\n",
    "library(ggplot2)\n",
    "library(reshape2)\n",
    "\n",
    "aiwc.of.interest <- subset(aiwc, application == \"matrix_multiplication\")\n",
    "aiwc.of.interest = subset(aiwc.of.interest, select = -size)\n",
    "aiwc.of.interest = subset(aiwc.of.interest, select = -invocation)\n",
    "aiwc.of.interest = subset(aiwc.of.interest, select = -application)\n",
    "\n",
    "melted = melt(aiwc.of.interest, id.var = 'kernel')\n",
    "ggplot(melted, aes(x = variable, y = value, fill = kernel)) + geom_bar(stat = \"identity\", position = 'dodge') +\n",
    "    scale_x_discrete(name = \"AIWC feature\") + theme(axis.text.x = element_text(angle = 90, hjust = 1))\n"
   ]
  },
  {
   "cell_type": "markdown",
   "metadata": {},
   "source": [
    "## Prediction Accuracy Of AIWC Metrics"
   ]
  },
  {
   "cell_type": "markdown",
   "metadata": {},
   "source": [
    "Generate the predictive model"
   ]
  },
  {
   "cell_type": "code",
   "execution_count": 196,
   "metadata": {},
   "outputs": [],
   "source": [
    "%%R -o model\n",
    "\n",
    "library(ranger)\n",
    "\n",
    "load(\"/opencl-predictions-with-aiwc/data/intermediate/full_dat.Rda\")\n",
    "\n",
    "#manually typecast integer variables\n",
    "int.inds <- c(2,6,7,8,9,10,11,12,13,16,17,29,30,34,37)\n",
    "\n",
    "#standardise numeric variables\n",
    "num.inds <- lapply(full_dat, is.numeric)\n",
    "num.inds <- as.logical(num.inds)\n",
    "\n",
    "for (i in seq(along = num.inds)){\n",
    "            feature.name = names(full_dat[i])\n",
    "            ifelse((any(i == int.inds) || num.inds[i] == 'FALSE' || feature.name == \"kernel_time\"), next, full_dat[i] <- scale(full_dat[i]))\n",
    "                                } #end i loop\n",
    "\n",
    "#use 20% of data for training\n",
    "#sampled_indices <- sample(seq_len(nrow(full_dat)), size = round(nrow(full_dat)*0.2))\n",
    "#train_dat <- full_dat[sampled_indices, ]\n",
    "#test_dat <- full_dat[-sampled_indices, ]\n",
    "#or...\n",
    "#use 100% of data for training\n",
    "train_dat <- full_dat\n",
    "\n",
    "#remove certain variables unavailable during real-world training\n",
    "train_dat = subset(train_dat, select = -size)\n",
    "train_dat = subset(train_dat, select = -application)\n",
    "train_dat = subset(train_dat, select = -kernel)\n",
    "train_dat = subset(train_dat, select = -total_time)\n",
    "\n",
    "#build the model\n",
    "rgd.aiwc <- ranger(log(kernel_time)~.,\n",
    "                   data = train_dat,\n",
    "                   num.trees = 505,\n",
    "                   mtry = 30,\n",
    "                   min.node.size = 9,\n",
    "                   importance = \"impurity\",\n",
    "                   splitrule = 'variance',\n",
    "                   respect.unordered.factors = 'order')\n",
    "\n",
    "model <- rgd.aiwc"
   ]
  },
  {
   "cell_type": "markdown",
   "metadata": {},
   "source": [
    "Make prediction with our AIWC metrics"
   ]
  },
  {
   "cell_type": "code",
   "execution_count": 197,
   "metadata": {
    "scrolled": true
   },
   "outputs": [
    {
     "data": {
      "text/plain": [
       "[1] \"simple multiply 103.2 (ms)\"\n",
       "[1] \"coalesced multiply 98.49 (ms)\"\n",
       "[1] \"shared ab multiply 89.37 (ms)\"\n"
      ]
     },
     "metadata": {},
     "output_type": "display_data"
    }
   ],
   "source": [
    "%%R -i aiwc -i model -o predicted\n",
    "\n",
    "#manually typecast integer variables\n",
    "#int.inds <- c(2,6,7,8,9,10,11,12,13,16,17,29,30,34,37)\n",
    "\n",
    "#standardise numeric variables\n",
    "#num.inds <- lapply(aiwc, is.numeric)\n",
    "#num.inds <- as.logical(num.inds)\n",
    "\n",
    "#for (i in seq(along = num.inds)){\n",
    "#            feature.name = names(aiwc[i])\n",
    "#            ifelse((any(i == int.inds) || num.inds[i] == 'FALSE' || feature.name == \"kernel_time\"), next, aiwc[i] <- scale(aiwc[i]))\n",
    "#                                } #end i loop\n",
    "predicted <- data.frame()\n",
    "\n",
    "x <- subset(aiwc, kernel==\"simple_multiply\")\n",
    "x$device = 'gtx1080'\n",
    "x$run = 0\n",
    "prediction <- predict(model,type='response',data=x)\n",
    "print(paste(\"simple multiply\", round(exp(prediction$pred),digits=2), \"(ms)\"))\n",
    "predicted <- rbind(predicted, data.frame('region'='simple_multiply','predicted time (ms)'=round(exp(prediction$pred),digits=2)))\n",
    "\n",
    "x <- subset(aiwc, kernel==\"coalesced_multiply\")\n",
    "x$device = 'gtx1080'\n",
    "x$run = 0\n",
    "prediction <- predict(model,type='response',data=x)\n",
    "print(paste(\"coalesced multiply\", round(exp(prediction$pred),digits=2), \"(ms)\"))\n",
    "predicted <- rbind(predicted, data.frame('region'='coalesced_multiply','predicted time (ms)'=round(exp(prediction$pred),digits=2)))\n",
    "\n",
    "x <- subset(aiwc, kernel==\"shared_ab_multiply\")\n",
    "x$device = 'gtx1080'\n",
    "x$run = 0\n",
    "prediction <- predict(model,type='response',data=x)\n",
    "print(paste(\"shared ab multiply\", round(exp(prediction$pred),digits=2), \"(ms)\"))\n",
    "predicted <- rbind(predicted, data.frame('region'='shared_ab_multiply','predicted time (ms)'=round(exp(prediction$pred),digits=2)))\n"
   ]
  },
  {
   "cell_type": "markdown",
   "metadata": {},
   "source": [
    "Compare predictions against measured times"
   ]
  },
  {
   "cell_type": "code",
   "execution_count": 198,
   "metadata": {},
   "outputs": [
    {
     "data": {
      "application/vnd.jupyter.widget-view+json": {
       "model_id": "50717e701d81433ea0c00334a8aba5e1",
       "version_major": 2,
       "version_minor": 0
      }
     },
     "metadata": {},
     "output_type": "display_data"
    }
   ],
   "source": [
    "groundtruth = z\n",
    "groundtruth = groundtruth.groupby(['region']).mean()\n",
    "\n",
    "groundtruth = groundtruth.rename({'simpleMultiply_kernel':'simple_multiply',\n",
    "                                  'coalescedMultiply_kernel':'coalesced_multiply',\n",
    "                                  'sharedABMultiply_kernel':'shared_ab_multiply'})\n",
    "comparison = pd.merge(predicted,groundtruth,left_on='region',right_on='region')\n",
    "comparison.head()"
   ]
  },
  {
   "cell_type": "markdown",
   "metadata": {},
   "source": [
    "**Note:** The predictive accuracy is bad for both the simple and coalesced case -- reasons?"
   ]
  }
 ],
 "metadata": {
  "kernelspec": {
   "display_name": "Python 3",
   "language": "python",
   "name": "python3"
  },
  "language_info": {
   "codemirror_mode": {
    "name": "ipython",
    "version": 3
   },
   "file_extension": ".py",
   "mimetype": "text/x-python",
   "name": "python",
   "nbconvert_exporter": "python",
   "pygments_lexer": "ipython3",
   "version": "3.5.2"
  },
  "toc": {
   "base_numbering": 1,
   "nav_menu": {},
   "number_sections": false,
   "sideBar": false,
   "skip_h1_title": false,
   "title_cell": "Table of Contents",
   "title_sidebar": "Contents",
   "toc_cell": false,
   "toc_position": {},
   "toc_section_display": false,
   "toc_window_display": false
  }
 },
 "nbformat": 4,
 "nbformat_minor": 2
}
